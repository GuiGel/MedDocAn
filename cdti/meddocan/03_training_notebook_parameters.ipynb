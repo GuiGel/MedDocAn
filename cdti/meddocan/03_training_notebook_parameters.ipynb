{
 "cells": [
  {
   "cell_type": "code",
   "execution_count": 1,
   "metadata": {},
   "outputs": [
    {
     "name": "stderr",
     "output_type": "stream",
     "text": [
      "/home/wave/Project/MedDocAn/.venv/lib/python3.8/site-packages/requests/__init__.py:109: RequestsDependencyWarning: urllib3 (1.26.9) or chardet (5.0.0)/charset_normalizer (2.0.12) doesn't match a supported version!\n",
      "  warnings.warn(\n"
     ]
    }
   ],
   "source": [
    "from pathlib import Path\n",
    "\n",
    "from flair.models.sequence_tagger_model import SequenceTagger\n",
    "from myst_nb import glue\n",
    "import pandas as pd\n",
    "import torch\n"
   ]
  },
  {
   "cell_type": "code",
   "execution_count": 13,
   "metadata": {},
   "outputs": [
    {
     "data": {
      "text/html": [
       "<style type=\"text/css\">\n",
       "#T_f8446 th.col_heading.level0 {\n",
       "  text-align: left;\n",
       "  font-size: 1.5em;\n",
       "}\n",
       "#T_f8446  {\n",
       "  border: 1px solid grey;\n",
       "}\n",
       "#T_f8446 tbody td {\n",
       "  border: 1px solid grey;\n",
       "}\n",
       "#T_f8446 th {\n",
       "  border: 1px solid grey;\n",
       "}\n",
       "#T_f8446_row0_col0 {\n",
       "  background-color: #081d58;\n",
       "  color: #f1f1f1;\n",
       "}\n",
       "#T_f8446_row0_col1 {\n",
       "  background-color: #f2fabc;\n",
       "  color: #000000;\n",
       "}\n",
       "#T_f8446_row0_col2 {\n",
       "  background-color: #2076b3;\n",
       "  color: #f1f1f1;\n",
       "}\n",
       "#T_f8446_row0_col3 {\n",
       "  background-color: #f1faba;\n",
       "  color: #000000;\n",
       "}\n",
       "#T_f8446_row0_col4 {\n",
       "  background-color: #2073b2;\n",
       "  color: #f1f1f1;\n",
       "}\n",
       "#T_f8446_row0_col5 {\n",
       "  background-color: #ffffd9;\n",
       "  color: #000000;\n",
       "}\n",
       "#T_f8446_row0_col6 {\n",
       "  background-color: #2498c1;\n",
       "  color: #f1f1f1;\n",
       "}\n",
       "</style>\n",
       "<table id=\"T_f8446\">\n",
       "  <thead>\n",
       "    <tr>\n",
       "      <th class=\"blank level0\" >&nbsp;</th>\n",
       "      <th id=\"T_f8446_level0_col0\" class=\"col_heading level0 col0\" colspan=\"3\">FINETUNE</th>\n",
       "      <th id=\"T_f8446_level0_col3\" class=\"col_heading level0 col3\" colspan=\"4\">LSTM CRF</th>\n",
       "    </tr>\n",
       "    <tr>\n",
       "      <th class=\"blank level1\" >&nbsp;</th>\n",
       "      <th id=\"T_f8446_level1_col0\" class=\"col_heading level1 col0\" >XLMR</th>\n",
       "      <th id=\"T_f8446_level1_col1\" class=\"col_heading level1 col1\" >BETO</th>\n",
       "      <th id=\"T_f8446_level1_col2\" class=\"col_heading level1 col2\" >BETO + WE</th>\n",
       "      <th id=\"T_f8446_level1_col3\" class=\"col_heading level1 col3\" >BETO</th>\n",
       "      <th id=\"T_f8446_level1_col4\" class=\"col_heading level1 col4\" >BETO + WE</th>\n",
       "      <th id=\"T_f8446_level1_col5\" class=\"col_heading level1 col5\" >FLAIR</th>\n",
       "      <th id=\"T_f8446_level1_col6\" class=\"col_heading level1 col6\" >FLAIR + WE</th>\n",
       "    </tr>\n",
       "  </thead>\n",
       "  <tbody>\n",
       "    <tr>\n",
       "      <th id=\"T_f8446_level0_row0\" class=\"row_heading level0 row0\" >Numero de parámetros en Million</th>\n",
       "      <td id=\"T_f8446_row0_col0\" class=\"data row0 col0\" >560</td>\n",
       "      <td id=\"T_f8446_row0_col1\" class=\"data row0 col1\" >110</td>\n",
       "      <td id=\"T_f8446_row0_col2\" class=\"data row0 col2\" >406</td>\n",
       "      <td id=\"T_f8446_row0_col3\" class=\"data row0 col3\" >114</td>\n",
       "      <td id=\"T_f8446_row0_col4\" class=\"data row0 col4\" >410</td>\n",
       "      <td id=\"T_f8446_row0_col5\" class=\"data row0 col5\" >64</td>\n",
       "      <td id=\"T_f8446_row0_col6\" class=\"data row0 col6\" >361</td>\n",
       "    </tr>\n",
       "  </tbody>\n",
       "</table>\n"
      ],
      "text/plain": [
       "<pandas.io.formats.style.Styler at 0x7f78d6a4ddc0>"
      ]
     },
     "metadata": {
      "scrapbook": {
       "mime_prefix": "",
       "name": "model_parameters"
      }
     },
     "output_type": "display_data"
    }
   ],
   "source": [
    "mdpths = {\n",
    "    (\"FINETUNE\", \"XLMR\"): \"/home/wave/Project/MedDocAn/experiments/corpus_sentence_xlmrl_context/an_wh_rs_False_dpt_0_emb_xlm-roberta-large-cased-context_FT_True_Ly_-1_seed_1_lr_5e-06_it_40_bs_4_opti_AdamW_pjct_emb_False_sdl_LinearSchedulerWithWarmup_use_crf_False_use_rnn_False_wup_0.1/0/final-model.pt\",\n",
    "    (\"FINETUNE\", \"BETO\"): \"/home/wave/Project/MedDocAn/experiments/corpus_sentence_bert_context_finetune/an_wh_rs_False_dpt_0_emb_beto-cased-context_FT_True_Ly_-1_seed_1_lr_5e-06_it_150_bs_4_opti_AdamW_pjct_emb_False_sdl_LinearSchedulerWithWarmup_use_crf_False_use_rnn_False_wup_0.1/0/final-model.pt\",\n",
    "    (\"FINETUNE\", \"BETO + WE\"): \"/home/wave/Project/MedDocAn/experiments/corpus_sentence_bert_context_we_finetune_it_150/an_wh_rs_False_dpt_0_emb_Stack(0_es-wiki-fasttext-300d-1M, 1_1-beto-cased_FT_True_Ly_-1_seed_1)_lr_5e-06_it_150_bs_4_opti_AdamW_pjct_emb_False_sdl_LinearSchedulerWithWarmup_use_crf_False_use_rnn_False_wup_0.1/0/final-model.pt\",\n",
    "    (\"LSTM CRF\", \"BETO\"): \"/home/wave/Project/MedDocAn/experiments/corpus_sentence_bert_context_lstm_crf/an_wh_rs_False_dpt_0_emb_beto_Ly_all_mean_context_seed_1_hdn_sz_256_lr_0.1_it_500_bs_4_opti_SGD_pjct_emb_False_rnn_ly_2_sdl_AnnealOnPlateau_use_crf_True_use_rnn_True/0/final-model.pt\",\n",
    "    (\"LSTM CRF\", \"BETO + WE\"): \"/home/wave/Project/MedDocAn/experiments/corpus_sentence_bert_context_we_lstm_crf/an_wh_rs_False_dpt_0_emb_Stack(0_es-wiki-fasttext-300d-1M, 1_1-beto_Ly_all_mean_context_seed_1)_hdn_sz_256_lr_0.1_it_500_bs_4_opti_SGD_pjct_emb_False_rnn_ly_2_sdl_AnnealOnPlateau_use_crf_True_use_rnn_True/0/final-model.pt\",\n",
    "    (\"LSTM CRF\", \"FLAIR\"): \"/home/wave/Project/MedDocAn/experiments/corpus_sentence_flair_lstm_crf/an_wh_rs_True_dpt_0.08716810045694838_emb_seed_1_Stack(0_lm-es-forward.pt, 1_lm-es-backward.pt)_hdn_sz_256_lr_0.1_it_150_bs_4_opti_SGD_pjct_emb_True_rnn_ly_2_sdl_AnnealOnPlateau_use_crf_True_use_rnn_True/0/final-model.pt\",\n",
    "    (\"LSTM CRF\", \"FLAIR + WE\"): \"/home/wave/Project/MedDocAn/experiments/corpus_sentence_flair_we_lstm_crf/results_seed_10/final-model.pt\",\n",
    "}\n",
    "\n",
    "def get_parameter_num(model_path: Path):\n",
    "    model = SequenceTagger.load(model_path)\n",
    "    parameters = model.parameters()\n",
    "    return sum(map(torch.numel, parameters))\n",
    "\n",
    "model_parameters_num = {k: get_parameter_num(v) for k, v in mdpths.items()}\n",
    "\n",
    "df = (pd.DataFrame(model_parameters_num, index=[\"Numero de parámetros en Million\"], dtype=int) / 1e6)\n",
    "\n",
    "def make_pretty(styler):\n",
    "    styler.background_gradient(axis=None, cmap=\"YlGnBu\")\n",
    "    styler.set_table_styles([\n",
    "        {'selector': 'th.col_heading.level0', 'props': 'text-align: center; font-size: 1.5em;'},\n",
    "        {\"selector\": \"\", \"props\": [(\"border\", \"1px solid grey\")]},\n",
    "        {\"selector\": \"tbody td\", \"props\": [(\"border\", \"1px solid grey\")]},\n",
    "        {\"selector\": \"th\", \"props\": [(\"border\", \"1px solid grey\")]},\n",
    "    ], overwrite=False)\n",
    "    styler.format( \"{:.0f}\",)\n",
    "    return styler\n",
    "\n",
    "style = df.style.pipe(make_pretty)\n",
    "\n",
    "glue(\"model_parameters\", style)\n"
   ]
  },
  {
   "cell_type": "code",
   "execution_count": null,
   "metadata": {},
   "outputs": [],
   "source": []
  }
 ],
 "metadata": {
  "kernelspec": {
   "display_name": "Python 3.8.3 ('.venv': poetry)",
   "language": "python",
   "name": "python3"
  },
  "language_info": {
   "codemirror_mode": {
    "name": "ipython",
    "version": 3
   },
   "file_extension": ".py",
   "mimetype": "text/x-python",
   "name": "python",
   "nbconvert_exporter": "python",
   "pygments_lexer": "ipython3",
   "version": "3.8.3"
  },
  "orig_nbformat": 4,
  "vscode": {
   "interpreter": {
    "hash": "0f89559bc32b8577479c9159291558d358fde821c77c8596ffd3d3e81e733cec"
   }
  }
 },
 "nbformat": 4,
 "nbformat_minor": 2
}
