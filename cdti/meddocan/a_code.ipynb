{
 "cells": [
  {
   "cell_type": "code",
   "execution_count": 1,
   "id": "55c6b03a",
   "metadata": {
    "tags": [
     "hide-output",
     "remove-input"
    ]
   },
   "outputs": [],
   "source": [
    "import warnings\n",
    "warnings.filterwarnings(\"ignore\", category=FutureWarning) "
   ]
  },
  {
   "cell_type": "markdown",
   "id": "7e3c23e4",
   "metadata": {},
   "source": [
    "# Código\n",
    "\n",
    "```{note}\n",
    "El proyecto completo está disponible en [github](https://github.com/GuiGel/MedDocAn).\n",
    "```"
   ]
  },
  {
   "cell_type": "markdown",
   "id": "8f38f4db",
   "metadata": {},
   "source": [
    "## Meddocan pipeline"
   ]
  },
  {
   "cell_type": "markdown",
   "id": "9a327f2f",
   "metadata": {},
   "source": [
    "Una de las tareas es obtener un preprocesso correcto de los informes clínicos a traves de un objeto `spacy.tokens.Doc` a partir de cualquier cadena de caracteres. Por ello utilizaremos el `meddocan.language.pipeline.meddocan_pipeline` creado con la ayuda de la biblioteca [spaCy](https://spacy.io/) para adaptarlo a nuestras necesidades. El código relativo a la creación del pipeline se puede encontrar en el paquete [meddocan/language](https://github.com/GuiGel/MedDocAn/tree/master/meddocan/language).\n",
    "\n",
    "Por otra parte tenemos que poder leer y extraer la información relevante de los documentos provisto en el formato Brat. Es decir que cada informe clínico esta compuesto de 2 ficheros. Uno contiene el texto bruto y el otro las anotaciones. El código relativo de esa parte se encuentra en el paquete [meddocan/data](https://github.com/GuiGel/MedDocAn/tree/master/meddocan/data).\n",
    "\n",
    "Para ver cómo funciona, seleccionamos un informe médico gracias al objeto `meddocan.data.docs_iterators.GsDocs` que permite acceder a los documentos del dataset meddocan directamente como objetos `spacy.tokens.Doc` con varios atributos específicos."
   ]
  },
  {
   "cell_type": "code",
   "execution_count": 2,
   "id": "2ae30bef",
   "metadata": {},
   "outputs": [],
   "source": [
    "from pathlib import Path\n",
    "from typing import List, Tuple\n",
    "\n",
    "import pandas as pd\n",
    "from spacy import displacy\n",
    "\n",
    "from meddocan.data import meddocan_zip, ArchiveFolder\n",
    "from meddocan.data.containers import BratAnnotations, BratFilesPair, BratSpan\n",
    "from meddocan.data.docs_iterators import GsDocs\n",
    "\n",
    "gs_docs = GsDocs(ArchiveFolder.train)\n",
    "docs_with_brat_pair = iter(gs_docs)\n",
    "doc_with_brat_pair = next(docs_with_brat_pair)"
   ]
  },
  {
   "cell_type": "markdown",
   "id": "38eee081",
   "metadata": {},
   "source": [
    "El objecto `doc_with_brat_pair` creado por `GsDocs` tiene 2 atributos."
   ]
  },
  {
   "cell_type": "code",
   "execution_count": 3,
   "id": "e94b9e97",
   "metadata": {},
   "outputs": [
    {
     "data": {
      "text/plain": [
       "['brat_files_pair', 'doc']"
      ]
     },
     "execution_count": 3,
     "metadata": {},
     "output_type": "execute_result"
    }
   ],
   "source": [
    "[attr for attr in vars(doc_with_brat_pair).keys()]"
   ]
  },
  {
   "cell_type": "markdown",
   "id": "a1f24f15",
   "metadata": {},
   "source": [
    "El atributo `brat_files_pair` es un objeto `meddocan.data.docs_iterators.BratFilesPair` que indica la ubicación de los ficheros originales correspondiendo al attributo `doc`."
   ]
  },
  {
   "cell_type": "code",
   "execution_count": 4,
   "id": "daf59499",
   "metadata": {},
   "outputs": [
    {
     "data": {
      "text/html": [
       "<div>\n",
       "<style scoped>\n",
       "    .dataframe tbody tr th:only-of-type {\n",
       "        vertical-align: middle;\n",
       "    }\n",
       "\n",
       "    .dataframe tbody tr th {\n",
       "        vertical-align: top;\n",
       "    }\n",
       "\n",
       "    .dataframe thead th {\n",
       "        text-align: right;\n",
       "    }\n",
       "</style>\n",
       "<table border=\"1\" class=\"dataframe\">\n",
       "  <thead>\n",
       "    <tr style=\"text-align: right;\">\n",
       "      <th></th>\n",
       "      <th>type</th>\n",
       "      <th>txt</th>\n",
       "      <th>ann</th>\n",
       "    </tr>\n",
       "  </thead>\n",
       "  <tbody>\n",
       "    <tr>\n",
       "      <th>0</th>\n",
       "      <td>BratFilesPair</td>\n",
       "      <td>S0004-06142005000500011-1.ann</td>\n",
       "      <td>S0004-06142005000500011-1.txt</td>\n",
       "    </tr>\n",
       "  </tbody>\n",
       "</table>\n",
       "</div>"
      ],
      "text/plain": [
       "            type                            txt                            ann\n",
       "0  BratFilesPair  S0004-06142005000500011-1.ann  S0004-06142005000500011-1.txt"
      ]
     },
     "execution_count": 4,
     "metadata": {},
     "output_type": "execute_result"
    }
   ],
   "source": [
    "pd.DataFrame(\n",
    "    [type(doc_with_brat_pair.brat_files_pair).__qualname__,\n",
    "     doc_with_brat_pair.brat_files_pair.ann.name,\n",
    "     doc_with_brat_pair.brat_files_pair.txt.name],\n",
    "    index=[\"type\", \"txt\", \"ann\"]\n",
    ").T"
   ]
  },
  {
   "cell_type": "markdown",
   "id": "0d14d6e5",
   "metadata": {},
   "source": [
    "Lo que hace `GsDocs` es crear un objecto `Doc` a partir de un objeto `meddocan.data.docs_iterators.DocWithBratPair` utilizando el `MedocanPipeline`.\n",
    "\n",
    "En una primera fase el ``MedocanPipeline`` recibe el texto contenido en el fichero original *S0004-06142005000500011-1.txt* como argumento.  \n",
    "\n",
    "Miramos el contenido del fichero utilizando el atributo `doc`."
   ]
  },
  {
   "cell_type": "code",
   "execution_count": 5,
   "id": "0d410799",
   "metadata": {},
   "outputs": [
    {
     "data": {
      "text/plain": [
       "Datos del paciente.\n",
       "Nombre:  Ernesto.\n",
       "Apellidos: Rivera Bueno.\n",
       "NHC: 368503.\n",
       "NASS: 26 63514095.\n",
       "Domicilio:  Calle Miguel Benitez 90.\n",
       "Localidad/ Provincia: Madrid.\n",
       "CP: 28016.\n",
       "Datos asistenciales.\n",
       "Fecha de nacimiento: 03/03/1946.\n",
       "País: España.\n",
       "Edad: 70 años Sexo: H.\n",
       "Fecha de Ingreso: 12/12/2016.\n",
       "Médico:  Ignacio Navarro Cuéllar NºCol: 28 28 70973.\n",
       "Informe clínico del paciente: Paciente de 70 años de edad, minero jubilado, sin alergias medicamentosas conocidas, que presenta como antecedentes personales: accidente laboral antiguo con fracturas vertebrales y costales; intervenido de enfermedad de Dupuytren en mano derecha y by-pass iliofemoral izquierdo; Diabetes Mellitus tipo II, hipercolesterolemia e hiperuricemia; enolismo activo, fumador de 20 cigarrillos / día.\n",
       "Es derivado desde Atención Primaria por presentar hematuria macroscópica postmiccional en una ocasión y microhematuria persistente posteriormente, con micciones normales.\n",
       "En la exploración física presenta un buen estado general, con abdomen y genitales normales; tacto rectal compatible con adenoma de próstata grado I/IV.\n",
       "En la analítica de orina destaca la existencia de 4 hematíes/ campo y 0-5 leucocitos/campo; resto de sedimento normal.\n",
       "Hemograma normal; en la bioquímica destaca una glucemia de 169 mg/dl y triglicéridos de 456 mg/dl; función hepática y renal normal. PSA de 1.16 ng/ml.\n",
       "Las citologías de orina son repetidamente sospechosas de malignidad.\n",
       "En la placa simple de abdomen se valoran cambios degenerativos en columna lumbar y calcificaciones vasculares en ambos hipocondrios y en pelvis.\n",
       "La ecografía urológica pone de manifiesto la existencia de quistes corticales simples en riñón derecho, vejiga sin alteraciones con buena capacidad y próstata con un peso de 30 g.\n",
       "En la UIV se observa normofuncionalismo renal bilateral, calcificaciones sobre silueta renal derecha y uréteres arrosariados con imágenes de adición en el tercio superior de ambos uréteres, en relación a pseudodiverticulosis ureteral. El cistograma demuestra una vejiga con buena capacidad, pero paredes trabeculadas en relación a vejiga de esfuerzo. La TC abdominal es normal.\n",
       "La cistoscopia descubre la existencia de pequeñas tumoraciones vesicales, realizándose resección transuretral con el resultado anatomopatológico de carcinoma urotelial superficial de vejiga.\n",
       "Remitido por: Ignacio Navarro Cuéllar c/ del Abedul 5-7, 2º dcha 28036 Madrid, España E-mail: nnavcu@hotmail.com."
      ]
     },
     "execution_count": 5,
     "metadata": {},
     "output_type": "execute_result"
    }
   ],
   "source": [
    "gold = doc_with_brat_pair.doc\n",
    "gold"
   ]
  },
  {
   "cell_type": "markdown",
   "id": "23726240",
   "metadata": {},
   "source": [
    "  En un segunda fase se le asigna las entidades extraídas del fichero *S0004-06142005000500011-1.ann* utilizando el método ``spacy.tokens.Doc.set_ents``.   \n",
    "  Miramos el fichero al formato *.brat* que contiene la anotaciones para hacerse una idea."
   ]
  },
  {
   "cell_type": "code",
   "execution_count": 6,
   "id": "86bb9685",
   "metadata": {},
   "outputs": [
    {
     "name": "stdout",
     "output_type": "stream",
     "text": [
      "T1\tFECHAS 215 225\t03/03/1946\n",
      "T2\tCORREO_ELECTRONICO 2421 2439\tnnavcu@hotmail.com\n",
      "T3\tPAIS 2406 2412\tEspaña\n",
      "T4\tTERRITORIO 2398 2404\tMadrid\n",
      "T5\tTERRITORIO 2392 2397\t28036\n",
      "T6\tCALLE 2365 2391\tc/ del Abedul 5-7, 2º dcha\n",
      "T7\tNOMBRE_PERSONAL_SANITARIO 303 326\tIgnacio Navarro Cuéllar\n",
      "T8\tNOMBRE_PERSONAL_SANITARIO 2341 2364\tIgnacio Navarro Cuéllar\n",
      "T9\tEDAD_SUJETO_ASISTENCIA 389 396\t70 años\n",
      "T10\tID_TITULACION_PERSONAL_SANITARIO 334 345\t28 28 70973\n",
      "T11\tFECHAS 282 292\t12/12/2016\n",
      "T12\tSEXO_SUJETO_ASISTENCIA 261 262\tH\n",
      "T13\tEDAD_SUJETO_ASISTENCIA 247 254\t70 años\n",
      "T14\tPAIS 233 239\tEspaña\n",
      "T15\tTERRITORIO 166 171\t28016\n",
      "T16\tTERRITORIO 154 160\tMadrid\n",
      "T17\tCALLE 107 130\tCalle Miguel Benitez 90\n",
      "T18\tID_ASEGURAMIENTO 82 93\t26 63514095\n",
      "T19\tID_SUJETO_ASISTENCIA 68 74\t368503\n",
      "T20\tNOMBRE_SUJETO_ASISTENCIA 49 61\tRivera Bueno\n",
      "T21\tNOMBRE_SUJETO_ASISTENCIA 29 36\tErnesto\n",
      "\n"
     ]
    }
   ],
   "source": [
    "print(doc_with_brat_pair.brat_files_pair.ann.read_text())"
   ]
  },
  {
   "cell_type": "markdown",
   "id": "fe03bf55",
   "metadata": {},
   "source": [
    "Ahora que tenemos una idea mas clara de nuestros datos originales, observamos la serie de pre-procesos aplicados por el `meddocan_pipeline` y ``GsDocs`` gracias a la instancia `gold` del objeto ``Doc`` para preparar el dataset a fin de entrenar un red neuronal con Flair.\n",
    "\n",
    "```{note}\n",
    "En el ejemplo solo miramos las 3 primeras lineas del objeto ``Doc``.\n",
    "```"
   ]
  },
  {
   "cell_type": "code",
   "execution_count": 7,
   "id": "ba8362fb",
   "metadata": {},
   "outputs": [
    {
     "name": "stdout",
     "output_type": "stream",
     "text": [
      "---------------------- Sentence 1 ------------------------------\n"
     ]
    },
    {
     "data": {
      "text/html": [
       "<div>\n",
       "<style scoped>\n",
       "    .dataframe tbody tr th:only-of-type {\n",
       "        vertical-align: middle;\n",
       "    }\n",
       "\n",
       "    .dataframe tbody tr th {\n",
       "        vertical-align: top;\n",
       "    }\n",
       "\n",
       "    .dataframe thead th {\n",
       "        text-align: right;\n",
       "    }\n",
       "</style>\n",
       "<table border=\"1\" class=\"dataframe\">\n",
       "  <thead>\n",
       "    <tr style=\"text-align: right;\">\n",
       "      <th></th>\n",
       "      <th>text</th>\n",
       "      <th>bio</th>\n",
       "      <th>etiqueta</th>\n",
       "    </tr>\n",
       "  </thead>\n",
       "  <tbody>\n",
       "    <tr>\n",
       "      <th>0</th>\n",
       "      <td>Datos</td>\n",
       "      <td>O</td>\n",
       "      <td></td>\n",
       "    </tr>\n",
       "    <tr>\n",
       "      <th>1</th>\n",
       "      <td>del</td>\n",
       "      <td>O</td>\n",
       "      <td></td>\n",
       "    </tr>\n",
       "    <tr>\n",
       "      <th>2</th>\n",
       "      <td>paciente</td>\n",
       "      <td>O</td>\n",
       "      <td></td>\n",
       "    </tr>\n",
       "    <tr>\n",
       "      <th>3</th>\n",
       "      <td>.</td>\n",
       "      <td>O</td>\n",
       "      <td></td>\n",
       "    </tr>\n",
       "    <tr>\n",
       "      <th>4</th>\n",
       "      <td>\\n</td>\n",
       "      <td>O</td>\n",
       "      <td></td>\n",
       "    </tr>\n",
       "  </tbody>\n",
       "</table>\n",
       "</div>"
      ],
      "text/plain": [
       "       text bio etiqueta\n",
       "0     Datos   O         \n",
       "1       del   O         \n",
       "2  paciente   O         \n",
       "3         .   O         \n",
       "4        \\n   O         "
      ]
     },
     "metadata": {},
     "output_type": "display_data"
    },
    {
     "name": "stdout",
     "output_type": "stream",
     "text": [
      "---------------------- Sentence 2 ------------------------------\n"
     ]
    },
    {
     "data": {
      "text/html": [
       "<div>\n",
       "<style scoped>\n",
       "    .dataframe tbody tr th:only-of-type {\n",
       "        vertical-align: middle;\n",
       "    }\n",
       "\n",
       "    .dataframe tbody tr th {\n",
       "        vertical-align: top;\n",
       "    }\n",
       "\n",
       "    .dataframe thead th {\n",
       "        text-align: right;\n",
       "    }\n",
       "</style>\n",
       "<table border=\"1\" class=\"dataframe\">\n",
       "  <thead>\n",
       "    <tr style=\"text-align: right;\">\n",
       "      <th></th>\n",
       "      <th>text</th>\n",
       "      <th>bio</th>\n",
       "      <th>etiqueta</th>\n",
       "    </tr>\n",
       "  </thead>\n",
       "  <tbody>\n",
       "    <tr>\n",
       "      <th>0</th>\n",
       "      <td>Nombre</td>\n",
       "      <td>O</td>\n",
       "      <td></td>\n",
       "    </tr>\n",
       "    <tr>\n",
       "      <th>1</th>\n",
       "      <td>:</td>\n",
       "      <td>O</td>\n",
       "      <td></td>\n",
       "    </tr>\n",
       "    <tr>\n",
       "      <th>2</th>\n",
       "      <td></td>\n",
       "      <td>O</td>\n",
       "      <td></td>\n",
       "    </tr>\n",
       "    <tr>\n",
       "      <th>3</th>\n",
       "      <td>Ernesto</td>\n",
       "      <td>B</td>\n",
       "      <td>NOMBRE_SUJETO_ASISTENCIA</td>\n",
       "    </tr>\n",
       "    <tr>\n",
       "      <th>4</th>\n",
       "      <td>.</td>\n",
       "      <td>O</td>\n",
       "      <td></td>\n",
       "    </tr>\n",
       "    <tr>\n",
       "      <th>5</th>\n",
       "      <td>\\n</td>\n",
       "      <td>O</td>\n",
       "      <td></td>\n",
       "    </tr>\n",
       "  </tbody>\n",
       "</table>\n",
       "</div>"
      ],
      "text/plain": [
       "      text bio                  etiqueta\n",
       "0   Nombre   O                          \n",
       "1        :   O                          \n",
       "2            O                          \n",
       "3  Ernesto   B  NOMBRE_SUJETO_ASISTENCIA\n",
       "4        .   O                          \n",
       "5       \\n   O                          "
      ]
     },
     "metadata": {},
     "output_type": "display_data"
    },
    {
     "name": "stdout",
     "output_type": "stream",
     "text": [
      "---------------------- Sentence 3 ------------------------------\n"
     ]
    },
    {
     "data": {
      "text/html": [
       "<div>\n",
       "<style scoped>\n",
       "    .dataframe tbody tr th:only-of-type {\n",
       "        vertical-align: middle;\n",
       "    }\n",
       "\n",
       "    .dataframe tbody tr th {\n",
       "        vertical-align: top;\n",
       "    }\n",
       "\n",
       "    .dataframe thead th {\n",
       "        text-align: right;\n",
       "    }\n",
       "</style>\n",
       "<table border=\"1\" class=\"dataframe\">\n",
       "  <thead>\n",
       "    <tr style=\"text-align: right;\">\n",
       "      <th></th>\n",
       "      <th>text</th>\n",
       "      <th>bio</th>\n",
       "      <th>etiqueta</th>\n",
       "    </tr>\n",
       "  </thead>\n",
       "  <tbody>\n",
       "    <tr>\n",
       "      <th>0</th>\n",
       "      <td>Apellidos</td>\n",
       "      <td>O</td>\n",
       "      <td></td>\n",
       "    </tr>\n",
       "    <tr>\n",
       "      <th>1</th>\n",
       "      <td>:</td>\n",
       "      <td>O</td>\n",
       "      <td></td>\n",
       "    </tr>\n",
       "    <tr>\n",
       "      <th>2</th>\n",
       "      <td>Rivera</td>\n",
       "      <td>B</td>\n",
       "      <td>NOMBRE_SUJETO_ASISTENCIA</td>\n",
       "    </tr>\n",
       "    <tr>\n",
       "      <th>3</th>\n",
       "      <td>Bueno</td>\n",
       "      <td>I</td>\n",
       "      <td>NOMBRE_SUJETO_ASISTENCIA</td>\n",
       "    </tr>\n",
       "    <tr>\n",
       "      <th>4</th>\n",
       "      <td>.</td>\n",
       "      <td>O</td>\n",
       "      <td></td>\n",
       "    </tr>\n",
       "    <tr>\n",
       "      <th>5</th>\n",
       "      <td>\\n</td>\n",
       "      <td>O</td>\n",
       "      <td></td>\n",
       "    </tr>\n",
       "  </tbody>\n",
       "</table>\n",
       "</div>"
      ],
      "text/plain": [
       "        text bio                  etiqueta\n",
       "0  Apellidos   O                          \n",
       "1          :   O                          \n",
       "2     Rivera   B  NOMBRE_SUJETO_ASISTENCIA\n",
       "3      Bueno   I  NOMBRE_SUJETO_ASISTENCIA\n",
       "4          .   O                          \n",
       "5         \\n   O                          "
      ]
     },
     "metadata": {},
     "output_type": "display_data"
    }
   ],
   "source": [
    "max_lines = 3\n",
    "\n",
    "for i, sent in enumerate(gold.sents):\n",
    "    print(f\"--------------- Sentence {i + 1} ---------------\")\n",
    "    a = zip(*((tok.text, tok.ent_iob_, tok.ent_type_) for tok in sent))\n",
    "    df = pd.DataFrame(a, index=[\"text\", \"bio\", \"etiqueta\"])\n",
    "    display(df.T)\n",
    "    if i >= max_lines - 1:\n",
    "        break"
   ]
  },
  {
   "cell_type": "markdown",
   "id": "ce964d7b",
   "metadata": {},
   "source": [
    "Para entender un poco mejor lo que hacemos miramos los differentes componentes del `MeddocanPipeline`."
   ]
  },
  {
   "cell_type": "code",
   "execution_count": 8,
   "id": "be15f15c",
   "metadata": {},
   "outputs": [
    {
     "data": {
      "text/html": [
       "<div>\n",
       "<style scoped>\n",
       "    .dataframe tbody tr th:only-of-type {\n",
       "        vertical-align: middle;\n",
       "    }\n",
       "\n",
       "    .dataframe tbody tr th {\n",
       "        vertical-align: top;\n",
       "    }\n",
       "\n",
       "    .dataframe thead th {\n",
       "        text-align: right;\n",
       "    }\n",
       "</style>\n",
       "<table border=\"1\" class=\"dataframe\">\n",
       "  <thead>\n",
       "    <tr style=\"text-align: right;\">\n",
       "      <th></th>\n",
       "      <th>0</th>\n",
       "      <th>1</th>\n",
       "      <th>2</th>\n",
       "      <th>3</th>\n",
       "    </tr>\n",
       "  </thead>\n",
       "  <tbody>\n",
       "    <tr>\n",
       "      <th>componentes</th>\n",
       "      <td>missaligned_splitter</td>\n",
       "      <td>line_sentencizer</td>\n",
       "      <td>predictor</td>\n",
       "      <td>write_methods</td>\n",
       "    </tr>\n",
       "  </tbody>\n",
       "</table>\n",
       "</div>"
      ],
      "text/plain": [
       "                                0                 1          2              3\n",
       "componentes  missaligned_splitter  line_sentencizer  predictor  write_methods"
      ]
     },
     "execution_count": 8,
     "metadata": {},
     "output_type": "execute_result"
    }
   ],
   "source": [
    "pd.DataFrame(gs_docs.nlp.pipe_names, columns=[\"componentes\"]).T"
   ]
  },
  {
   "cell_type": "markdown",
   "id": "fd24e2ac",
   "metadata": {},
   "source": [
    "1. El primer elemento de nuestro pipeline es el tokenizer seguido del componente `missaligned_splitter` que nos permite afinar la tokenización de tal forma que cada token se corresponda exactamente con una etiqueta al formato BIO.\n",
    "2. El segundo componente, `line_sentencizer` permite partir el texto en frases. En este caso se corresponde a un párrafo.\n",
    "3. El componente `predictor` nos permite utilizar un modelo de `Flair` de tal forma que se integra al pipeline. De esa mañera se puede hacer directamente predicciones utilizando un objeto `Doc` y un modelo entrenado previamente.\n",
    "4. El componente `write_methods` añade los métodos ``to_connl03`` y ``to_ann`` al objecto ``Doc`` que sirven a crear los ficheros necesarios para:\n",
    "    - Crear un `flair.data.Corpus` que va a permitir entrenar un modelo con `Flair`.\n",
    "    - Evaluar un modelo utilizando el script de evaluación propio de la competición.\n",
    "\n",
    "``````{note}\n",
    "Hemos integrado el [script de evaluation](https://github.com/PlanTL-GOB-ES/MEDDOCAN-Evaluation-Script) dentro de nuestra librería con algunas modificaciones y un poco mas de documentación, con el objetivo de unificar el workflow del entrenamiento hasta la evaluación.  \n",
    "La evaluación se hace entonces directamente desde nuestra librería gracias al commando: \n",
    "\n",
    "```console\n",
    "$ meddocan eval --help\n",
    "Usage: meddocan eval [OPTIONS] MODEL NAME\n",
    "Evaluate the model with the `meddocan` metrics.\n",
    "    \n",
    "    Compute f1-score for Ner (start, end, tag), Span (start, end) and merged\n",
    "    span if not there is no number or letter between consecutive span.\n",
    "\n",
    "    The function produce the following temporary folder hierarchy:\n",
    "\n",
    "    evaluation_root\n",
    "    ├── golds\n",
    "    │   ├── dev\n",
    "    |   |    └── brat\n",
    "    |   |       ├── file-1.ann\n",
    "    |   |       ├── file-1.txt\n",
    "    |   |       ├── ...\n",
    "    |   |       └── file-n.ann\n",
    "    |   └── test\n",
    "    |        └── brat\n",
    "    |           ├── file-1.ann\n",
    "    |           ├── file-1.txt\n",
    "    |           ├── ...\n",
    "    |           └── file-n.ann\n",
    "    │       \n",
    "    └── name\n",
    "        ├── dev\n",
    "        |    └── brat\n",
    "        |       ├── file-1.ann\n",
    "        |       ├── file-1.txt\n",
    "        |       ├── ...\n",
    "        |       └── file-n.ann\n",
    "        └── test\n",
    "             └── brat\n",
    "                ├── file-1.ann\n",
    "                ├── file-1.txt\n",
    "                ├── ...\n",
    "                └── file-n.ann\n",
    "\n",
    "    Then the model is evaluate producing the following files:\n",
    "\n",
    "    evaluation_root/name\n",
    "    ├── dev\n",
    "    │   ├── ner\n",
    "    │   └── spans\n",
    "    └── test\n",
    "        ├── ner\n",
    "        └── spans\n",
    "\n",
    "    And the temporary folder are removed.\n",
    "\n",
    "    Args:\n",
    "        model (str): Path to the ``Flair`` model to evaluate.\n",
    "        name (str): Name of the folder that will holds the results produced by\\\n",
    "            the ``Flair`` model.\n",
    "        evaluation_root (str): Path to the root folder where the\n",
    "            results will be stored.\n",
    "        sentence_splitting (Path): Path to the sub-directory\n",
    "            `sentence_splitting`. This directory is mandatory to compute the\n",
    "            `leak score` evaluation metric.\n",
    "        force (bool, optional): Force to create again the golds standard files.\n",
    "            Defaults to False.\n",
    "\n",
    "Arguments:\n",
    "  MODEL  Path to the Flair model to evaluate.  [required]\n",
    "  NAME   Name of the folder that will holds the results produced by the\n",
    "         ``Flair`` model.  [required]\n",
    "\n",
    "Options:\n",
    "  --evaluation-root PATH     Path to the root folder where the results will be\n",
    "                             stored.\n",
    "  --sentence-splitting PATH  The sub-directory `sentence_splitting` is\n",
    "                             mandatory to compute the `leak score` evaluation\n",
    "                             metric.\n",
    "  --device TEXT              Device to use.  [default: cuda:0]\n",
    "  --help                     Show this message and exit.        \n",
    "```\n",
    "``````"
   ]
  },
  {
   "cell_type": "markdown",
   "id": "863c1265",
   "metadata": {},
   "source": [
    "La entidades anotadas se obtienen utilizando el atributo ``ents`` de nuestro objecto ``spacy.tokens.Doc``."
   ]
  },
  {
   "cell_type": "code",
   "execution_count": 9,
   "id": "17dac042",
   "metadata": {},
   "outputs": [
    {
     "data": {
      "text/html": [
       "<div>\n",
       "<style scoped>\n",
       "    .dataframe tbody tr th:only-of-type {\n",
       "        vertical-align: middle;\n",
       "    }\n",
       "\n",
       "    .dataframe tbody tr th {\n",
       "        vertical-align: top;\n",
       "    }\n",
       "\n",
       "    .dataframe thead th {\n",
       "        text-align: right;\n",
       "    }\n",
       "</style>\n",
       "<table border=\"1\" class=\"dataframe\">\n",
       "  <thead>\n",
       "    <tr style=\"text-align: right;\">\n",
       "      <th></th>\n",
       "      <th>0</th>\n",
       "      <th>1</th>\n",
       "      <th>2</th>\n",
       "      <th>3</th>\n",
       "      <th>4</th>\n",
       "      <th>5</th>\n",
       "      <th>6</th>\n",
       "      <th>7</th>\n",
       "      <th>8</th>\n",
       "      <th>9</th>\n",
       "      <th>...</th>\n",
       "      <th>11</th>\n",
       "      <th>12</th>\n",
       "      <th>13</th>\n",
       "      <th>14</th>\n",
       "      <th>15</th>\n",
       "      <th>16</th>\n",
       "      <th>17</th>\n",
       "      <th>18</th>\n",
       "      <th>19</th>\n",
       "      <th>20</th>\n",
       "    </tr>\n",
       "  </thead>\n",
       "  <tbody>\n",
       "    <tr>\n",
       "      <th>Tag</th>\n",
       "      <td>Ernesto</td>\n",
       "      <td>Rivera Bueno</td>\n",
       "      <td>368503</td>\n",
       "      <td>26 63514095</td>\n",
       "      <td>Calle Miguel Benitez 90</td>\n",
       "      <td>Madrid</td>\n",
       "      <td>28016</td>\n",
       "      <td>03/03/1946</td>\n",
       "      <td>España</td>\n",
       "      <td>70 años</td>\n",
       "      <td>...</td>\n",
       "      <td>12/12/2016</td>\n",
       "      <td>Ignacio Navarro Cuéllar</td>\n",
       "      <td>28 28 70973</td>\n",
       "      <td>70 años</td>\n",
       "      <td>Ignacio Navarro Cuéllar</td>\n",
       "      <td>c/ del Abedul 5-7, 2º dcha</td>\n",
       "      <td>28036</td>\n",
       "      <td>Madrid</td>\n",
       "      <td>España</td>\n",
       "      <td>nnavcu@hotmail.com</td>\n",
       "    </tr>\n",
       "    <tr>\n",
       "      <th>start</th>\n",
       "      <td>29</td>\n",
       "      <td>49</td>\n",
       "      <td>68</td>\n",
       "      <td>82</td>\n",
       "      <td>107</td>\n",
       "      <td>154</td>\n",
       "      <td>166</td>\n",
       "      <td>215</td>\n",
       "      <td>233</td>\n",
       "      <td>247</td>\n",
       "      <td>...</td>\n",
       "      <td>282</td>\n",
       "      <td>303</td>\n",
       "      <td>334</td>\n",
       "      <td>389</td>\n",
       "      <td>2341</td>\n",
       "      <td>2365</td>\n",
       "      <td>2392</td>\n",
       "      <td>2398</td>\n",
       "      <td>2406</td>\n",
       "      <td>2421</td>\n",
       "    </tr>\n",
       "    <tr>\n",
       "      <th>end</th>\n",
       "      <td>36</td>\n",
       "      <td>61</td>\n",
       "      <td>74</td>\n",
       "      <td>93</td>\n",
       "      <td>130</td>\n",
       "      <td>160</td>\n",
       "      <td>171</td>\n",
       "      <td>225</td>\n",
       "      <td>239</td>\n",
       "      <td>254</td>\n",
       "      <td>...</td>\n",
       "      <td>292</td>\n",
       "      <td>326</td>\n",
       "      <td>345</td>\n",
       "      <td>396</td>\n",
       "      <td>2364</td>\n",
       "      <td>2391</td>\n",
       "      <td>2397</td>\n",
       "      <td>2404</td>\n",
       "      <td>2412</td>\n",
       "      <td>2439</td>\n",
       "    </tr>\n",
       "  </tbody>\n",
       "</table>\n",
       "<p>3 rows × 21 columns</p>\n",
       "</div>"
      ],
      "text/plain": [
       "            0             1       2            3                        4   \\\n",
       "Tag    Ernesto  Rivera Bueno  368503  26 63514095  Calle Miguel Benitez 90   \n",
       "start       29            49      68           82                      107   \n",
       "end         36            61      74           93                      130   \n",
       "\n",
       "           5      6           7       8        9   ...          11  \\\n",
       "Tag    Madrid  28016  03/03/1946  España  70 años  ...  12/12/2016   \n",
       "start     154    166         215     233      247  ...         282   \n",
       "end       160    171         225     239      254  ...         292   \n",
       "\n",
       "                            12           13       14                       15  \\\n",
       "Tag    Ignacio Navarro Cuéllar  28 28 70973  70 años  Ignacio Navarro Cuéllar   \n",
       "start                      303          334      389                     2341   \n",
       "end                        326          345      396                     2364   \n",
       "\n",
       "                               16     17      18      19                  20  \n",
       "Tag    c/ del Abedul 5-7, 2º dcha  28036  Madrid  España  nnavcu@hotmail.com  \n",
       "start                        2365   2392    2398    2406                2421  \n",
       "end                          2391   2397    2404    2412                2439  \n",
       "\n",
       "[3 rows x 21 columns]"
      ]
     },
     "execution_count": 9,
     "metadata": {},
     "output_type": "execute_result"
    }
   ],
   "source": [
    "pd.DataFrame(\n",
    "    zip(*[(ent.text, ent.start_char, ent.end_char) for ent in gold.ents]),\n",
    "    index=[\"Tag\", \"start\", \"end\"]\n",
    ").T"
   ]
  },
  {
   "cell_type": "markdown",
   "id": "28d3b5e4",
   "metadata": {},
   "source": [
    "Nuestras entidades son en este ejemplo compuestas del tag y del la position de la entidad en la cadena de caracteres original.\n",
    "\n",
    "Ahora si queremos algo mas visual podemos utilizar la function ``spacy.displacy.render()`` que nos permite trabajar con el objecto ``Doc``."
   ]
  },
  {
   "cell_type": "code",
   "execution_count": 10,
   "id": "dc2c81d8",
   "metadata": {},
   "outputs": [
    {
     "data": {
      "text/html": [
       "<span class=\"tex2jax_ignore\"><div class=\"entities\" style=\"line-height: 2.5; direction: ltr\">Datos del paciente.</br>Nombre:  \n",
       "<mark class=\"entity\" style=\"background: #FF6600; padding: 0.45em 0.6em; margin: 0 0.25em; line-height: 1; border-radius: 0.35em;\">\n",
       "    Ernesto\n",
       "    <span style=\"font-size: 0.8em; font-weight: bold; line-height: 1; border-radius: 0.35em; vertical-align: middle; margin-left: 0.5rem\">NOMBRE_SUJETO_ASISTENCIA</span>\n",
       "</mark>\n",
       ".</br>Apellidos: \n",
       "<mark class=\"entity\" style=\"background: #FF6600; padding: 0.45em 0.6em; margin: 0 0.25em; line-height: 1; border-radius: 0.35em;\">\n",
       "    Rivera Bueno\n",
       "    <span style=\"font-size: 0.8em; font-weight: bold; line-height: 1; border-radius: 0.35em; vertical-align: middle; margin-left: 0.5rem\">NOMBRE_SUJETO_ASISTENCIA</span>\n",
       "</mark>\n",
       ".</br>NHC: \n",
       "<mark class=\"entity\" style=\"background: #FF9900; padding: 0.45em 0.6em; margin: 0 0.25em; line-height: 1; border-radius: 0.35em;\">\n",
       "    368503\n",
       "    <span style=\"font-size: 0.8em; font-weight: bold; line-height: 1; border-radius: 0.35em; vertical-align: middle; margin-left: 0.5rem\">ID_SUJETO_ASISTENCIA</span>\n",
       "</mark>\n",
       ".</br>NASS: \n",
       "<mark class=\"entity\" style=\"background: #00FF7F; padding: 0.45em 0.6em; margin: 0 0.25em; line-height: 1; border-radius: 0.35em;\">\n",
       "    26 63514095\n",
       "    <span style=\"font-size: 0.8em; font-weight: bold; line-height: 1; border-radius: 0.35em; vertical-align: middle; margin-left: 0.5rem\">ID_ASEGURAMIENTO</span>\n",
       "</mark>\n",
       ".</br>Domicilio:  \n",
       "<mark class=\"entity\" style=\"background: #ADFF2F; padding: 0.45em 0.6em; margin: 0 0.25em; line-height: 1; border-radius: 0.35em;\">\n",
       "    Calle Miguel Benitez 90\n",
       "    <span style=\"font-size: 0.8em; font-weight: bold; line-height: 1; border-radius: 0.35em; vertical-align: middle; margin-left: 0.5rem\">CALLE</span>\n",
       "</mark>\n",
       ".</br>Localidad/ Provincia: \n",
       "<mark class=\"entity\" style=\"background: #CCFFFF; padding: 0.45em 0.6em; margin: 0 0.25em; line-height: 1; border-radius: 0.35em;\">\n",
       "    Madrid\n",
       "    <span style=\"font-size: 0.8em; font-weight: bold; line-height: 1; border-radius: 0.35em; vertical-align: middle; margin-left: 0.5rem\">TERRITORIO</span>\n",
       "</mark>\n",
       ".</br>CP: \n",
       "<mark class=\"entity\" style=\"background: #CCFFFF; padding: 0.45em 0.6em; margin: 0 0.25em; line-height: 1; border-radius: 0.35em;\">\n",
       "    28016\n",
       "    <span style=\"font-size: 0.8em; font-weight: bold; line-height: 1; border-radius: 0.35em; vertical-align: middle; margin-left: 0.5rem\">TERRITORIO</span>\n",
       "</mark>\n",
       ".</br>Datos asistenciales.</br>Fecha de nacimiento: \n",
       "<mark class=\"entity\" style=\"background: #FFCCFF; padding: 0.45em 0.6em; margin: 0 0.25em; line-height: 1; border-radius: 0.35em;\">\n",
       "    03/03/1946\n",
       "    <span style=\"font-size: 0.8em; font-weight: bold; line-height: 1; border-radius: 0.35em; vertical-align: middle; margin-left: 0.5rem\">FECHAS</span>\n",
       "</mark>\n",
       ".</br>País: \n",
       "<mark class=\"entity\" style=\"background: #FFA07A; padding: 0.45em 0.6em; margin: 0 0.25em; line-height: 1; border-radius: 0.35em;\">\n",
       "    España\n",
       "    <span style=\"font-size: 0.8em; font-weight: bold; line-height: 1; border-radius: 0.35em; vertical-align: middle; margin-left: 0.5rem\">PAIS</span>\n",
       "</mark>\n",
       ".</br>Edad: \n",
       "<mark class=\"entity\" style=\"background: #7FFF00; padding: 0.45em 0.6em; margin: 0 0.25em; line-height: 1; border-radius: 0.35em;\">\n",
       "    70 años\n",
       "    <span style=\"font-size: 0.8em; font-weight: bold; line-height: 1; border-radius: 0.35em; vertical-align: middle; margin-left: 0.5rem\">EDAD_SUJETO_ASISTENCIA</span>\n",
       "</mark>\n",
       " Sexo: \n",
       "<mark class=\"entity\" style=\"background: #99CCFF; padding: 0.45em 0.6em; margin: 0 0.25em; line-height: 1; border-radius: 0.35em;\">\n",
       "    H\n",
       "    <span style=\"font-size: 0.8em; font-weight: bold; line-height: 1; border-radius: 0.35em; vertical-align: middle; margin-left: 0.5rem\">SEXO_SUJETO_ASISTENCIA</span>\n",
       "</mark>\n",
       ".</br>Fecha de Ingreso: \n",
       "<mark class=\"entity\" style=\"background: #FFCCFF; padding: 0.45em 0.6em; margin: 0 0.25em; line-height: 1; border-radius: 0.35em;\">\n",
       "    12/12/2016\n",
       "    <span style=\"font-size: 0.8em; font-weight: bold; line-height: 1; border-radius: 0.35em; vertical-align: middle; margin-left: 0.5rem\">FECHAS</span>\n",
       "</mark>\n",
       ".</br>Médico:  \n",
       "<mark class=\"entity\" style=\"background: #FFD700; padding: 0.45em 0.6em; margin: 0 0.25em; line-height: 1; border-radius: 0.35em;\">\n",
       "    Ignacio Navarro Cuéllar\n",
       "    <span style=\"font-size: 0.8em; font-weight: bold; line-height: 1; border-radius: 0.35em; vertical-align: middle; margin-left: 0.5rem\">NOMBRE_PERSONAL_SANITARIO</span>\n",
       "</mark>\n",
       " NºCol: \n",
       "<mark class=\"entity\" style=\"background: #FF0000; padding: 0.45em 0.6em; margin: 0 0.25em; line-height: 1; border-radius: 0.35em;\">\n",
       "    28 28 70973\n",
       "    <span style=\"font-size: 0.8em; font-weight: bold; line-height: 1; border-radius: 0.35em; vertical-align: middle; margin-left: 0.5rem\">ID_TITULACION_PERSONAL_SANITARIO</span>\n",
       "</mark>\n",
       ".</br>Informe clínico del paciente: Paciente de \n",
       "<mark class=\"entity\" style=\"background: #7FFF00; padding: 0.45em 0.6em; margin: 0 0.25em; line-height: 1; border-radius: 0.35em;\">\n",
       "    70 años\n",
       "    <span style=\"font-size: 0.8em; font-weight: bold; line-height: 1; border-radius: 0.35em; vertical-align: middle; margin-left: 0.5rem\">EDAD_SUJETO_ASISTENCIA</span>\n",
       "</mark>\n",
       " de edad, minero jubilado, sin alergias medicamentosas conocidas, que presenta como antecedentes personales: accidente laboral antiguo con fracturas vertebrales y costales; intervenido de enfermedad de Dupuytren en mano derecha y by-pass iliofemoral izquierdo; Diabetes Mellitus tipo II, hipercolesterolemia e hiperuricemia; enolismo activo, fumador de 20 cigarrillos / día.</br>Es derivado desde Atención Primaria por presentar hematuria macroscópica postmiccional en una ocasión y microhematuria persistente posteriormente, con micciones normales.</br>En la exploración física presenta un buen estado general, con abdomen y genitales normales; tacto rectal compatible con adenoma de próstata grado I/IV.</br>En la analítica de orina destaca la existencia de 4 hematíes/ campo y 0-5 leucocitos/campo; resto de sedimento normal.</br>Hemograma normal; en la bioquímica destaca una glucemia de 169 mg/dl y triglicéridos de 456 mg/dl; función hepática y renal normal. PSA de 1.16 ng/ml.</br>Las citologías de orina son repetidamente sospechosas de malignidad.</br>En la placa simple de abdomen se valoran cambios degenerativos en columna lumbar y calcificaciones vasculares en ambos hipocondrios y en pelvis.</br>La ecografía urológica pone de manifiesto la existencia de quistes corticales simples en riñón derecho, vejiga sin alteraciones con buena capacidad y próstata con un peso de 30 g.</br>En la UIV se observa normofuncionalismo renal bilateral, calcificaciones sobre silueta renal derecha y uréteres arrosariados con imágenes de adición en el tercio superior de ambos uréteres, en relación a pseudodiverticulosis ureteral. El cistograma demuestra una vejiga con buena capacidad, pero paredes trabeculadas en relación a vejiga de esfuerzo. La TC abdominal es normal.</br>La cistoscopia descubre la existencia de pequeñas tumoraciones vesicales, realizándose resección transuretral con el resultado anatomopatológico de carcinoma urotelial superficial de vejiga.</br>Remitido por: \n",
       "<mark class=\"entity\" style=\"background: #FFD700; padding: 0.45em 0.6em; margin: 0 0.25em; line-height: 1; border-radius: 0.35em;\">\n",
       "    Ignacio Navarro Cuéllar\n",
       "    <span style=\"font-size: 0.8em; font-weight: bold; line-height: 1; border-radius: 0.35em; vertical-align: middle; margin-left: 0.5rem\">NOMBRE_PERSONAL_SANITARIO</span>\n",
       "</mark>\n",
       " \n",
       "<mark class=\"entity\" style=\"background: #ADFF2F; padding: 0.45em 0.6em; margin: 0 0.25em; line-height: 1; border-radius: 0.35em;\">\n",
       "    c/ del Abedul 5-7, 2º dcha\n",
       "    <span style=\"font-size: 0.8em; font-weight: bold; line-height: 1; border-radius: 0.35em; vertical-align: middle; margin-left: 0.5rem\">CALLE</span>\n",
       "</mark>\n",
       " \n",
       "<mark class=\"entity\" style=\"background: #CCFFFF; padding: 0.45em 0.6em; margin: 0 0.25em; line-height: 1; border-radius: 0.35em;\">\n",
       "    28036\n",
       "    <span style=\"font-size: 0.8em; font-weight: bold; line-height: 1; border-radius: 0.35em; vertical-align: middle; margin-left: 0.5rem\">TERRITORIO</span>\n",
       "</mark>\n",
       " \n",
       "<mark class=\"entity\" style=\"background: #CCFFFF; padding: 0.45em 0.6em; margin: 0 0.25em; line-height: 1; border-radius: 0.35em;\">\n",
       "    Madrid\n",
       "    <span style=\"font-size: 0.8em; font-weight: bold; line-height: 1; border-radius: 0.35em; vertical-align: middle; margin-left: 0.5rem\">TERRITORIO</span>\n",
       "</mark>\n",
       ", \n",
       "<mark class=\"entity\" style=\"background: #FFA07A; padding: 0.45em 0.6em; margin: 0 0.25em; line-height: 1; border-radius: 0.35em;\">\n",
       "    España\n",
       "    <span style=\"font-size: 0.8em; font-weight: bold; line-height: 1; border-radius: 0.35em; vertical-align: middle; margin-left: 0.5rem\">PAIS</span>\n",
       "</mark>\n",
       " E-mail: \n",
       "<mark class=\"entity\" style=\"background: #FF4500; padding: 0.45em 0.6em; margin: 0 0.25em; line-height: 1; border-radius: 0.35em;\">\n",
       "    nnavcu@hotmail.com\n",
       "    <span style=\"font-size: 0.8em; font-weight: bold; line-height: 1; border-radius: 0.35em; vertical-align: middle; margin-left: 0.5rem\">CORREO_ELECTRONICO</span>\n",
       "</mark>\n",
       ".</br></div></span>"
      ],
      "text/plain": [
       "<IPython.core.display.HTML object>"
      ]
     },
     "metadata": {},
     "output_type": "display_data"
    }
   ],
   "source": [
    "displacy.render(gold, style=\"ent\")"
   ]
  },
  {
   "cell_type": "markdown",
   "id": "acf6a85e",
   "metadata": {},
   "source": [
    "## Entrenar un modelo con Flair"
   ]
  },
  {
   "cell_type": "markdown",
   "id": "af89083b",
   "metadata": {},
   "source": [
    "La clase ``GsDocs`` sirve a preparar los datos de forma que puedan ser leídos por Flair.  Esto lo hacemos a través del objeto ``meddocan.data.corpus.MEDDOCAN`` que hereda de ``flair.datasets.ColumnCorpus``.  \n",
    "\n",
    "Este corpus permite a la biblioteca Flair acceder directamente a los conjuntos de datos de entrenamiento, validación y prueba."
   ]
  },
  {
   "cell_type": "code",
   "execution_count": 11,
   "id": "214c2bc0",
   "metadata": {},
   "outputs": [
    {
     "name": "stdout",
     "output_type": "stream",
     "text": [
      "2022-10-17 11:32:05,675 Reading data from /tmp/tmpzbtses7j\n",
      "2022-10-17 11:32:05,675 Train: /tmp/tmpzbtses7j/train\n",
      "2022-10-17 11:32:05,676 Dev: /tmp/tmpzbtses7j/dev\n",
      "2022-10-17 11:32:05,676 Test: /tmp/tmpzbtses7j/test\n"
     ]
    }
   ],
   "source": [
    "from meddocan.data.corpus import MEDDOCAN\n",
    "\n",
    "corpus = MEDDOCAN(sentences=True, in_memory=True, document_separator_token=\"-DOCSTART-\")"
   ]
  },
  {
   "cell_type": "markdown",
   "id": "c2384d7f",
   "metadata": {},
   "source": [
    "El corpus creado podemos utilizar los métodos de los cuales hereda nuestro objeto como el método especial ``__str__`` que escribe en stdout el numero de objetos ``flair.tokens.Sentence`` contenido en cada subconjunto de datos. Es decir cuantos parafos tenemos en total en cada uno de nuetros conjuntos de datos."
   ]
  },
  {
   "cell_type": "code",
   "execution_count": 12,
   "id": "8d93de7d",
   "metadata": {},
   "outputs": [
    {
     "name": "stdout",
     "output_type": "stream",
     "text": [
      "Corpus: 10811 train + 5518 dev + 5405 test sentences\n"
     ]
    }
   ],
   "source": [
    "print(corpus)"
   ]
  },
  {
   "cell_type": "markdown",
   "id": "bf79ad4a",
   "metadata": {},
   "source": [
    "Para entrenar los modelos con la libreria ``Flair`` basta seguir el ejemplo siguiente. \n",
    "\n",
    "```{note}\n",
    "Todos nuestros experimentos se pueden encontrar en la carpeta [experiments](https://github.com/GuiGel/MedDocAn/tree/master/experiments) y siguen este formato.  \n",
    "La única diferencia es la adición de las librerías hyperopt [^1] y Tensorboard [^2] para obtener una trazabilidad de los entrenamientos mediante el registro de diversos parámetros y resultados.\n",
    "```\n",
    "\n",
    "[^1]: https://github.com/hyperopt/hyperopt\n",
    "[^2]: https://pytorch.org/docs/stable/tensorboard.html"
   ]
  },
  {
   "cell_type": "markdown",
   "id": "b27f8a53",
   "metadata": {},
   "source": [
    "```python\n",
    "from flair.data import Corpus\n",
    "from flair.embeddings import TransformerWordEmbeddings\n",
    "from flair.models import SequenceTagger\n",
    "from flair.trainers import ModelTrainer\n",
    "\n",
    "from meddocan.data.corpus import MEDDOCAN\n",
    "\n",
    "# 1. Obtener el corpus\n",
    "corpus: Corpus = MEDDOCAN(\n",
    "    sentences=True, document_separator_token=\"-DOCSTART-\"\n",
    ")\n",
    "print(corpus)\n",
    "\n",
    "# 2. Que label se quiere predecir?\n",
    "label_type = 'ner'\n",
    "\n",
    "# 3. Crear el diccionario de labels a partir del corpus\n",
    "label_dict = corpus.make_label_dictionary(label_type=label_type, add_unk=False)\n",
    "print(label_dict)\n",
    "\n",
    "# 4. Inicializar los embeddings generados por el transformador utilizando el contexto\n",
    "embeddings = TransformerWordEmbeddings(model='dccuchile/bert-base-spanish-wwm-cased',\n",
    "                                       layers=\"-1\",\n",
    "                                       subtoken_pooling=\"first\",\n",
    "                                       fine_tune=True,\n",
    "                                       use_context=True,\n",
    "                                       )\n",
    "\n",
    "# 5. Inicializar etiquedator simple (no CRF, no RNN, no reprojección)\n",
    "tagger = SequenceTagger(hidden_size=256,\n",
    "                        embeddings=embeddings,\n",
    "                        tag_dictionary=label_dict,\n",
    "                        tag_type='ner',\n",
    "                        use_crf=False,\n",
    "                        use_rnn=False,\n",
    "                        reproject_embeddings=False,\n",
    "                        )\n",
    "\n",
    "# 6. Initializar el trainer\n",
    "trainer = ModelTrainer(tagger, corpus)\n",
    "\n",
    "# 7. Ejecutar el fine-tuning\n",
    "trainer.fine_tune('experiments/meddocan',\n",
    "                  learning_rate=5.0e-6,\n",
    "                  mini_batch_size=4,\n",
    "                  )\n",
    "```"
   ]
  },
  {
   "cell_type": "markdown",
   "id": "895c9ce0",
   "metadata": {},
   "source": [
    "## Inferencia"
   ]
  },
  {
   "cell_type": "markdown",
   "id": "0e0ce1e1",
   "metadata": {},
   "source": [
    "Una vez el modelo entrenado, la inferencia se hace gracias al ``meddocan_pipeline`` justamente porque nos permitte integrar un modelo de ``Flair `` gracias a su componente ``predictor`` como lo vamos a ver a continuación. \n",
    "\n",
    "```{note}\n",
    "Aquí utilizamos por el ejemplo un modelo de FLair pre-entreando con los embeddings de Flair y una red LSTM-CRF y entrenado sobre el dataset *CONLL-2002* en inglès.Este dataset consiste en artículos de noticias anotados con las categorías LOC, PER y ORG que son diferentes de las categorías de MEDDOCAN.\n",
    "```"
   ]
  },
  {
   "cell_type": "code",
   "execution_count": 13,
   "id": "5784d95f",
   "metadata": {},
   "outputs": [
    {
     "name": "stdout",
     "output_type": "stream",
     "text": [
      "2022-10-17 11:32:13,228 loading file /home/wave/.meddocan/models/ner-english-fast/4c58e7191ff952c030b82db25b3694b58800b0e722ff15427f527e1631ed6142.e13c7c4664ffe2bbfa8f1f5375bd0dced866b8c1dd7ff89a6d705518abf0a611\n",
      "2022-10-17 11:32:14,922 SequenceTagger predicts: Dictionary with 20 tags: <unk>, O, S-ORG, S-MISC, B-PER, E-PER, S-LOC, B-ORG, E-ORG, I-PER, S-PER, B-MISC, I-MISC, E-MISC, I-ORG, B-LOC, E-LOC, I-LOC, <START>, <STOP>\n"
     ]
    }
   ],
   "source": [
    "from meddocan.language.pipeline import meddocan_pipeline\n",
    "\n",
    "nlp = meddocan_pipeline(\"flair/ner-english-fast\")\n",
    "sys = nlp(gold.text)"
   ]
  },
  {
   "cell_type": "markdown",
   "id": "e26e6a1c",
   "metadata": {},
   "source": [
    "El objeto sys es un objeto ``spacy.tokens.Doc`` al igual de el objeto ``gold``.  \n",
    "\n",
    "La única diferencia entre sys y gold es que sys contiene entidades que le son asignadas por un modelo entrenado con los algoritmos de Flair, mientras que en el caso de gold provienen de la lectura de un archivo *.ann*.\n",
    "\n",
    "Entonces para visualizar las predicciones de nuestro model, lo tenemos igual de fácil que antes. Basta utilizar la function ``spacy.displacy.render()``."
   ]
  },
  {
   "cell_type": "code",
   "execution_count": 14,
   "id": "3a4c5c05",
   "metadata": {},
   "outputs": [
    {
     "data": {
      "text/html": [
       "<span class=\"tex2jax_ignore\"><div class=\"entities\" style=\"line-height: 2.5; direction: ltr\">\n",
       "<mark class=\"entity\" style=\"background: #7aecec; padding: 0.45em 0.6em; margin: 0 0.25em; line-height: 1; border-radius: 0.35em;\">\n",
       "    Datos del paciente\n",
       "    <span style=\"font-size: 0.8em; font-weight: bold; line-height: 1; border-radius: 0.35em; vertical-align: middle; margin-left: 0.5rem\">ORG</span>\n",
       "</mark>\n",
       ".</br>Nombre:  \n",
       "<mark class=\"entity\" style=\"background: #ddd; padding: 0.45em 0.6em; margin: 0 0.25em; line-height: 1; border-radius: 0.35em;\">\n",
       "    Ernesto\n",
       "    <span style=\"font-size: 0.8em; font-weight: bold; line-height: 1; border-radius: 0.35em; vertical-align: middle; margin-left: 0.5rem\">PER</span>\n",
       "</mark>\n",
       ".</br>Apellidos: \n",
       "<mark class=\"entity\" style=\"background: #ddd; padding: 0.45em 0.6em; margin: 0 0.25em; line-height: 1; border-radius: 0.35em;\">\n",
       "    Rivera Bueno\n",
       "    <span style=\"font-size: 0.8em; font-weight: bold; line-height: 1; border-radius: 0.35em; vertical-align: middle; margin-left: 0.5rem\">PER</span>\n",
       "</mark>\n",
       ".</br>NHC: 368503.</br>\n",
       "<mark class=\"entity\" style=\"background: #7aecec; padding: 0.45em 0.6em; margin: 0 0.25em; line-height: 1; border-radius: 0.35em;\">\n",
       "    NASS\n",
       "    <span style=\"font-size: 0.8em; font-weight: bold; line-height: 1; border-radius: 0.35em; vertical-align: middle; margin-left: 0.5rem\">ORG</span>\n",
       "</mark>\n",
       ": 26 63514095.</br>Domicilio:  \n",
       "<mark class=\"entity\" style=\"background: #ddd; padding: 0.45em 0.6em; margin: 0 0.25em; line-height: 1; border-radius: 0.35em;\">\n",
       "    Calle Miguel Benitez\n",
       "    <span style=\"font-size: 0.8em; font-weight: bold; line-height: 1; border-radius: 0.35em; vertical-align: middle; margin-left: 0.5rem\">PER</span>\n",
       "</mark>\n",
       " 90.</br>\n",
       "<mark class=\"entity\" style=\"background: #ff9561; padding: 0.45em 0.6em; margin: 0 0.25em; line-height: 1; border-radius: 0.35em;\">\n",
       "    Localidad\n",
       "    <span style=\"font-size: 0.8em; font-weight: bold; line-height: 1; border-radius: 0.35em; vertical-align: middle; margin-left: 0.5rem\">LOC</span>\n",
       "</mark>\n",
       "/ \n",
       "<mark class=\"entity\" style=\"background: #ff9561; padding: 0.45em 0.6em; margin: 0 0.25em; line-height: 1; border-radius: 0.35em;\">\n",
       "    Provincia\n",
       "    <span style=\"font-size: 0.8em; font-weight: bold; line-height: 1; border-radius: 0.35em; vertical-align: middle; margin-left: 0.5rem\">LOC</span>\n",
       "</mark>\n",
       ": \n",
       "<mark class=\"entity\" style=\"background: #ff9561; padding: 0.45em 0.6em; margin: 0 0.25em; line-height: 1; border-radius: 0.35em;\">\n",
       "    Madrid\n",
       "    <span style=\"font-size: 0.8em; font-weight: bold; line-height: 1; border-radius: 0.35em; vertical-align: middle; margin-left: 0.5rem\">LOC</span>\n",
       "</mark>\n",
       ".</br>\n",
       "<mark class=\"entity\" style=\"background: #7aecec; padding: 0.45em 0.6em; margin: 0 0.25em; line-height: 1; border-radius: 0.35em;\">\n",
       "    CP\n",
       "    <span style=\"font-size: 0.8em; font-weight: bold; line-height: 1; border-radius: 0.35em; vertical-align: middle; margin-left: 0.5rem\">ORG</span>\n",
       "</mark>\n",
       ": 28016.</br>Datos asistenciales.</br>\n",
       "<mark class=\"entity\" style=\"background: #ddd; padding: 0.45em 0.6em; margin: 0 0.25em; line-height: 1; border-radius: 0.35em;\">\n",
       "    Fecha de nacimiento\n",
       "    <span style=\"font-size: 0.8em; font-weight: bold; line-height: 1; border-radius: 0.35em; vertical-align: middle; margin-left: 0.5rem\">MISC</span>\n",
       "</mark>\n",
       ": 03/03/1946.</br>País: \n",
       "<mark class=\"entity\" style=\"background: #7aecec; padding: 0.45em 0.6em; margin: 0 0.25em; line-height: 1; border-radius: 0.35em;\">\n",
       "    España\n",
       "    <span style=\"font-size: 0.8em; font-weight: bold; line-height: 1; border-radius: 0.35em; vertical-align: middle; margin-left: 0.5rem\">ORG</span>\n",
       "</mark>\n",
       ".</br>\n",
       "<mark class=\"entity\" style=\"background: #7aecec; padding: 0.45em 0.6em; margin: 0 0.25em; line-height: 1; border-radius: 0.35em;\">\n",
       "    Edad\n",
       "    <span style=\"font-size: 0.8em; font-weight: bold; line-height: 1; border-radius: 0.35em; vertical-align: middle; margin-left: 0.5rem\">ORG</span>\n",
       "</mark>\n",
       ": 70 años Sexo: H.</br>\n",
       "<mark class=\"entity\" style=\"background: #7aecec; padding: 0.45em 0.6em; margin: 0 0.25em; line-height: 1; border-radius: 0.35em;\">\n",
       "    Fecha de Ingreso\n",
       "    <span style=\"font-size: 0.8em; font-weight: bold; line-height: 1; border-radius: 0.35em; vertical-align: middle; margin-left: 0.5rem\">ORG</span>\n",
       "</mark>\n",
       ": 12/12/2016.</br>\n",
       "<mark class=\"entity\" style=\"background: #7aecec; padding: 0.45em 0.6em; margin: 0 0.25em; line-height: 1; border-radius: 0.35em;\">\n",
       "    Médico\n",
       "    <span style=\"font-size: 0.8em; font-weight: bold; line-height: 1; border-radius: 0.35em; vertical-align: middle; margin-left: 0.5rem\">ORG</span>\n",
       "</mark>\n",
       ":  \n",
       "<mark class=\"entity\" style=\"background: #7aecec; padding: 0.45em 0.6em; margin: 0 0.25em; line-height: 1; border-radius: 0.35em;\">\n",
       "    Ignacio Navarro Cuéllar NºCol\n",
       "    <span style=\"font-size: 0.8em; font-weight: bold; line-height: 1; border-radius: 0.35em; vertical-align: middle; margin-left: 0.5rem\">ORG</span>\n",
       "</mark>\n",
       ": 28 28 70973.</br>Informe clínico del paciente: \n",
       "<mark class=\"entity\" style=\"background: #ddd; padding: 0.45em 0.6em; margin: 0 0.25em; line-height: 1; border-radius: 0.35em;\">\n",
       "    Paciente de 70 años de edad\n",
       "    <span style=\"font-size: 0.8em; font-weight: bold; line-height: 1; border-radius: 0.35em; vertical-align: middle; margin-left: 0.5rem\">MISC</span>\n",
       "</mark>\n",
       ", minero jubilado, sin alergias medicamentosas conocidas, que presenta como antecedentes personales: accidente laboral antiguo con fracturas vertebrales y costales; intervenido de enfermedad de Dupuytren en mano derecha y by-pass iliofemoral izquierdo; Diabetes Mellitus tipo II, hipercolesterolemia e hiperuricemia; enolismo activo, fumador de 20 cigarrillos / día.</br>Es derivado desde Atención Primaria por presentar hematuria macroscópica postmiccional en una ocasión y microhematuria persistente posteriormente, con micciones normales.</br>En la exploración física presenta un buen estado general, con abdomen y genitales normales; tacto rectal compatible con adenoma de próstata grado I/IV.</br>En la analítica de orina destaca la existencia de 4 hematíes/ campo y 0-5 leucocitos/campo; resto de sedimento normal.</br>Hemograma normal; en la bioquímica destaca una glucemia de 169 mg/dl y triglicéridos de 456 mg/dl; función hepática y renal normal. PSA de 1.16 ng/ml.</br>Las citologías de orina son repetidamente sospechosas de malignidad.</br>En la placa simple de abdomen se valoran cambios degenerativos en columna lumbar y calcificaciones vasculares en ambos hipocondrios y en pelvis.</br>La ecografía urológica pone de manifiesto la existencia de quistes corticales simples en riñón derecho, vejiga sin alteraciones con buena capacidad y próstata con un peso de 30 g.</br>\n",
       "<mark class=\"entity\" style=\"background: #ddd; padding: 0.45em 0.6em; margin: 0 0.25em; line-height: 1; border-radius: 0.35em;\">\n",
       "    En la UIV\n",
       "    <span style=\"font-size: 0.8em; font-weight: bold; line-height: 1; border-radius: 0.35em; vertical-align: middle; margin-left: 0.5rem\">MISC</span>\n",
       "</mark>\n",
       " se observa normofuncionalismo renal bilateral, calcificaciones sobre silueta renal derecha y uréteres arrosariados con imágenes de adición en el tercio superior de ambos uréteres, en relación a pseudodiverticulosis ureteral. El cistograma demuestra una vejiga con buena capacidad, pero paredes trabeculadas en relación a vejiga de esfuerzo. La TC abdominal es normal.</br>La cistoscopia descubre la existencia de pequeñas tumoraciones vesicales, realizándose resección transuretral con el resultado anatomopatológico de carcinoma urotelial superficial de vejiga.</br>Remitido por: \n",
       "<mark class=\"entity\" style=\"background: #ddd; padding: 0.45em 0.6em; margin: 0 0.25em; line-height: 1; border-radius: 0.35em;\">\n",
       "    Ignacio Navarro Cuéllar\n",
       "    <span style=\"font-size: 0.8em; font-weight: bold; line-height: 1; border-radius: 0.35em; vertical-align: middle; margin-left: 0.5rem\">PER</span>\n",
       "</mark>\n",
       " c/ \n",
       "<mark class=\"entity\" style=\"background: #ddd; padding: 0.45em 0.6em; margin: 0 0.25em; line-height: 1; border-radius: 0.35em;\">\n",
       "    del Abedul\n",
       "    <span style=\"font-size: 0.8em; font-weight: bold; line-height: 1; border-radius: 0.35em; vertical-align: middle; margin-left: 0.5rem\">PER</span>\n",
       "</mark>\n",
       " 5-7, 2º dcha 28036 \n",
       "<mark class=\"entity\" style=\"background: #ff9561; padding: 0.45em 0.6em; margin: 0 0.25em; line-height: 1; border-radius: 0.35em;\">\n",
       "    Madrid\n",
       "    <span style=\"font-size: 0.8em; font-weight: bold; line-height: 1; border-radius: 0.35em; vertical-align: middle; margin-left: 0.5rem\">LOC</span>\n",
       "</mark>\n",
       ", \n",
       "<mark class=\"entity\" style=\"background: #7aecec; padding: 0.45em 0.6em; margin: 0 0.25em; line-height: 1; border-radius: 0.35em;\">\n",
       "    España E\n",
       "    <span style=\"font-size: 0.8em; font-weight: bold; line-height: 1; border-radius: 0.35em; vertical-align: middle; margin-left: 0.5rem\">ORG</span>\n",
       "</mark>\n",
       "-mail: nnavcu@hotmail.com.</br></div></span>"
      ],
      "text/plain": [
       "<IPython.core.display.HTML object>"
      ]
     },
     "metadata": {},
     "output_type": "display_data"
    }
   ],
   "source": [
    "displacy.render(sys, style=\"ent\")"
   ]
  },
  {
   "cell_type": "markdown",
   "id": "f067f22f",
   "metadata": {},
   "source": [
    "```{note}\n",
    "Vemos a ojo que el modelo de Flair `flair/ner-english-fast´ parece detectar correctamente el span de ciertas endidades que el etiqueta como ``LOC`` o ``PERS`` y que effectivamente son direcciónes o personas. \n",
    "```"
   ]
  },
  {
   "cell_type": "markdown",
   "id": "5960a432",
   "metadata": {},
   "source": [
    "## Evaluation"
   ]
  },
  {
   "cell_type": "markdown",
   "id": "d68e7336",
   "metadata": {},
   "source": [
    "La evaluación originalmente provistas a traves del [script de evaluation](https://github.com/PlanTL-GOB-ES/MEDDOCAN-Evaluation-Script) que re-utilizamos, utiliza el texto original asi como su anotación al formato *brat* para calcular las métricas segun las tareas ``Subtrack1``, ``Subtrack2 [Strict]`` y ``SubTrack2 [Merged]``.\n",
    "\n",
    "Para evaluar nuestros modelos, utilizamos el texto original a partir del cual se ha creado el documento sys asi como su atributo ``_.to_ann``. Ese método permite codificar el atributo ``ents`` del objeto sys en un fichero siguiendo el formado brat como se puede ver a continuación."
   ]
  },
  {
   "cell_type": "code",
   "execution_count": 15,
   "id": "e22996ba",
   "metadata": {},
   "outputs": [
    {
     "name": "stdout",
     "output_type": "stream",
     "text": [
      "T_0\tORG 0 18\tDatos del paciente\n",
      "T_1\tPER 29 36\tErnesto\n",
      "T_2\tPER 49 61\tRivera Bueno\n",
      "T_3\tORG 76 80\tNASS\n",
      "T_4\tPER 107 127\tCalle Miguel Benitez\n",
      "T_5\tLOC 132 141\tLocalidad\n",
      "T_6\tLOC 143 152\tProvincia\n",
      "T_7\tLOC 154 160\tMadrid\n",
      "T_8\tORG 162 164\tCP\n",
      "T_9\tMISC 194 213\tFecha de nacimiento\n",
      "T_10\tORG 233 239\tEspaña\n",
      "T_11\tORG 241 245\tEdad\n",
      "T_12\tORG 264 280\tFecha de Ingreso\n",
      "T_13\tORG 294 300\tMédico\n",
      "T_14\tORG 303 332\tIgnacio Navarro Cuéllar NºCol\n",
      "T_15\tMISC 377 404\tPaciente de 70 años de edad\n",
      "T_16\tMISC 1758 1767\tEn la UIV\n",
      "T_17\tPER 2341 2364\tIgnacio Navarro Cuéllar\n",
      "T_18\tPER 2368 2378\tdel Abedul\n",
      "T_19\tLOC 2398 2404\tMadrid\n",
      "T_20\tORG 2406 2414\tEspaña E\n",
      "\n"
     ]
    }
   ],
   "source": [
    "from tempfile import TemporaryDirectory\n",
    "\n",
    "with TemporaryDirectory() as td:\n",
    "    pth = Path(td, \"file.txt\")\n",
    "    sys._.to_ann(pth)\n",
    "    for i, line in enumerate(pth.read_text().split(\"\\n\")):\n",
    "        print(line)"
   ]
  },
  {
   "cell_type": "markdown",
   "id": "d8d1338a",
   "metadata": {},
   "source": [
    "Para hacer esto mas automatizado, al igual que la clase ``from meddocan.data.docs_iterators.GsDocs``, tenemos la clase ``from meddocan.data.docs_iterators.SysDocs`` que utiliza un modelo de Flair para detectar entidades sobre los documentos de cada sub-conjunto de datos. Veamos un ejemplo:"
   ]
  },
  {
   "cell_type": "code",
   "execution_count": 16,
   "id": "8c5df1c9",
   "metadata": {},
   "outputs": [
    {
     "name": "stdout",
     "output_type": "stream",
     "text": [
      "2022-10-17 11:32:17,742 loading file /home/wave/.meddocan/models/ner-spanish-large/045ad6c7dc21e0eb85935dce0544eec65f8c63c58412154df4dee7ff5f11665b.d4d3456316d2951bc100d060bd63a690b33af6d273adffa1b90df32328ed3257\n",
      "2022-10-17 11:32:31,829 SequenceTagger predicts: Dictionary with 20 tags: <unk>, O, S-LOC, S-ORG, B-PER, I-PER, E-PER, S-MISC, B-ORG, E-ORG, S-PER, I-ORG, B-LOC, E-LOC, B-MISC, E-MISC, I-MISC, I-LOC, <START>, <STOP>\n"
     ]
    }
   ],
   "source": [
    "from meddocan.data.docs_iterators import SysDocs\n",
    "from meddocan.data import ArchiveFolder\n",
    "\n",
    "import torch\n",
    "import flair\n",
    "\n",
    "flair.device = torch.device(\"cuda:1\")\n",
    "\n",
    "sys_docs = iter(SysDocs(archive_name=ArchiveFolder.test, model=\"flair/ner-spanish-large\"))"
   ]
  },
  {
   "cell_type": "markdown",
   "id": "36464162",
   "metadata": {},
   "source": [
    "Gracias a las classe ``GsDocs`` y ``SysDocs`` podemos producir facilmente los ficheros requeridos para usar el script de evaluación provisto a traves de la la linea de comando *meddocan eval*."
   ]
  },
  {
   "cell_type": "markdown",
   "id": "ec93a17d",
   "metadata": {},
   "source": [
    "Como curiosidad podemos explicar como se pueden calcular las metricas."
   ]
  },
  {
   "cell_type": "code",
   "execution_count": 17,
   "id": "6c9ec670",
   "metadata": {},
   "outputs": [],
   "source": [
    "gs_docs = iter(GsDocs(archive_name=ArchiveFolder.test))"
   ]
  },
  {
   "cell_type": "markdown",
   "id": "7d8b12c6",
   "metadata": {},
   "source": [
    "Recuperamos los ``Iterator`` sys_doc y gold_doc y comprobamos que corresponden a los mismos documentos originales, tanto en su origen como en su contenido."
   ]
  },
  {
   "cell_type": "code",
   "execution_count": 18,
   "id": "3752a0aa",
   "metadata": {},
   "outputs": [],
   "source": [
    "sys_doc, gold_doc = next(sys_docs), next(gs_docs)\n",
    "\n",
    "assert sys_doc.brat_files_pair.ann.name == gold_doc.brat_files_pair.ann.name\n",
    "assert sys_doc.brat_files_pair.txt.name == gold_doc.brat_files_pair.txt.name\n",
    "assert sys_doc.doc.text == gold_doc.doc.text"
   ]
  },
  {
   "cell_type": "markdown",
   "id": "b94cce55",
   "metadata": {},
   "source": [
    "Ahora recuperamos las entidades originales en ``gold_labels`` y las predicciones ``sys_labels``."
   ]
  },
  {
   "cell_type": "code",
   "execution_count": 19,
   "id": "cba34fa2",
   "metadata": {},
   "outputs": [],
   "source": [
    "from meddocan.evaluation.classes import Ner, Span\n",
    "\n",
    "gold_labels = set(Ner(ent.start, ent.end, ent.label_) for ent in gold.ents)\n",
    "sys_labels = set(Ner(ent.start, ent.end, ent.label_) for ent in sys.ents)"
   ]
  },
  {
   "cell_type": "markdown",
   "id": "9b3422fe",
   "metadata": {},
   "source": [
    "Por fin calculamos el score $F_1$ para el documento asi como el recall y la precision."
   ]
  },
  {
   "cell_type": "code",
   "execution_count": 20,
   "id": "e7c1bc13",
   "metadata": {},
   "outputs": [
    {
     "data": {
      "text/html": [
       "<div>\n",
       "<style scoped>\n",
       "    .dataframe tbody tr th:only-of-type {\n",
       "        vertical-align: middle;\n",
       "    }\n",
       "\n",
       "    .dataframe tbody tr th {\n",
       "        vertical-align: top;\n",
       "    }\n",
       "\n",
       "    .dataframe thead th {\n",
       "        text-align: right;\n",
       "    }\n",
       "</style>\n",
       "<table border=\"1\" class=\"dataframe\">\n",
       "  <thead>\n",
       "    <tr style=\"text-align: right;\">\n",
       "      <th></th>\n",
       "      <th>f1</th>\n",
       "      <th>recall</th>\n",
       "      <th>precisión</th>\n",
       "    </tr>\n",
       "  </thead>\n",
       "  <tbody>\n",
       "    <tr>\n",
       "      <th>Subtrack1</th>\n",
       "      <td>0.0</td>\n",
       "      <td>0.0</td>\n",
       "      <td>0.0</td>\n",
       "    </tr>\n",
       "  </tbody>\n",
       "</table>\n",
       "</div>"
      ],
      "text/plain": [
       "            f1  recall  precisión\n",
       "Subtrack1  0.0     0.0        0.0"
      ]
     },
     "execution_count": 20,
     "metadata": {},
     "output_type": "execute_result"
    }
   ],
   "source": [
    "from typing import TypeVar\n",
    "\n",
    "T = TypeVar(\"T\", Ner, Span)\n",
    "\n",
    "def f1(gold_label: List[T], sys_label: List[T]) -> float:\n",
    "    tp = gold_label.intersection(sys_label)\n",
    "    fp = sys_label - gold_label\n",
    "    fn = gold_label - sys_label\n",
    "    try:\n",
    "        recall = len(tp) / float(len(tp) + len(fp))\n",
    "    except ZeroDivisionError:\n",
    "        recall = 0.0\n",
    "    try:\n",
    "        precision = len(tp) / float(len(tp) + len(fn))\n",
    "    except ZeroDivisionError:\n",
    "        precision = 0.0\n",
    "    try:\n",
    "        f1 = 2 * (recall * precision) / (recall + precision)\n",
    "    except ZeroDivisionError:\n",
    "        f1 = 0.0\n",
    "    return f1, recall, precision\n",
    "\n",
    "pd.DataFrame(\n",
    "    f1(gold_labels, sys_labels),\n",
    "    index=[\"f1\", \"recall\", \"precisión\"],\n",
    "    columns=[\"Subtrack1\"]\n",
    ").T"
   ]
  },
  {
   "cell_type": "markdown",
   "id": "1fb38f8d",
   "metadata": {},
   "source": [
    "El score f1 esta nulo simplemente porque el modelo utilizado no predice las mismas entidades y ademas esta entrenado sobre un dataset en inglès! Pero si se trata unicamente de anonimizar y que usamos solo los ``Span`` puede que no sea lo mismo dado que tanbien tiene que detectar personas o entidas sin etiqueta."
   ]
  },
  {
   "cell_type": "code",
   "execution_count": 21,
   "id": "24e1820d",
   "metadata": {},
   "outputs": [
    {
     "data": {
      "text/html": [
       "<div>\n",
       "<style scoped>\n",
       "    .dataframe tbody tr th:only-of-type {\n",
       "        vertical-align: middle;\n",
       "    }\n",
       "\n",
       "    .dataframe tbody tr th {\n",
       "        vertical-align: top;\n",
       "    }\n",
       "\n",
       "    .dataframe thead th {\n",
       "        text-align: right;\n",
       "    }\n",
       "</style>\n",
       "<table border=\"1\" class=\"dataframe\">\n",
       "  <thead>\n",
       "    <tr style=\"text-align: right;\">\n",
       "      <th></th>\n",
       "      <th>f1</th>\n",
       "      <th>recall</th>\n",
       "      <th>precision</th>\n",
       "    </tr>\n",
       "  </thead>\n",
       "  <tbody>\n",
       "    <tr>\n",
       "      <th>Subtrack2[strict]</th>\n",
       "      <td>0.285714</td>\n",
       "      <td>0.285714</td>\n",
       "      <td>0.285714</td>\n",
       "    </tr>\n",
       "  </tbody>\n",
       "</table>\n",
       "</div>"
      ],
      "text/plain": [
       "                         f1    recall  precision\n",
       "Subtrack2[strict]  0.285714  0.285714   0.285714"
      ]
     },
     "execution_count": 21,
     "metadata": {},
     "output_type": "execute_result"
    }
   ],
   "source": [
    "gold_spans = set(Span(ent.start, ent.end) for ent in gold.ents)\n",
    "sys_spans = set(Span(ent.start, ent.end) for ent in sys.ents)\n",
    "pd.DataFrame(\n",
    "    f1(gold_spans, sys_spans),\n",
    "    index=[\"f1\", \"recall\", \"precision\"],\n",
    "    columns=[\"Subtrack2[strict]\"]\n",
    ").T"
   ]
  },
  {
   "cell_type": "markdown",
   "id": "d1085942",
   "metadata": {},
   "source": [
    "De hecho, vemos que incluso con un modelo entrenado en un conjunto de datos muy diferente con tan sólo 4 entidades, conseguimos anonimizar un poco mas de un quarto de los span desados."
   ]
  },
  {
   "cell_type": "code",
   "execution_count": null,
   "id": "1bd3b7fd",
   "metadata": {},
   "outputs": [],
   "source": []
  }
 ],
 "metadata": {
  "jupytext": {
   "formats": "ipynb,md:myst"
  },
  "kernelspec": {
   "display_name": "Python 3 (ipykernel)",
   "language": "python",
   "name": "python3"
  },
  "language_info": {
   "codemirror_mode": {
    "name": "ipython",
    "version": 3
   },
   "file_extension": ".py",
   "mimetype": "text/x-python",
   "name": "python",
   "nbconvert_exporter": "python",
   "pygments_lexer": "ipython3",
   "version": "3.8.3"
  }
 },
 "nbformat": 4,
 "nbformat_minor": 5
}
