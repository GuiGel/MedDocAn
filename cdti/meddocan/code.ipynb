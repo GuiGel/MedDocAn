{
 "cells": [
  {
   "cell_type": "code",
   "execution_count": 58,
   "metadata": {},
   "outputs": [],
   "source": [
    "import pandas as pd\n",
    "from pathlib import Path\n",
    "from meddocan.data import meddocan_zip, ArchiveFolder\n",
    "from meddocan.data.containers import BratAnnotations, BratSpan, BratFilesPair\n",
    "from typing import List, Tuple\n",
    "from spacy import displacy\n",
    "from meddocan.data.docs_iterators import GsDocs"
   ]
  },
  {
   "cell_type": "markdown",
   "metadata": {},
   "source": [
    "# Resumen del código [^1]\n",
    "\n",
    "[^1]: El proyecto completo está disponible en [github](https://github.com/GuiGel/MedDocAn)."
   ]
  },
  {
   "cell_type": "markdown",
   "metadata": {},
   "source": [
    "## Meddocan pipeline"
   ]
  },
  {
   "cell_type": "markdown",
   "metadata": {},
   "source": [
    "Para obtener un objeto `spacy.tokens.Doc` a partir de cualquier cadena de caracteres utilizaremos el `meddocan.language.pipeline.meddocan_pipeline` creado con la ayuda de la biblioteca [spaCy](https://spacy.io/) para adaptarlo a nuestras necesidades.  \n",
    "  \n",
    "Para ver cómo funciona, seleccionamos un informe médico gracias al objeto `meddocan.data.docs_iterators.GsDocs` que permiten acceder a los documentos del dataset meddocan directamente como objetos `spacy.tokens.Doc` con varios atributos específicos.\n",
    "\n",
    "```{note}\n",
    "Utilizamos solo los 101 primeros caracteres para que el informemcínico sea mas leible\n",
    "```"
   ]
  },
  {
   "cell_type": "code",
   "execution_count": 19,
   "metadata": {},
   "outputs": [
    {
     "data": {
      "text/plain": [
       "Datos del paciente.\n",
       "Nombre:  Ernesto.\n",
       "Apellidos: Rivera Bueno.\n",
       "NHC: 368503.\n",
       "NASS: 26 63514095.\n",
       "Domicilio:  Calle Miguel Benitez 90.\n",
       "Localidad/ Provincia: Madrid.\n",
       "CP: 28016.\n",
       "Datos asistenciales.\n",
       "Fecha de nacimiento: 03/03/1946.\n",
       "País: España.\n",
       "Edad: 70 años Sexo: H.\n",
       "Fecha de Ingreso: 12/12/2016.\n",
       "Médico:  Ignacio Navarro Cuéllar NºCol: 28 28 70973."
      ]
     },
     "execution_count": 19,
     "metadata": {},
     "output_type": "execute_result"
    }
   ],
   "source": [
    "gs_docs = GsDocs(ArchiveFolder.train)\n",
    "docs_with_brat_pair = iter(gs_docs)\n",
    "doc_with_brat_pair = next(docs_with_brat_pair)\n",
    "doc = doc_with_brat_pair.doc[:101]\n",
    "doc"
   ]
  },
  {
   "cell_type": "markdown",
   "metadata": {},
   "source": [
    "Observamos la serie de pre-processos que nos permite hacer el `meddocan_pipeline` con la ayuda del objeto `doc`.\n",
    "\n",
    "```{note}\n",
    "Miramos las 3 primeras lineas del objeto ``Doc``.\n",
    "```"
   ]
  },
  {
   "cell_type": "code",
   "execution_count": 66,
   "metadata": {},
   "outputs": [
    {
     "name": "stdout",
     "output_type": "stream",
     "text": [
      "---------------------- Sentence 1 ------------------------------\n"
     ]
    },
    {
     "data": {
      "text/html": [
       "<div>\n",
       "<style scoped>\n",
       "    .dataframe tbody tr th:only-of-type {\n",
       "        vertical-align: middle;\n",
       "    }\n",
       "\n",
       "    .dataframe tbody tr th {\n",
       "        vertical-align: top;\n",
       "    }\n",
       "\n",
       "    .dataframe thead th {\n",
       "        text-align: right;\n",
       "    }\n",
       "</style>\n",
       "<table border=\"1\" class=\"dataframe\">\n",
       "  <thead>\n",
       "    <tr style=\"text-align: right;\">\n",
       "      <th></th>\n",
       "      <th>text</th>\n",
       "      <th>bio</th>\n",
       "      <th>etiqueta</th>\n",
       "    </tr>\n",
       "  </thead>\n",
       "  <tbody>\n",
       "    <tr>\n",
       "      <th>0</th>\n",
       "      <td>Datos</td>\n",
       "      <td>O</td>\n",
       "      <td></td>\n",
       "    </tr>\n",
       "    <tr>\n",
       "      <th>1</th>\n",
       "      <td>del</td>\n",
       "      <td>O</td>\n",
       "      <td></td>\n",
       "    </tr>\n",
       "    <tr>\n",
       "      <th>2</th>\n",
       "      <td>paciente</td>\n",
       "      <td>O</td>\n",
       "      <td></td>\n",
       "    </tr>\n",
       "    <tr>\n",
       "      <th>3</th>\n",
       "      <td>.</td>\n",
       "      <td>O</td>\n",
       "      <td></td>\n",
       "    </tr>\n",
       "    <tr>\n",
       "      <th>4</th>\n",
       "      <td>\\n</td>\n",
       "      <td>O</td>\n",
       "      <td></td>\n",
       "    </tr>\n",
       "  </tbody>\n",
       "</table>\n",
       "</div>"
      ],
      "text/plain": [
       "       text bio etiqueta\n",
       "0     Datos   O         \n",
       "1       del   O         \n",
       "2  paciente   O         \n",
       "3         .   O         \n",
       "4        \\n   O         "
      ]
     },
     "metadata": {},
     "output_type": "display_data"
    },
    {
     "name": "stdout",
     "output_type": "stream",
     "text": [
      "---------------------- Sentence 2 ------------------------------\n"
     ]
    },
    {
     "data": {
      "text/html": [
       "<div>\n",
       "<style scoped>\n",
       "    .dataframe tbody tr th:only-of-type {\n",
       "        vertical-align: middle;\n",
       "    }\n",
       "\n",
       "    .dataframe tbody tr th {\n",
       "        vertical-align: top;\n",
       "    }\n",
       "\n",
       "    .dataframe thead th {\n",
       "        text-align: right;\n",
       "    }\n",
       "</style>\n",
       "<table border=\"1\" class=\"dataframe\">\n",
       "  <thead>\n",
       "    <tr style=\"text-align: right;\">\n",
       "      <th></th>\n",
       "      <th>text</th>\n",
       "      <th>bio</th>\n",
       "      <th>etiqueta</th>\n",
       "    </tr>\n",
       "  </thead>\n",
       "  <tbody>\n",
       "    <tr>\n",
       "      <th>0</th>\n",
       "      <td>Nombre</td>\n",
       "      <td>O</td>\n",
       "      <td></td>\n",
       "    </tr>\n",
       "    <tr>\n",
       "      <th>1</th>\n",
       "      <td>:</td>\n",
       "      <td>O</td>\n",
       "      <td></td>\n",
       "    </tr>\n",
       "    <tr>\n",
       "      <th>2</th>\n",
       "      <td></td>\n",
       "      <td>O</td>\n",
       "      <td></td>\n",
       "    </tr>\n",
       "    <tr>\n",
       "      <th>3</th>\n",
       "      <td>Ernesto</td>\n",
       "      <td>B</td>\n",
       "      <td>NOMBRE_SUJETO_ASISTENCIA</td>\n",
       "    </tr>\n",
       "    <tr>\n",
       "      <th>4</th>\n",
       "      <td>.</td>\n",
       "      <td>O</td>\n",
       "      <td></td>\n",
       "    </tr>\n",
       "    <tr>\n",
       "      <th>5</th>\n",
       "      <td>\\n</td>\n",
       "      <td>O</td>\n",
       "      <td></td>\n",
       "    </tr>\n",
       "  </tbody>\n",
       "</table>\n",
       "</div>"
      ],
      "text/plain": [
       "      text bio                  etiqueta\n",
       "0   Nombre   O                          \n",
       "1        :   O                          \n",
       "2            O                          \n",
       "3  Ernesto   B  NOMBRE_SUJETO_ASISTENCIA\n",
       "4        .   O                          \n",
       "5       \\n   O                          "
      ]
     },
     "metadata": {},
     "output_type": "display_data"
    },
    {
     "name": "stdout",
     "output_type": "stream",
     "text": [
      "---------------------- Sentence 3 ------------------------------\n"
     ]
    },
    {
     "data": {
      "text/html": [
       "<div>\n",
       "<style scoped>\n",
       "    .dataframe tbody tr th:only-of-type {\n",
       "        vertical-align: middle;\n",
       "    }\n",
       "\n",
       "    .dataframe tbody tr th {\n",
       "        vertical-align: top;\n",
       "    }\n",
       "\n",
       "    .dataframe thead th {\n",
       "        text-align: right;\n",
       "    }\n",
       "</style>\n",
       "<table border=\"1\" class=\"dataframe\">\n",
       "  <thead>\n",
       "    <tr style=\"text-align: right;\">\n",
       "      <th></th>\n",
       "      <th>text</th>\n",
       "      <th>bio</th>\n",
       "      <th>etiqueta</th>\n",
       "    </tr>\n",
       "  </thead>\n",
       "  <tbody>\n",
       "    <tr>\n",
       "      <th>0</th>\n",
       "      <td>Apellidos</td>\n",
       "      <td>O</td>\n",
       "      <td></td>\n",
       "    </tr>\n",
       "    <tr>\n",
       "      <th>1</th>\n",
       "      <td>:</td>\n",
       "      <td>O</td>\n",
       "      <td></td>\n",
       "    </tr>\n",
       "    <tr>\n",
       "      <th>2</th>\n",
       "      <td>Rivera</td>\n",
       "      <td>B</td>\n",
       "      <td>NOMBRE_SUJETO_ASISTENCIA</td>\n",
       "    </tr>\n",
       "    <tr>\n",
       "      <th>3</th>\n",
       "      <td>Bueno</td>\n",
       "      <td>I</td>\n",
       "      <td>NOMBRE_SUJETO_ASISTENCIA</td>\n",
       "    </tr>\n",
       "    <tr>\n",
       "      <th>4</th>\n",
       "      <td>.</td>\n",
       "      <td>O</td>\n",
       "      <td></td>\n",
       "    </tr>\n",
       "    <tr>\n",
       "      <th>5</th>\n",
       "      <td>\\n</td>\n",
       "      <td>O</td>\n",
       "      <td></td>\n",
       "    </tr>\n",
       "  </tbody>\n",
       "</table>\n",
       "</div>"
      ],
      "text/plain": [
       "        text bio                  etiqueta\n",
       "0  Apellidos   O                          \n",
       "1          :   O                          \n",
       "2     Rivera   B  NOMBRE_SUJETO_ASISTENCIA\n",
       "3      Bueno   I  NOMBRE_SUJETO_ASISTENCIA\n",
       "4          .   O                          \n",
       "5         \\n   O                          "
      ]
     },
     "metadata": {},
     "output_type": "display_data"
    }
   ],
   "source": [
    "max_lines = 3\n",
    "\n",
    "for i, sent in enumerate(doc.sents):\n",
    "    print(f\"---------------------- Sentence {i + 1} ------------------------------\")\n",
    "    a = zip(*((tok.text, tok.ent_iob_, tok.ent_type_) for tok in sent))\n",
    "    df = pd.DataFrame(a, index=[\"text\", \"bio\", \"etiqueta\"])\n",
    "    display(df.T)\n",
    "    if i >= max_lines - 1:\n",
    "        break"
   ]
  },
  {
   "cell_type": "markdown",
   "metadata": {},
   "source": [
    "Para entender un poco mejor lo que hacemos miramos los differentes componentes del `MeddocanPipeline`."
   ]
  },
  {
   "cell_type": "code",
   "execution_count": 21,
   "metadata": {},
   "outputs": [
    {
     "data": {
      "text/plain": [
       "['missaligned_splitter', 'line_sentencizer', 'predictor', 'write_methods']"
      ]
     },
     "execution_count": 21,
     "metadata": {},
     "output_type": "execute_result"
    }
   ],
   "source": [
    "gs_docs.nlp.pipe_names"
   ]
  },
  {
   "cell_type": "markdown",
   "metadata": {},
   "source": [
    "1. El primer elemento de nuestro pipeline es el tokenizer seguido del componente `missaligned_splitter` que nos permite afinar la tokenización de tal forma que cada token se corresponda exactamente con una etiqueta al formato BIO.\n",
    "2. El segundo componente, `line_sentencizer` permite partir el texto en frases. En este caso se corresponden a un párafo.\n",
    "3. EL componente `predictor` nos permite utilizar un modelo de `Flair` de tal forma que se integré al pipeline. De esa mañera se puede hacer directamente prediciones utilizando un objeto `Doc` y un modelo entrenado previamente.\n",
    "4. El componente `write_methods` sirve a partir del objecto `Doc` a crear los ficheros necesarios para\n",
    "    - Entrenar un modelo de `Flair`\n",
    "    - Evaluar un modelo utilizando el script de evaluación propio de la competición.\n",
    "\n",
    "```{note}\n",
    "Hemos integrado el [script de evaluation](https://github.com/PlanTL-GOB-ES/MEDDOCAN-Evaluation-Script) dentro de nuestra librería con algunas modificaciones y un poco mas de documentación, con el objetivo de facilitarnos la vida a la hora de correr las evaluaciones.  \n",
    "La evaluación se hace entonces directamente desde nuestra librería gracias al commando: \n",
    "\n",
    "```console\n",
    "$ meddocan eval --help\n",
    "Usage: meddocan eval [OPTIONS] MODEL NAME\n",
    "Evaluate the model with the `meddocan` metrics.\n",
    "    \n",
    "    Compute f1-score for Ner (start, end, tag), Span (start, end) and merged\n",
    "    span if not there is no number or letter between consecutive span.\n",
    "\n",
    "    The function produce the following temporary folder hierarchy:\n",
    "\n",
    "    evaluation_root\n",
    "    ├── golds\n",
    "    │   ├── dev\n",
    "    |   |    └── brat\n",
    "    |   |       ├── file-1.ann\n",
    "    |   |       ├── file-1.txt\n",
    "    |   |       ├── ...\n",
    "    |   |       └── file-n.ann\n",
    "    |   └── test\n",
    "    |        └── brat\n",
    "    |           ├── file-1.ann\n",
    "    |           ├── file-1.txt\n",
    "    |           ├── ...\n",
    "    |           └── file-n.ann\n",
    "    │       \n",
    "    └── name\n",
    "        ├── dev\n",
    "        |    └── brat\n",
    "        |       ├── file-1.ann\n",
    "        |       ├── file-1.txt\n",
    "        |       ├── ...\n",
    "        |       └── file-n.ann\n",
    "        └── test\n",
    "             └── brat\n",
    "                ├── file-1.ann\n",
    "                ├── file-1.txt\n",
    "                ├── ...\n",
    "                └── file-n.ann\n",
    "\n",
    "    Then the model is evaluate producing the following files:\n",
    "\n",
    "    evaluation_root/name\n",
    "    ├── dev\n",
    "    │   ├── ner\n",
    "    │   └── spans\n",
    "    └── test\n",
    "        ├── ner\n",
    "        └── spans\n",
    "\n",
    "    And the temporary folder are removed.\n",
    "\n",
    "    Args:\n",
    "        model (str): Path to the ``Flair`` model to evaluate.\n",
    "        name (str): Name of the folder that will holds the results produced by\\\n",
    "            the ``Flair`` model.\n",
    "        evaluation_root (str): Path to the root folder where the\n",
    "            results will be stored.\n",
    "        sentence_splitting (Path): Path to the sub-directory\n",
    "            `sentence_splitting`. This directory is mandatory to compute the\n",
    "            `leak score` evaluation metric.\n",
    "        force (bool, optional): Force to create again the golds standard files.\n",
    "            Defaults to False.\n",
    "\n",
    "Arguments:\n",
    "  MODEL  Path to the Flair model to evaluate.  [required]\n",
    "  NAME   Name of the folder that will holds the results produced by the\n",
    "         ``Flair`` model.  [required]\n",
    "\n",
    "Options:\n",
    "  --evaluation-root PATH     Path to the root folder where the results will be\n",
    "                             stored.\n",
    "  --sentence-splitting PATH  The sub-directory `sentence_splitting` is\n",
    "                             mandatory to compute the `leak score` evaluation\n",
    "                             metric.\n",
    "  --device TEXT              Device to use.  [default: cuda:0]\n",
    "  --help                     Show this message and exit.        \n",
    "```\n",
    "```\n",
    "\n",
    "\n"
   ]
  },
  {
   "cell_type": "markdown",
   "metadata": {},
   "source": [
    "El objecto `doc_with_brat_pair` creado por `GsDocs` tiene 2 atributos."
   ]
  },
  {
   "cell_type": "code",
   "execution_count": 22,
   "metadata": {},
   "outputs": [
    {
     "data": {
      "text/plain": [
       "['brat_files_pair', 'doc']"
      ]
     },
     "execution_count": 22,
     "metadata": {},
     "output_type": "execute_result"
    }
   ],
   "source": [
    "[attr for attr in vars(doc_with_brat_pair).keys()]"
   ]
  },
  {
   "cell_type": "markdown",
   "metadata": {},
   "source": [
    "El atributo `brat_files_pair` es un objeto `meddocan.data.docs_iterators.BratFilesPair` que indica la ubicación de los ficheros originales "
   ]
  },
  {
   "cell_type": "code",
   "execution_count": 47,
   "metadata": {},
   "outputs": [
    {
     "data": {
      "text/html": [
       "<div>\n",
       "<style scoped>\n",
       "    .dataframe tbody tr th:only-of-type {\n",
       "        vertical-align: middle;\n",
       "    }\n",
       "\n",
       "    .dataframe tbody tr th {\n",
       "        vertical-align: top;\n",
       "    }\n",
       "\n",
       "    .dataframe thead th {\n",
       "        text-align: right;\n",
       "    }\n",
       "</style>\n",
       "<table border=\"1\" class=\"dataframe\">\n",
       "  <thead>\n",
       "    <tr style=\"text-align: right;\">\n",
       "      <th></th>\n",
       "      <th>type</th>\n",
       "      <th>txt</th>\n",
       "      <th>ann</th>\n",
       "    </tr>\n",
       "  </thead>\n",
       "  <tbody>\n",
       "    <tr>\n",
       "      <th>0</th>\n",
       "      <td>BratFilesPair</td>\n",
       "      <td>S0004-06142005000500011-1.ann</td>\n",
       "      <td>S0004-06142005000500011-1.txt</td>\n",
       "    </tr>\n",
       "  </tbody>\n",
       "</table>\n",
       "</div>"
      ],
      "text/plain": [
       "            type                            txt                            ann\n",
       "0  BratFilesPair  S0004-06142005000500011-1.ann  S0004-06142005000500011-1.txt"
      ]
     },
     "execution_count": 47,
     "metadata": {},
     "output_type": "execute_result"
    }
   ],
   "source": [
    "pd.DataFrame([type(doc_with_brat_pair.brat_files_pair).__qualname__, doc_with_brat_pair.brat_files_pair.ann.name, doc_with_brat_pair.brat_files_pair.txt.name], index=[\"type\", \"txt\", \"ann\"]).T"
   ]
  },
  {
   "cell_type": "markdown",
   "metadata": {},
   "source": [
    "Lo que hace `GsDocs` es crear un objecto `Doc` a partir de un objeto `meddocan.data.docs_iterators.DocWithBratPair` utilizando el `MedocanPipeline`.  \n",
    "En una primera fase el pipeline recibe el texo contenido en el fichero original *S0004-06142005000500011-1.txt* como argumento y en un segunda fase se le asigña las entidades extraidas del fichero *S0004-06142005000500011-1.ann*.  \n",
    "\n",
    "Si queremos obtener las entidades:"
   ]
  },
  {
   "cell_type": "code",
   "execution_count": 56,
   "metadata": {},
   "outputs": [
    {
     "data": {
      "text/html": [
       "<div>\n",
       "<style scoped>\n",
       "    .dataframe tbody tr th:only-of-type {\n",
       "        vertical-align: middle;\n",
       "    }\n",
       "\n",
       "    .dataframe tbody tr th {\n",
       "        vertical-align: top;\n",
       "    }\n",
       "\n",
       "    .dataframe thead th {\n",
       "        text-align: right;\n",
       "    }\n",
       "</style>\n",
       "<table border=\"1\" class=\"dataframe\">\n",
       "  <thead>\n",
       "    <tr style=\"text-align: right;\">\n",
       "      <th></th>\n",
       "      <th>0</th>\n",
       "      <th>1</th>\n",
       "      <th>2</th>\n",
       "      <th>3</th>\n",
       "      <th>4</th>\n",
       "      <th>5</th>\n",
       "      <th>6</th>\n",
       "      <th>7</th>\n",
       "      <th>8</th>\n",
       "      <th>9</th>\n",
       "      <th>10</th>\n",
       "      <th>11</th>\n",
       "      <th>12</th>\n",
       "      <th>13</th>\n",
       "    </tr>\n",
       "  </thead>\n",
       "  <tbody>\n",
       "    <tr>\n",
       "      <th>Entidad</th>\n",
       "      <td>Ernesto</td>\n",
       "      <td>Rivera Bueno</td>\n",
       "      <td>368503</td>\n",
       "      <td>26 63514095</td>\n",
       "      <td>Calle Miguel Benitez 90</td>\n",
       "      <td>Madrid</td>\n",
       "      <td>28016</td>\n",
       "      <td>03/03/1946</td>\n",
       "      <td>España</td>\n",
       "      <td>70 años</td>\n",
       "      <td>H</td>\n",
       "      <td>12/12/2016</td>\n",
       "      <td>Ignacio Navarro Cuéllar</td>\n",
       "      <td>28 28 70973</td>\n",
       "    </tr>\n",
       "  </tbody>\n",
       "</table>\n",
       "</div>"
      ],
      "text/plain": [
       "              0             1       2            3                        4   \\\n",
       "Entidad  Ernesto  Rivera Bueno  368503  26 63514095  Calle Miguel Benitez 90   \n",
       "\n",
       "             5      6           7       8        9  10          11  \\\n",
       "Entidad  Madrid  28016  03/03/1946  España  70 años  H  12/12/2016   \n",
       "\n",
       "                              12           13  \n",
       "Entidad  Ignacio Navarro Cuéllar  28 28 70973  "
      ]
     },
     "execution_count": 56,
     "metadata": {},
     "output_type": "execute_result"
    }
   ],
   "source": [
    "pd.DataFrame([ent.text for ent in doc.ents], columns=[\"Entidad\"]).T"
   ]
  },
  {
   "cell_type": "markdown",
   "metadata": {},
   "source": [
    "O si queremos algo mas didactico:"
   ]
  },
  {
   "cell_type": "code",
   "execution_count": 57,
   "metadata": {},
   "outputs": [
    {
     "data": {
      "text/html": [
       "<span class=\"tex2jax_ignore\"><div class=\"entities\" style=\"line-height: 2.5; direction: ltr\">Datos del paciente.</br>Nombre:  \n",
       "<mark class=\"entity\" style=\"background: #FF6600; padding: 0.45em 0.6em; margin: 0 0.25em; line-height: 1; border-radius: 0.35em;\">\n",
       "    Ernesto\n",
       "    <span style=\"font-size: 0.8em; font-weight: bold; line-height: 1; border-radius: 0.35em; vertical-align: middle; margin-left: 0.5rem\">NOMBRE_SUJETO_ASISTENCIA</span>\n",
       "</mark>\n",
       ".</br>Apellidos: \n",
       "<mark class=\"entity\" style=\"background: #FF6600; padding: 0.45em 0.6em; margin: 0 0.25em; line-height: 1; border-radius: 0.35em;\">\n",
       "    Rivera Bueno\n",
       "    <span style=\"font-size: 0.8em; font-weight: bold; line-height: 1; border-radius: 0.35em; vertical-align: middle; margin-left: 0.5rem\">NOMBRE_SUJETO_ASISTENCIA</span>\n",
       "</mark>\n",
       ".</br>NHC: \n",
       "<mark class=\"entity\" style=\"background: #FF9900; padding: 0.45em 0.6em; margin: 0 0.25em; line-height: 1; border-radius: 0.35em;\">\n",
       "    368503\n",
       "    <span style=\"font-size: 0.8em; font-weight: bold; line-height: 1; border-radius: 0.35em; vertical-align: middle; margin-left: 0.5rem\">ID_SUJETO_ASISTENCIA</span>\n",
       "</mark>\n",
       ".</br>NASS: \n",
       "<mark class=\"entity\" style=\"background: #00FF7F; padding: 0.45em 0.6em; margin: 0 0.25em; line-height: 1; border-radius: 0.35em;\">\n",
       "    26 63514095\n",
       "    <span style=\"font-size: 0.8em; font-weight: bold; line-height: 1; border-radius: 0.35em; vertical-align: middle; margin-left: 0.5rem\">ID_ASEGURAMIENTO</span>\n",
       "</mark>\n",
       ".</br>Domicilio:  \n",
       "<mark class=\"entity\" style=\"background: #ADFF2F; padding: 0.45em 0.6em; margin: 0 0.25em; line-height: 1; border-radius: 0.35em;\">\n",
       "    Calle Miguel Benitez 90\n",
       "    <span style=\"font-size: 0.8em; font-weight: bold; line-height: 1; border-radius: 0.35em; vertical-align: middle; margin-left: 0.5rem\">CALLE</span>\n",
       "</mark>\n",
       ".</br>Localidad/ Provincia: \n",
       "<mark class=\"entity\" style=\"background: #CCFFFF; padding: 0.45em 0.6em; margin: 0 0.25em; line-height: 1; border-radius: 0.35em;\">\n",
       "    Madrid\n",
       "    <span style=\"font-size: 0.8em; font-weight: bold; line-height: 1; border-radius: 0.35em; vertical-align: middle; margin-left: 0.5rem\">TERRITORIO</span>\n",
       "</mark>\n",
       ".</br>CP: \n",
       "<mark class=\"entity\" style=\"background: #CCFFFF; padding: 0.45em 0.6em; margin: 0 0.25em; line-height: 1; border-radius: 0.35em;\">\n",
       "    28016\n",
       "    <span style=\"font-size: 0.8em; font-weight: bold; line-height: 1; border-radius: 0.35em; vertical-align: middle; margin-left: 0.5rem\">TERRITORIO</span>\n",
       "</mark>\n",
       ".</br>Datos asistenciales.</br>Fecha de nacimiento: \n",
       "<mark class=\"entity\" style=\"background: #FFCCFF; padding: 0.45em 0.6em; margin: 0 0.25em; line-height: 1; border-radius: 0.35em;\">\n",
       "    03/03/1946\n",
       "    <span style=\"font-size: 0.8em; font-weight: bold; line-height: 1; border-radius: 0.35em; vertical-align: middle; margin-left: 0.5rem\">FECHAS</span>\n",
       "</mark>\n",
       ".</br>País: \n",
       "<mark class=\"entity\" style=\"background: #FFA07A; padding: 0.45em 0.6em; margin: 0 0.25em; line-height: 1; border-radius: 0.35em;\">\n",
       "    España\n",
       "    <span style=\"font-size: 0.8em; font-weight: bold; line-height: 1; border-radius: 0.35em; vertical-align: middle; margin-left: 0.5rem\">PAIS</span>\n",
       "</mark>\n",
       ".</br>Edad: \n",
       "<mark class=\"entity\" style=\"background: #7FFF00; padding: 0.45em 0.6em; margin: 0 0.25em; line-height: 1; border-radius: 0.35em;\">\n",
       "    70 años\n",
       "    <span style=\"font-size: 0.8em; font-weight: bold; line-height: 1; border-radius: 0.35em; vertical-align: middle; margin-left: 0.5rem\">EDAD_SUJETO_ASISTENCIA</span>\n",
       "</mark>\n",
       " Sexo: \n",
       "<mark class=\"entity\" style=\"background: #99CCFF; padding: 0.45em 0.6em; margin: 0 0.25em; line-height: 1; border-radius: 0.35em;\">\n",
       "    H\n",
       "    <span style=\"font-size: 0.8em; font-weight: bold; line-height: 1; border-radius: 0.35em; vertical-align: middle; margin-left: 0.5rem\">SEXO_SUJETO_ASISTENCIA</span>\n",
       "</mark>\n",
       ".</br>Fecha de Ingreso: \n",
       "<mark class=\"entity\" style=\"background: #FFCCFF; padding: 0.45em 0.6em; margin: 0 0.25em; line-height: 1; border-radius: 0.35em;\">\n",
       "    12/12/2016\n",
       "    <span style=\"font-size: 0.8em; font-weight: bold; line-height: 1; border-radius: 0.35em; vertical-align: middle; margin-left: 0.5rem\">FECHAS</span>\n",
       "</mark>\n",
       ".</br>Médico:  \n",
       "<mark class=\"entity\" style=\"background: #FFD700; padding: 0.45em 0.6em; margin: 0 0.25em; line-height: 1; border-radius: 0.35em;\">\n",
       "    Ignacio Navarro Cuéllar\n",
       "    <span style=\"font-size: 0.8em; font-weight: bold; line-height: 1; border-radius: 0.35em; vertical-align: middle; margin-left: 0.5rem\">NOMBRE_PERSONAL_SANITARIO</span>\n",
       "</mark>\n",
       " NºCol: \n",
       "<mark class=\"entity\" style=\"background: #FF0000; padding: 0.45em 0.6em; margin: 0 0.25em; line-height: 1; border-radius: 0.35em;\">\n",
       "    28 28 70973\n",
       "    <span style=\"font-size: 0.8em; font-weight: bold; line-height: 1; border-radius: 0.35em; vertical-align: middle; margin-left: 0.5rem\">ID_TITULACION_PERSONAL_SANITARIO</span>\n",
       "</mark>\n",
       ".</div></span>"
      ],
      "text/plain": [
       "<IPython.core.display.HTML object>"
      ]
     },
     "metadata": {},
     "output_type": "display_data"
    }
   ],
   "source": [
    "displacy.render(doc, style=\"ent\")"
   ]
  },
  {
   "cell_type": "code",
   "execution_count": null,
   "metadata": {},
   "outputs": [],
   "source": []
  }
 ],
 "metadata": {
  "jupytext": {
   "formats": "ipynb,md:myst"
  },
  "kernelspec": {
   "display_name": "Python 3 (ipykernel)",
   "language": "python",
   "name": "python3"
  },
  "language_info": {
   "codemirror_mode": {
    "name": "ipython",
    "version": 3
   },
   "file_extension": ".py",
   "mimetype": "text/x-python",
   "name": "python",
   "nbconvert_exporter": "python",
   "pygments_lexer": "ipython3",
   "version": "3.8.3"
  },
  "vscode": {
   "interpreter": {
    "hash": "7151f071bfd20d377766d7902c7e64a06ae1e872581a937c22fb53147cc684b7"
   }
  }
 },
 "nbformat": 4,
 "nbformat_minor": 2
}
