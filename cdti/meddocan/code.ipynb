{
 "cells": [
  {
   "cell_type": "code",
   "execution_count": 1,
   "metadata": {},
   "outputs": [],
   "source": [
    "import warnings\n",
    "warnings.filterwarnings(\"ignore\", category=FutureWarning) "
   ]
  },
  {
   "cell_type": "code",
   "execution_count": 2,
   "metadata": {},
   "outputs": [],
   "source": [
    "import pandas as pd\n",
    "from pathlib import Path\n",
    "from meddocan.data import meddocan_zip, ArchiveFolder\n",
    "from meddocan.data.containers import BratAnnotations, BratSpan, BratFilesPair\n",
    "from typing import List, Tuple\n",
    "from spacy import displacy\n",
    "from meddocan.data.docs_iterators import GsDocs"
   ]
  },
  {
   "cell_type": "markdown",
   "metadata": {},
   "source": [
    "# Resumen del código [^1]\n",
    "\n",
    "[^1]: El proyecto completo está disponible en [github](https://github.com/GuiGel/MedDocAn)."
   ]
  },
  {
   "cell_type": "markdown",
   "metadata": {},
   "source": [
    "## Meddocan pipeline"
   ]
  },
  {
   "cell_type": "markdown",
   "metadata": {},
   "source": [
    "Una de las tareas es obtener un preprocesso correcto de los informes clínicos a traves de un objeto `spacy.tokens.Doc` a partir de cualquier cadena de caracteres. Por ello utilizaremos el `meddocan.language.pipeline.meddocan_pipeline` creado con la ayuda de la biblioteca [spaCy](https://spacy.io/) para adaptarlo a nuestras necesidades. El código relativo a la creación del pipeline se puede encontrar en el paquete [meddocan/language](https://github.com/GuiGel/MedDocAn/tree/master/meddocan/language).\n",
    "\n",
    "Por otra parte tenemos que poder leer y extraer la información relevante de los documentos provisto en el formato Brat. Es decir que cada informe clínico esta compuesto de 2 ficheros. Uno contiene el texto bruto encodificado en el formato utf-8. Otro las anotaciónes al formato Brat tambien al formato utf-8. El código relativo de esa parte se encuentra en el paquete [meddocan/data](https://github.com/GuiGel/MedDocAn/tree/master/meddocan/data)\n",
    "\n",
    "Para ver cómo funciona, seleccionamos un informe médico gracias al objeto `meddocan.data.docs_iterators.GsDocs` que permite acceder a los documentos del dataset meddocan directamente como objetos `spacy.tokens.Doc` con varios atributos específicos."
   ]
  },
  {
   "cell_type": "code",
   "execution_count": 3,
   "metadata": {},
   "outputs": [],
   "source": [
    "gs_docs = GsDocs(ArchiveFolder.train)\n",
    "docs_with_brat_pair = iter(gs_docs)\n",
    "doc_with_brat_pair = next(docs_with_brat_pair)\n"
   ]
  },
  {
   "cell_type": "markdown",
   "metadata": {},
   "source": [
    "El objecto `doc_with_brat_pair` creado por `GsDocs` tiene 2 atributos.\n"
   ]
  },
  {
   "cell_type": "code",
   "execution_count": 4,
   "metadata": {},
   "outputs": [
    {
     "data": {
      "text/plain": [
       "['brat_files_pair', 'doc']"
      ]
     },
     "execution_count": 4,
     "metadata": {},
     "output_type": "execute_result"
    }
   ],
   "source": [
    "[attr for attr in vars(doc_with_brat_pair).keys()]"
   ]
  },
  {
   "cell_type": "markdown",
   "metadata": {},
   "source": [
    "El atributo `brat_files_pair` es un objeto `meddocan.data.docs_iterators.BratFilesPair` que indica la ubicación de los ficheros originales correspondiendo al attributo `doc`."
   ]
  },
  {
   "cell_type": "code",
   "execution_count": 5,
   "metadata": {},
   "outputs": [
    {
     "data": {
      "text/html": [
       "<div>\n",
       "<style scoped>\n",
       "    .dataframe tbody tr th:only-of-type {\n",
       "        vertical-align: middle;\n",
       "    }\n",
       "\n",
       "    .dataframe tbody tr th {\n",
       "        vertical-align: top;\n",
       "    }\n",
       "\n",
       "    .dataframe thead th {\n",
       "        text-align: right;\n",
       "    }\n",
       "</style>\n",
       "<table border=\"1\" class=\"dataframe\">\n",
       "  <thead>\n",
       "    <tr style=\"text-align: right;\">\n",
       "      <th></th>\n",
       "      <th>type</th>\n",
       "      <th>txt</th>\n",
       "      <th>ann</th>\n",
       "    </tr>\n",
       "  </thead>\n",
       "  <tbody>\n",
       "    <tr>\n",
       "      <th>0</th>\n",
       "      <td>BratFilesPair</td>\n",
       "      <td>S0004-06142005000500011-1.ann</td>\n",
       "      <td>S0004-06142005000500011-1.txt</td>\n",
       "    </tr>\n",
       "  </tbody>\n",
       "</table>\n",
       "</div>"
      ],
      "text/plain": [
       "            type                            txt                            ann\n",
       "0  BratFilesPair  S0004-06142005000500011-1.ann  S0004-06142005000500011-1.txt"
      ]
     },
     "execution_count": 5,
     "metadata": {},
     "output_type": "execute_result"
    }
   ],
   "source": [
    "pd.DataFrame([type(doc_with_brat_pair.brat_files_pair).__qualname__, doc_with_brat_pair.brat_files_pair.ann.name, doc_with_brat_pair.brat_files_pair.txt.name], index=[\"type\", \"txt\", \"ann\"]).T"
   ]
  },
  {
   "cell_type": "markdown",
   "metadata": {},
   "source": [
    "Lo que hace `GsDocs` es crear un objecto `Doc` a partir de un objeto `meddocan.data.docs_iterators.DocWithBratPair` utilizando el `MedocanPipeline`.  \n",
    "\n",
    "En una primera fase el pipeline recibe el texo contenido en el fichero original *S0004-06142005000500011-1.txt* como argumento y en un segunda fase se le asigña las entidades extraidas del fichero *S0004-06142005000500011-1.ann* utilizando el metodo ``spacy.tokens.Doc.set_ents``."
   ]
  },
  {
   "cell_type": "code",
   "execution_count": 6,
   "metadata": {},
   "outputs": [
    {
     "data": {
      "text/plain": [
       "Datos del paciente.\n",
       "Nombre:  Ernesto.\n",
       "Apellidos: Rivera Bueno.\n",
       "NHC: 368503.\n",
       "NASS: 26 63514095.\n",
       "Domicilio:  Calle Miguel Benitez 90.\n",
       "Localidad/ Provincia: Madrid.\n",
       "CP: 28016.\n",
       "Datos asistenciales.\n",
       "Fecha de nacimiento: 03/03/1946.\n",
       "País: España.\n",
       "Edad: 70 años Sexo: H.\n",
       "Fecha de Ingreso: 12/12/2016.\n",
       "Médico:  Ignacio Navarro Cuéllar NºCol: 28 28 70973.\n",
       "Informe clínico del paciente: Paciente de 70 años de edad, minero jubilado, sin alergias medicamentosas conocidas, que presenta como antecedentes personales: accidente laboral antiguo con fracturas vertebrales y costales; intervenido de enfermedad de Dupuytren en mano derecha y by-pass iliofemoral izquierdo; Diabetes Mellitus tipo II, hipercolesterolemia e hiperuricemia; enolismo activo, fumador de 20 cigarrillos / día.\n",
       "Es derivado desde Atención Primaria por presentar hematuria macroscópica postmiccional en una ocasión y microhematuria persistente posteriormente, con micciones normales.\n",
       "En la exploración física presenta un buen estado general, con abdomen y genitales normales; tacto rectal compatible con adenoma de próstata grado I/IV.\n",
       "En la analítica de orina destaca la existencia de 4 hematíes/ campo y 0-5 leucocitos/campo; resto de sedimento normal.\n",
       "Hemograma normal; en la bioquímica destaca una glucemia de 169 mg/dl y triglicéridos de 456 mg/dl; función hepática y renal normal. PSA de 1.16 ng/ml.\n",
       "Las citologías de orina son repetidamente sospechosas de malignidad.\n",
       "En la placa simple de abdomen se valoran cambios degenerativos en columna lumbar y calcificaciones vasculares en ambos hipocondrios y en pelvis.\n",
       "La ecografía urológica pone de manifiesto la existencia de quistes corticales simples en riñón derecho, vejiga sin alteraciones con buena capacidad y próstata con un peso de 30 g.\n",
       "En la UIV se observa normofuncionalismo renal bilateral, calcificaciones sobre silueta renal derecha y uréteres arrosariados con imágenes de adición en el tercio superior de ambos uréteres, en relación a pseudodiverticulosis ureteral. El cistograma demuestra una vejiga con buena capacidad, pero paredes trabeculadas en relación a vejiga de esfuerzo. La TC abdominal es normal.\n",
       "La cistoscopia descubre la existencia de pequeñas tumoraciones vesicales, realizándose resección transuretral con el resultado anatomopatológico de carcinoma urotelial superficial de vejiga.\n",
       "Remitido por: Ignacio Navarro Cuéllar c/ del Abedul 5-7, 2º dcha 28036 Madrid, España E-mail: nnavcu@hotmail.com."
      ]
     },
     "execution_count": 6,
     "metadata": {},
     "output_type": "execute_result"
    }
   ],
   "source": [
    "gold = doc_with_brat_pair.doc\n",
    "gold"
   ]
  },
  {
   "cell_type": "markdown",
   "metadata": {},
   "source": [
    "Observamos la serie de pre-processos applicados por el `meddocan_pipeline` y ``GsDocs`` observando la instancia `gold` del objeto ``Doc``.\n",
    "\n",
    "```{note}\n",
    "Por el ejemplo solo miramos las 3 primeras lineas del objeto ``Doc``.\n",
    "```"
   ]
  },
  {
   "cell_type": "code",
   "execution_count": 7,
   "metadata": {},
   "outputs": [
    {
     "name": "stdout",
     "output_type": "stream",
     "text": [
      "---------------------- Sentence 1 ------------------------------\n"
     ]
    },
    {
     "data": {
      "text/html": [
       "<div>\n",
       "<style scoped>\n",
       "    .dataframe tbody tr th:only-of-type {\n",
       "        vertical-align: middle;\n",
       "    }\n",
       "\n",
       "    .dataframe tbody tr th {\n",
       "        vertical-align: top;\n",
       "    }\n",
       "\n",
       "    .dataframe thead th {\n",
       "        text-align: right;\n",
       "    }\n",
       "</style>\n",
       "<table border=\"1\" class=\"dataframe\">\n",
       "  <thead>\n",
       "    <tr style=\"text-align: right;\">\n",
       "      <th></th>\n",
       "      <th>text</th>\n",
       "      <th>bio</th>\n",
       "      <th>etiqueta</th>\n",
       "    </tr>\n",
       "  </thead>\n",
       "  <tbody>\n",
       "    <tr>\n",
       "      <th>0</th>\n",
       "      <td>Datos</td>\n",
       "      <td>O</td>\n",
       "      <td></td>\n",
       "    </tr>\n",
       "    <tr>\n",
       "      <th>1</th>\n",
       "      <td>del</td>\n",
       "      <td>O</td>\n",
       "      <td></td>\n",
       "    </tr>\n",
       "    <tr>\n",
       "      <th>2</th>\n",
       "      <td>paciente</td>\n",
       "      <td>O</td>\n",
       "      <td></td>\n",
       "    </tr>\n",
       "    <tr>\n",
       "      <th>3</th>\n",
       "      <td>.</td>\n",
       "      <td>O</td>\n",
       "      <td></td>\n",
       "    </tr>\n",
       "    <tr>\n",
       "      <th>4</th>\n",
       "      <td>\\n</td>\n",
       "      <td>O</td>\n",
       "      <td></td>\n",
       "    </tr>\n",
       "  </tbody>\n",
       "</table>\n",
       "</div>"
      ],
      "text/plain": [
       "       text bio etiqueta\n",
       "0     Datos   O         \n",
       "1       del   O         \n",
       "2  paciente   O         \n",
       "3         .   O         \n",
       "4        \\n   O         "
      ]
     },
     "metadata": {},
     "output_type": "display_data"
    },
    {
     "name": "stdout",
     "output_type": "stream",
     "text": [
      "---------------------- Sentence 2 ------------------------------\n"
     ]
    },
    {
     "data": {
      "text/html": [
       "<div>\n",
       "<style scoped>\n",
       "    .dataframe tbody tr th:only-of-type {\n",
       "        vertical-align: middle;\n",
       "    }\n",
       "\n",
       "    .dataframe tbody tr th {\n",
       "        vertical-align: top;\n",
       "    }\n",
       "\n",
       "    .dataframe thead th {\n",
       "        text-align: right;\n",
       "    }\n",
       "</style>\n",
       "<table border=\"1\" class=\"dataframe\">\n",
       "  <thead>\n",
       "    <tr style=\"text-align: right;\">\n",
       "      <th></th>\n",
       "      <th>text</th>\n",
       "      <th>bio</th>\n",
       "      <th>etiqueta</th>\n",
       "    </tr>\n",
       "  </thead>\n",
       "  <tbody>\n",
       "    <tr>\n",
       "      <th>0</th>\n",
       "      <td>Nombre</td>\n",
       "      <td>O</td>\n",
       "      <td></td>\n",
       "    </tr>\n",
       "    <tr>\n",
       "      <th>1</th>\n",
       "      <td>:</td>\n",
       "      <td>O</td>\n",
       "      <td></td>\n",
       "    </tr>\n",
       "    <tr>\n",
       "      <th>2</th>\n",
       "      <td></td>\n",
       "      <td>O</td>\n",
       "      <td></td>\n",
       "    </tr>\n",
       "    <tr>\n",
       "      <th>3</th>\n",
       "      <td>Ernesto</td>\n",
       "      <td>B</td>\n",
       "      <td>NOMBRE_SUJETO_ASISTENCIA</td>\n",
       "    </tr>\n",
       "    <tr>\n",
       "      <th>4</th>\n",
       "      <td>.</td>\n",
       "      <td>O</td>\n",
       "      <td></td>\n",
       "    </tr>\n",
       "    <tr>\n",
       "      <th>5</th>\n",
       "      <td>\\n</td>\n",
       "      <td>O</td>\n",
       "      <td></td>\n",
       "    </tr>\n",
       "  </tbody>\n",
       "</table>\n",
       "</div>"
      ],
      "text/plain": [
       "      text bio                  etiqueta\n",
       "0   Nombre   O                          \n",
       "1        :   O                          \n",
       "2            O                          \n",
       "3  Ernesto   B  NOMBRE_SUJETO_ASISTENCIA\n",
       "4        .   O                          \n",
       "5       \\n   O                          "
      ]
     },
     "metadata": {},
     "output_type": "display_data"
    },
    {
     "name": "stdout",
     "output_type": "stream",
     "text": [
      "---------------------- Sentence 3 ------------------------------\n"
     ]
    },
    {
     "data": {
      "text/html": [
       "<div>\n",
       "<style scoped>\n",
       "    .dataframe tbody tr th:only-of-type {\n",
       "        vertical-align: middle;\n",
       "    }\n",
       "\n",
       "    .dataframe tbody tr th {\n",
       "        vertical-align: top;\n",
       "    }\n",
       "\n",
       "    .dataframe thead th {\n",
       "        text-align: right;\n",
       "    }\n",
       "</style>\n",
       "<table border=\"1\" class=\"dataframe\">\n",
       "  <thead>\n",
       "    <tr style=\"text-align: right;\">\n",
       "      <th></th>\n",
       "      <th>text</th>\n",
       "      <th>bio</th>\n",
       "      <th>etiqueta</th>\n",
       "    </tr>\n",
       "  </thead>\n",
       "  <tbody>\n",
       "    <tr>\n",
       "      <th>0</th>\n",
       "      <td>Apellidos</td>\n",
       "      <td>O</td>\n",
       "      <td></td>\n",
       "    </tr>\n",
       "    <tr>\n",
       "      <th>1</th>\n",
       "      <td>:</td>\n",
       "      <td>O</td>\n",
       "      <td></td>\n",
       "    </tr>\n",
       "    <tr>\n",
       "      <th>2</th>\n",
       "      <td>Rivera</td>\n",
       "      <td>B</td>\n",
       "      <td>NOMBRE_SUJETO_ASISTENCIA</td>\n",
       "    </tr>\n",
       "    <tr>\n",
       "      <th>3</th>\n",
       "      <td>Bueno</td>\n",
       "      <td>I</td>\n",
       "      <td>NOMBRE_SUJETO_ASISTENCIA</td>\n",
       "    </tr>\n",
       "    <tr>\n",
       "      <th>4</th>\n",
       "      <td>.</td>\n",
       "      <td>O</td>\n",
       "      <td></td>\n",
       "    </tr>\n",
       "    <tr>\n",
       "      <th>5</th>\n",
       "      <td>\\n</td>\n",
       "      <td>O</td>\n",
       "      <td></td>\n",
       "    </tr>\n",
       "  </tbody>\n",
       "</table>\n",
       "</div>"
      ],
      "text/plain": [
       "        text bio                  etiqueta\n",
       "0  Apellidos   O                          \n",
       "1          :   O                          \n",
       "2     Rivera   B  NOMBRE_SUJETO_ASISTENCIA\n",
       "3      Bueno   I  NOMBRE_SUJETO_ASISTENCIA\n",
       "4          .   O                          \n",
       "5         \\n   O                          "
      ]
     },
     "metadata": {},
     "output_type": "display_data"
    }
   ],
   "source": [
    "max_lines = 3\n",
    "\n",
    "for i, sent in enumerate(gold.sents):\n",
    "    print(f\"---------------------- Sentence {i + 1} ------------------------------\")\n",
    "    a = zip(*((tok.text, tok.ent_iob_, tok.ent_type_) for tok in sent))\n",
    "    df = pd.DataFrame(a, index=[\"text\", \"bio\", \"etiqueta\"])\n",
    "    display(df.T)\n",
    "    if i >= max_lines - 1:\n",
    "        break"
   ]
  },
  {
   "cell_type": "markdown",
   "metadata": {},
   "source": [
    "Para entender un poco mejor lo que hacemos miramos los differentes componentes del `MeddocanPipeline`."
   ]
  },
  {
   "cell_type": "code",
   "execution_count": 8,
   "metadata": {},
   "outputs": [
    {
     "data": {
      "text/plain": [
       "['missaligned_splitter', 'line_sentencizer', 'predictor', 'write_methods']"
      ]
     },
     "execution_count": 8,
     "metadata": {},
     "output_type": "execute_result"
    }
   ],
   "source": [
    "gs_docs.nlp.pipe_names"
   ]
  },
  {
   "cell_type": "markdown",
   "metadata": {},
   "source": [
    "1. El primer elemento de nuestro pipeline es el tokenizer seguido del componente `missaligned_splitter` que nos permite afinar la tokenización de tal forma que cada token se corresponda exactamente con una etiqueta al formato BIO.\n",
    "2. El segundo componente, `line_sentencizer` permite partir el texto en frases. En este caso se corresponden a un párafo.\n",
    "3. El componente `predictor` nos permite utilizar un modelo de `Flair` de tal forma que se integré al pipeline. De esa mañera se puede hacer directamente prediciones utilizando un objeto `Doc` y un modelo entrenado previamente.\n",
    "4. El componente `write_methods` añade los metodos ``to_connl03`` y ``to_ann`` al objecto ``Doc`` que sirven a crear los ficheros necesarios para:\n",
    "    - Crear un `flair.data.Corpus` que va a permitir entrenar un modelo con `Flair`.\n",
    "    - Evaluar un modelo utilizando el script de evaluación propio de la competición.\n",
    "\n",
    "``````{note}\n",
    "Hemos integrado el [script de evaluation](https://github.com/PlanTL-GOB-ES/MEDDOCAN-Evaluation-Script) dentro de nuestra librería con algunas modificaciones y un poco mas de documentación, con el objetivo de unificar el workflow del entrenamiento a la evaluación.  \n",
    "La evaluación se hace entonces directamente desde nuestra librería gracias al commando: \n",
    "\n",
    "```console\n",
    "$ meddocan eval --help\n",
    "Usage: meddocan eval [OPTIONS] MODEL NAME\n",
    "Evaluate the model with the `meddocan` metrics.\n",
    "    \n",
    "    Compute f1-score for Ner (start, end, tag), Span (start, end) and merged\n",
    "    span if not there is no number or letter between consecutive span.\n",
    "\n",
    "    The function produce the following temporary folder hierarchy:\n",
    "\n",
    "    evaluation_root\n",
    "    ├── golds\n",
    "    │   ├── dev\n",
    "    |   |    └── brat\n",
    "    |   |       ├── file-1.ann\n",
    "    |   |       ├── file-1.txt\n",
    "    |   |       ├── ...\n",
    "    |   |       └── file-n.ann\n",
    "    |   └── test\n",
    "    |        └── brat\n",
    "    |           ├── file-1.ann\n",
    "    |           ├── file-1.txt\n",
    "    |           ├── ...\n",
    "    |           └── file-n.ann\n",
    "    │       \n",
    "    └── name\n",
    "        ├── dev\n",
    "        |    └── brat\n",
    "        |       ├── file-1.ann\n",
    "        |       ├── file-1.txt\n",
    "        |       ├── ...\n",
    "        |       └── file-n.ann\n",
    "        └── test\n",
    "             └── brat\n",
    "                ├── file-1.ann\n",
    "                ├── file-1.txt\n",
    "                ├── ...\n",
    "                └── file-n.ann\n",
    "\n",
    "    Then the model is evaluate producing the following files:\n",
    "\n",
    "    evaluation_root/name\n",
    "    ├── dev\n",
    "    │   ├── ner\n",
    "    │   └── spans\n",
    "    └── test\n",
    "        ├── ner\n",
    "        └── spans\n",
    "\n",
    "    And the temporary folder are removed.\n",
    "\n",
    "    Args:\n",
    "        model (str): Path to the ``Flair`` model to evaluate.\n",
    "        name (str): Name of the folder that will holds the results produced by\\\n",
    "            the ``Flair`` model.\n",
    "        evaluation_root (str): Path to the root folder where the\n",
    "            results will be stored.\n",
    "        sentence_splitting (Path): Path to the sub-directory\n",
    "            `sentence_splitting`. This directory is mandatory to compute the\n",
    "            `leak score` evaluation metric.\n",
    "        force (bool, optional): Force to create again the golds standard files.\n",
    "            Defaults to False.\n",
    "\n",
    "Arguments:\n",
    "  MODEL  Path to the Flair model to evaluate.  [required]\n",
    "  NAME   Name of the folder that will holds the results produced by the\n",
    "         ``Flair`` model.  [required]\n",
    "\n",
    "Options:\n",
    "  --evaluation-root PATH     Path to the root folder where the results will be\n",
    "                             stored.\n",
    "  --sentence-splitting PATH  The sub-directory `sentence_splitting` is\n",
    "                             mandatory to compute the `leak score` evaluation\n",
    "                             metric.\n",
    "  --device TEXT              Device to use.  [default: cuda:0]\n",
    "  --help                     Show this message and exit.        \n",
    "```\n",
    "``````\n"
   ]
  },
  {
   "cell_type": "markdown",
   "metadata": {},
   "source": [
    "Si queremos obtener las entidades basta con hacer:"
   ]
  },
  {
   "cell_type": "code",
   "execution_count": 9,
   "metadata": {
    "scrolled": true
   },
   "outputs": [
    {
     "data": {
      "text/html": [
       "<div>\n",
       "<style scoped>\n",
       "    .dataframe tbody tr th:only-of-type {\n",
       "        vertical-align: middle;\n",
       "    }\n",
       "\n",
       "    .dataframe tbody tr th {\n",
       "        vertical-align: top;\n",
       "    }\n",
       "\n",
       "    .dataframe thead th {\n",
       "        text-align: right;\n",
       "    }\n",
       "</style>\n",
       "<table border=\"1\" class=\"dataframe\">\n",
       "  <thead>\n",
       "    <tr style=\"text-align: right;\">\n",
       "      <th></th>\n",
       "      <th>0</th>\n",
       "      <th>1</th>\n",
       "      <th>2</th>\n",
       "      <th>3</th>\n",
       "      <th>4</th>\n",
       "      <th>5</th>\n",
       "      <th>6</th>\n",
       "      <th>7</th>\n",
       "      <th>8</th>\n",
       "      <th>9</th>\n",
       "      <th>...</th>\n",
       "      <th>11</th>\n",
       "      <th>12</th>\n",
       "      <th>13</th>\n",
       "      <th>14</th>\n",
       "      <th>15</th>\n",
       "      <th>16</th>\n",
       "      <th>17</th>\n",
       "      <th>18</th>\n",
       "      <th>19</th>\n",
       "      <th>20</th>\n",
       "    </tr>\n",
       "  </thead>\n",
       "  <tbody>\n",
       "    <tr>\n",
       "      <th>Entidad</th>\n",
       "      <td>Ernesto</td>\n",
       "      <td>Rivera Bueno</td>\n",
       "      <td>368503</td>\n",
       "      <td>26 63514095</td>\n",
       "      <td>Calle Miguel Benitez 90</td>\n",
       "      <td>Madrid</td>\n",
       "      <td>28016</td>\n",
       "      <td>03/03/1946</td>\n",
       "      <td>España</td>\n",
       "      <td>70 años</td>\n",
       "      <td>...</td>\n",
       "      <td>12/12/2016</td>\n",
       "      <td>Ignacio Navarro Cuéllar</td>\n",
       "      <td>28 28 70973</td>\n",
       "      <td>70 años</td>\n",
       "      <td>Ignacio Navarro Cuéllar</td>\n",
       "      <td>c/ del Abedul 5-7, 2º dcha</td>\n",
       "      <td>28036</td>\n",
       "      <td>Madrid</td>\n",
       "      <td>España</td>\n",
       "      <td>nnavcu@hotmail.com</td>\n",
       "    </tr>\n",
       "  </tbody>\n",
       "</table>\n",
       "<p>1 rows × 21 columns</p>\n",
       "</div>"
      ],
      "text/plain": [
       "              0             1       2            3                        4   \\\n",
       "Entidad  Ernesto  Rivera Bueno  368503  26 63514095  Calle Miguel Benitez 90   \n",
       "\n",
       "             5      6           7       8        9   ...          11  \\\n",
       "Entidad  Madrid  28016  03/03/1946  España  70 años  ...  12/12/2016   \n",
       "\n",
       "                              12           13       14  \\\n",
       "Entidad  Ignacio Navarro Cuéllar  28 28 70973  70 años   \n",
       "\n",
       "                              15                          16     17      18  \\\n",
       "Entidad  Ignacio Navarro Cuéllar  c/ del Abedul 5-7, 2º dcha  28036  Madrid   \n",
       "\n",
       "             19                  20  \n",
       "Entidad  España  nnavcu@hotmail.com  \n",
       "\n",
       "[1 rows x 21 columns]"
      ]
     },
     "execution_count": 9,
     "metadata": {},
     "output_type": "execute_result"
    }
   ],
   "source": [
    "pd.DataFrame([ent.text for ent in gold.ents], columns=[\"Entidad\"]).T"
   ]
  },
  {
   "cell_type": "code",
   "execution_count": 10,
   "metadata": {},
   "outputs": [
    {
     "data": {
      "text/html": [
       "<div>\n",
       "<style scoped>\n",
       "    .dataframe tbody tr th:only-of-type {\n",
       "        vertical-align: middle;\n",
       "    }\n",
       "\n",
       "    .dataframe tbody tr th {\n",
       "        vertical-align: top;\n",
       "    }\n",
       "\n",
       "    .dataframe thead th {\n",
       "        text-align: right;\n",
       "    }\n",
       "</style>\n",
       "<table border=\"1\" class=\"dataframe\">\n",
       "  <thead>\n",
       "    <tr style=\"text-align: right;\">\n",
       "      <th></th>\n",
       "      <th>0</th>\n",
       "      <th>1</th>\n",
       "      <th>2</th>\n",
       "      <th>3</th>\n",
       "      <th>4</th>\n",
       "      <th>5</th>\n",
       "      <th>6</th>\n",
       "      <th>7</th>\n",
       "      <th>8</th>\n",
       "      <th>9</th>\n",
       "      <th>...</th>\n",
       "      <th>11</th>\n",
       "      <th>12</th>\n",
       "      <th>13</th>\n",
       "      <th>14</th>\n",
       "      <th>15</th>\n",
       "      <th>16</th>\n",
       "      <th>17</th>\n",
       "      <th>18</th>\n",
       "      <th>19</th>\n",
       "      <th>20</th>\n",
       "    </tr>\n",
       "  </thead>\n",
       "  <tbody>\n",
       "    <tr>\n",
       "      <th>Tag</th>\n",
       "      <td>Ernesto</td>\n",
       "      <td>Rivera Bueno</td>\n",
       "      <td>368503</td>\n",
       "      <td>26 63514095</td>\n",
       "      <td>Calle Miguel Benitez 90</td>\n",
       "      <td>Madrid</td>\n",
       "      <td>28016</td>\n",
       "      <td>03/03/1946</td>\n",
       "      <td>España</td>\n",
       "      <td>70 años</td>\n",
       "      <td>...</td>\n",
       "      <td>12/12/2016</td>\n",
       "      <td>Ignacio Navarro Cuéllar</td>\n",
       "      <td>28 28 70973</td>\n",
       "      <td>70 años</td>\n",
       "      <td>Ignacio Navarro Cuéllar</td>\n",
       "      <td>c/ del Abedul 5-7, 2º dcha</td>\n",
       "      <td>28036</td>\n",
       "      <td>Madrid</td>\n",
       "      <td>España</td>\n",
       "      <td>nnavcu@hotmail.com</td>\n",
       "    </tr>\n",
       "    <tr>\n",
       "      <th>start</th>\n",
       "      <td>8</td>\n",
       "      <td>13</td>\n",
       "      <td>19</td>\n",
       "      <td>24</td>\n",
       "      <td>31</td>\n",
       "      <td>41</td>\n",
       "      <td>46</td>\n",
       "      <td>57</td>\n",
       "      <td>66</td>\n",
       "      <td>71</td>\n",
       "      <td>...</td>\n",
       "      <td>82</td>\n",
       "      <td>92</td>\n",
       "      <td>97</td>\n",
       "      <td>109</td>\n",
       "      <td>445</td>\n",
       "      <td>448</td>\n",
       "      <td>458</td>\n",
       "      <td>459</td>\n",
       "      <td>461</td>\n",
       "      <td>466</td>\n",
       "    </tr>\n",
       "    <tr>\n",
       "      <th>end</th>\n",
       "      <td>9</td>\n",
       "      <td>15</td>\n",
       "      <td>20</td>\n",
       "      <td>26</td>\n",
       "      <td>35</td>\n",
       "      <td>42</td>\n",
       "      <td>47</td>\n",
       "      <td>62</td>\n",
       "      <td>67</td>\n",
       "      <td>73</td>\n",
       "      <td>...</td>\n",
       "      <td>87</td>\n",
       "      <td>95</td>\n",
       "      <td>100</td>\n",
       "      <td>111</td>\n",
       "      <td>448</td>\n",
       "      <td>458</td>\n",
       "      <td>459</td>\n",
       "      <td>460</td>\n",
       "      <td>462</td>\n",
       "      <td>469</td>\n",
       "    </tr>\n",
       "  </tbody>\n",
       "</table>\n",
       "<p>3 rows × 21 columns</p>\n",
       "</div>"
      ],
      "text/plain": [
       "            0             1       2            3                        4   \\\n",
       "Tag    Ernesto  Rivera Bueno  368503  26 63514095  Calle Miguel Benitez 90   \n",
       "start        8            13      19           24                       31   \n",
       "end          9            15      20           26                       35   \n",
       "\n",
       "           5      6           7       8        9   ...          11  \\\n",
       "Tag    Madrid  28016  03/03/1946  España  70 años  ...  12/12/2016   \n",
       "start      41     46          57      66       71  ...          82   \n",
       "end        42     47          62      67       73  ...          87   \n",
       "\n",
       "                            12           13       14                       15  \\\n",
       "Tag    Ignacio Navarro Cuéllar  28 28 70973  70 años  Ignacio Navarro Cuéllar   \n",
       "start                       92           97      109                      445   \n",
       "end                         95          100      111                      448   \n",
       "\n",
       "                               16     17      18      19                  20  \n",
       "Tag    c/ del Abedul 5-7, 2º dcha  28036  Madrid  España  nnavcu@hotmail.com  \n",
       "start                         448    458     459     461                 466  \n",
       "end                           458    459     460     462                 469  \n",
       "\n",
       "[3 rows x 21 columns]"
      ]
     },
     "execution_count": 10,
     "metadata": {},
     "output_type": "execute_result"
    }
   ],
   "source": [
    "pd.DataFrame(zip(*[(ent.text, ent.start, ent.end) for ent in gold.ents]), index=[\"Tag\", \"start\", \"end\"])"
   ]
  },
  {
   "cell_type": "markdown",
   "metadata": {},
   "source": [
    "O si queremos algo mas visual:"
   ]
  },
  {
   "cell_type": "code",
   "execution_count": 12,
   "metadata": {
    "scrolled": false
   },
   "outputs": [
    {
     "data": {
      "text/html": [
       "<span class=\"tex2jax_ignore\"><div class=\"entities\" style=\"line-height: 2.5; direction: ltr\">Datos del paciente.</br>Nombre:  \n",
       "<mark class=\"entity\" style=\"background: #FF6600; padding: 0.45em 0.6em; margin: 0 0.25em; line-height: 1; border-radius: 0.35em;\">\n",
       "    Ernesto\n",
       "    <span style=\"font-size: 0.8em; font-weight: bold; line-height: 1; border-radius: 0.35em; vertical-align: middle; margin-left: 0.5rem\">NOMBRE_SUJETO_ASISTENCIA</span>\n",
       "</mark>\n",
       ".</br>Apellidos: \n",
       "<mark class=\"entity\" style=\"background: #FF6600; padding: 0.45em 0.6em; margin: 0 0.25em; line-height: 1; border-radius: 0.35em;\">\n",
       "    Rivera Bueno\n",
       "    <span style=\"font-size: 0.8em; font-weight: bold; line-height: 1; border-radius: 0.35em; vertical-align: middle; margin-left: 0.5rem\">NOMBRE_SUJETO_ASISTENCIA</span>\n",
       "</mark>\n",
       ".</br>NHC: \n",
       "<mark class=\"entity\" style=\"background: #FF9900; padding: 0.45em 0.6em; margin: 0 0.25em; line-height: 1; border-radius: 0.35em;\">\n",
       "    368503\n",
       "    <span style=\"font-size: 0.8em; font-weight: bold; line-height: 1; border-radius: 0.35em; vertical-align: middle; margin-left: 0.5rem\">ID_SUJETO_ASISTENCIA</span>\n",
       "</mark>\n",
       ".</br>NASS: \n",
       "<mark class=\"entity\" style=\"background: #00FF7F; padding: 0.45em 0.6em; margin: 0 0.25em; line-height: 1; border-radius: 0.35em;\">\n",
       "    26 63514095\n",
       "    <span style=\"font-size: 0.8em; font-weight: bold; line-height: 1; border-radius: 0.35em; vertical-align: middle; margin-left: 0.5rem\">ID_ASEGURAMIENTO</span>\n",
       "</mark>\n",
       ".</br>Domicilio:  \n",
       "<mark class=\"entity\" style=\"background: #ADFF2F; padding: 0.45em 0.6em; margin: 0 0.25em; line-height: 1; border-radius: 0.35em;\">\n",
       "    Calle Miguel Benitez 90\n",
       "    <span style=\"font-size: 0.8em; font-weight: bold; line-height: 1; border-radius: 0.35em; vertical-align: middle; margin-left: 0.5rem\">CALLE</span>\n",
       "</mark>\n",
       ".</br>Localidad/ Provincia: \n",
       "<mark class=\"entity\" style=\"background: #CCFFFF; padding: 0.45em 0.6em; margin: 0 0.25em; line-height: 1; border-radius: 0.35em;\">\n",
       "    Madrid\n",
       "    <span style=\"font-size: 0.8em; font-weight: bold; line-height: 1; border-radius: 0.35em; vertical-align: middle; margin-left: 0.5rem\">TERRITORIO</span>\n",
       "</mark>\n",
       ".</br>CP: \n",
       "<mark class=\"entity\" style=\"background: #CCFFFF; padding: 0.45em 0.6em; margin: 0 0.25em; line-height: 1; border-radius: 0.35em;\">\n",
       "    28016\n",
       "    <span style=\"font-size: 0.8em; font-weight: bold; line-height: 1; border-radius: 0.35em; vertical-align: middle; margin-left: 0.5rem\">TERRITORIO</span>\n",
       "</mark>\n",
       ".</br>Datos asistenciales.</br>Fecha de nacimiento: \n",
       "<mark class=\"entity\" style=\"background: #FFCCFF; padding: 0.45em 0.6em; margin: 0 0.25em; line-height: 1; border-radius: 0.35em;\">\n",
       "    03/03/1946\n",
       "    <span style=\"font-size: 0.8em; font-weight: bold; line-height: 1; border-radius: 0.35em; vertical-align: middle; margin-left: 0.5rem\">FECHAS</span>\n",
       "</mark>\n",
       ".</br>País: \n",
       "<mark class=\"entity\" style=\"background: #FFA07A; padding: 0.45em 0.6em; margin: 0 0.25em; line-height: 1; border-radius: 0.35em;\">\n",
       "    España\n",
       "    <span style=\"font-size: 0.8em; font-weight: bold; line-height: 1; border-radius: 0.35em; vertical-align: middle; margin-left: 0.5rem\">PAIS</span>\n",
       "</mark>\n",
       ".</br>Edad: \n",
       "<mark class=\"entity\" style=\"background: #7FFF00; padding: 0.45em 0.6em; margin: 0 0.25em; line-height: 1; border-radius: 0.35em;\">\n",
       "    70 años\n",
       "    <span style=\"font-size: 0.8em; font-weight: bold; line-height: 1; border-radius: 0.35em; vertical-align: middle; margin-left: 0.5rem\">EDAD_SUJETO_ASISTENCIA</span>\n",
       "</mark>\n",
       " Sexo: \n",
       "<mark class=\"entity\" style=\"background: #99CCFF; padding: 0.45em 0.6em; margin: 0 0.25em; line-height: 1; border-radius: 0.35em;\">\n",
       "    H\n",
       "    <span style=\"font-size: 0.8em; font-weight: bold; line-height: 1; border-radius: 0.35em; vertical-align: middle; margin-left: 0.5rem\">SEXO_SUJETO_ASISTENCIA</span>\n",
       "</mark>\n",
       ".</br>Fecha de Ingreso: \n",
       "<mark class=\"entity\" style=\"background: #FFCCFF; padding: 0.45em 0.6em; margin: 0 0.25em; line-height: 1; border-radius: 0.35em;\">\n",
       "    12/12/2016\n",
       "    <span style=\"font-size: 0.8em; font-weight: bold; line-height: 1; border-radius: 0.35em; vertical-align: middle; margin-left: 0.5rem\">FECHAS</span>\n",
       "</mark>\n",
       ".</br>Médico:  \n",
       "<mark class=\"entity\" style=\"background: #FFD700; padding: 0.45em 0.6em; margin: 0 0.25em; line-height: 1; border-radius: 0.35em;\">\n",
       "    Ignacio Navarro Cuéllar\n",
       "    <span style=\"font-size: 0.8em; font-weight: bold; line-height: 1; border-radius: 0.35em; vertical-align: middle; margin-left: 0.5rem\">NOMBRE_PERSONAL_SANITARIO</span>\n",
       "</mark>\n",
       " NºCol: \n",
       "<mark class=\"entity\" style=\"background: #FF0000; padding: 0.45em 0.6em; margin: 0 0.25em; line-height: 1; border-radius: 0.35em;\">\n",
       "    28 28 70973\n",
       "    <span style=\"font-size: 0.8em; font-weight: bold; line-height: 1; border-radius: 0.35em; vertical-align: middle; margin-left: 0.5rem\">ID_TITULACION_PERSONAL_SANITARIO</span>\n",
       "</mark>\n",
       ".</br>Informe clínico del paciente: Paciente de \n",
       "<mark class=\"entity\" style=\"background: #7FFF00; padding: 0.45em 0.6em; margin: 0 0.25em; line-height: 1; border-radius: 0.35em;\">\n",
       "    70 años\n",
       "    <span style=\"font-size: 0.8em; font-weight: bold; line-height: 1; border-radius: 0.35em; vertical-align: middle; margin-left: 0.5rem\">EDAD_SUJETO_ASISTENCIA</span>\n",
       "</mark>\n",
       " de edad, minero jubilado, sin alergias medicamentosas conocidas, que presenta como antecedentes personales: accidente laboral antiguo con fracturas vertebrales y costales; intervenido de enfermedad de Dupuytren en mano derecha y by-pass iliofemoral izquierdo; Diabetes Mellitus tipo II, hipercolesterolemia e hiperuricemia; enolismo activo, fumador de 20 cigarrillos / día.</br>Es derivado desde Atención Primaria por presentar hematuria macroscópica postmiccional en una ocasión y microhematuria persistente posteriormente, con micciones normales.</br>En la exploración física presenta un buen estado general, con abdomen y genitales normales; tacto rectal compatible con adenoma de próstata grado I/IV.</br>En la analítica de orina destaca la existencia de 4 hematíes/ campo y 0-5 leucocitos/campo; resto de sedimento normal.</br>Hemograma normal; en la bioquímica destaca una glucemia de 169 mg/dl y triglicéridos de 456 mg/dl; función hepática y renal normal. PSA de 1.16 ng/ml.</br>Las citologías de orina son repetidamente sospechosas de malignidad.</br>En la placa simple de abdomen se valoran cambios degenerativos en columna lumbar y calcificaciones vasculares en ambos hipocondrios y en pelvis.</br>La ecografía urológica pone de manifiesto la existencia de quistes corticales simples en riñón derecho, vejiga sin alteraciones con buena capacidad y próstata con un peso de 30 g.</br>En la UIV se observa normofuncionalismo renal bilateral, calcificaciones sobre silueta renal derecha y uréteres arrosariados con imágenes de adición en el tercio superior de ambos uréteres, en relación a pseudodiverticulosis ureteral. El cistograma demuestra una vejiga con buena capacidad, pero paredes trabeculadas en relación a vejiga de esfuerzo. La TC abdominal es normal.</br>La cistoscopia descubre la existencia de pequeñas tumoraciones vesicales, realizándose resección transuretral con el resultado anatomopatológico de carcinoma urotelial superficial de vejiga.</br>Remitido por: \n",
       "<mark class=\"entity\" style=\"background: #FFD700; padding: 0.45em 0.6em; margin: 0 0.25em; line-height: 1; border-radius: 0.35em;\">\n",
       "    Ignacio Navarro Cuéllar\n",
       "    <span style=\"font-size: 0.8em; font-weight: bold; line-height: 1; border-radius: 0.35em; vertical-align: middle; margin-left: 0.5rem\">NOMBRE_PERSONAL_SANITARIO</span>\n",
       "</mark>\n",
       " \n",
       "<mark class=\"entity\" style=\"background: #ADFF2F; padding: 0.45em 0.6em; margin: 0 0.25em; line-height: 1; border-radius: 0.35em;\">\n",
       "    c/ del Abedul 5-7, 2º dcha\n",
       "    <span style=\"font-size: 0.8em; font-weight: bold; line-height: 1; border-radius: 0.35em; vertical-align: middle; margin-left: 0.5rem\">CALLE</span>\n",
       "</mark>\n",
       " \n",
       "<mark class=\"entity\" style=\"background: #CCFFFF; padding: 0.45em 0.6em; margin: 0 0.25em; line-height: 1; border-radius: 0.35em;\">\n",
       "    28036\n",
       "    <span style=\"font-size: 0.8em; font-weight: bold; line-height: 1; border-radius: 0.35em; vertical-align: middle; margin-left: 0.5rem\">TERRITORIO</span>\n",
       "</mark>\n",
       " \n",
       "<mark class=\"entity\" style=\"background: #CCFFFF; padding: 0.45em 0.6em; margin: 0 0.25em; line-height: 1; border-radius: 0.35em;\">\n",
       "    Madrid\n",
       "    <span style=\"font-size: 0.8em; font-weight: bold; line-height: 1; border-radius: 0.35em; vertical-align: middle; margin-left: 0.5rem\">TERRITORIO</span>\n",
       "</mark>\n",
       ", \n",
       "<mark class=\"entity\" style=\"background: #FFA07A; padding: 0.45em 0.6em; margin: 0 0.25em; line-height: 1; border-radius: 0.35em;\">\n",
       "    España\n",
       "    <span style=\"font-size: 0.8em; font-weight: bold; line-height: 1; border-radius: 0.35em; vertical-align: middle; margin-left: 0.5rem\">PAIS</span>\n",
       "</mark>\n",
       " E-mail: \n",
       "<mark class=\"entity\" style=\"background: #FF4500; padding: 0.45em 0.6em; margin: 0 0.25em; line-height: 1; border-radius: 0.35em;\">\n",
       "    nnavcu@hotmail.com\n",
       "    <span style=\"font-size: 0.8em; font-weight: bold; line-height: 1; border-radius: 0.35em; vertical-align: middle; margin-left: 0.5rem\">CORREO_ELECTRONICO</span>\n",
       "</mark>\n",
       ".</br></div></span>"
      ],
      "text/plain": [
       "<IPython.core.display.HTML object>"
      ]
     },
     "metadata": {},
     "output_type": "display_data"
    }
   ],
   "source": [
    "displacy.render(gold, style=\"ent\")"
   ]
  },
  {
   "cell_type": "markdown",
   "metadata": {},
   "source": [
    "## Flair corpus y entrenamiento de modelos"
   ]
  },
  {
   "cell_type": "markdown",
   "metadata": {},
   "source": [
    "Ahora que tenemos los datos preparados, utilizamos el objecto ``meddocan.data.corpus.MEDDOCAN`` que hereda de ``flair.datasets.ColumnCorpus`` para entrenar nuestro modelos con la libreria ``Flair``.  "
   ]
  },
  {
   "cell_type": "markdown",
   "metadata": {},
   "source": [
    "Por ello vamos a ver en un ejemplo como proceder.\n",
    "\n",
    "```{note}\n",
    "Todos nuestros experimentos se pueden encontrar en la carpeta [experiments](https://github.com/GuiGel/MedDocAn/tree/master/experiments).\n",
    "```"
   ]
  },
  {
   "cell_type": "markdown",
   "metadata": {},
   "source": [
    "```python\n",
    "from flair.data import Corpus\n",
    "from flair.embeddings import TransformerWordEmbeddings\n",
    "from flair.models import SequenceTagger\n",
    "from flair.trainers import ModelTrainer\n",
    "\n",
    "from meddocan.data.corpus import MEDDOCAN\n",
    "\n",
    "# 1. Obtener el corpus\n",
    "corpus: Corpus = MEDDOCAN(\n",
    "    sentences=True, document_separator_token=\"-DOCSTART-\"\n",
    ")\n",
    "print(corpus)\n",
    "\n",
    "# 2. Que label se quiere predecir?\n",
    "label_type = 'ner'\n",
    "\n",
    "# 3. Crear el diccionario de labels a partir del corpus\n",
    "label_dict = corpus.make_label_dictionary(label_type=label_type, add_unk=False)\n",
    "print(label_dict)\n",
    "\n",
    "# 4. Inicializar los embeddings generados por el transformador utilizando el contexto\n",
    "embeddings = TransformerWordEmbeddings(model='dccuchile/bert-base-spanish-wwm-cased',\n",
    "                                       layers=\"-1\",\n",
    "                                       subtoken_pooling=\"first\",\n",
    "                                       fine_tune=True,\n",
    "                                       use_context=True,\n",
    "                                       )\n",
    "\n",
    "# 5. Inicializar etiquedator simple (no CRF, no RNN, no reprojección)\n",
    "tagger = SequenceTagger(hidden_size=256,\n",
    "                        embeddings=embeddings,\n",
    "                        tag_dictionary=label_dict,\n",
    "                        tag_type='ner',\n",
    "                        use_crf=False,\n",
    "                        use_rnn=False,\n",
    "                        reproject_embeddings=False,\n",
    "                        )\n",
    "\n",
    "# 6. Initializar el trainer\n",
    "trainer = ModelTrainer(tagger, corpus)\n",
    "\n",
    "# 7. Ejecutar el fine-tuning\n",
    "trainer.fine_tune('experiments/meddocan',\n",
    "                  learning_rate=5.0e-6,\n",
    "                  mini_batch_size=4,\n",
    "                  )\n",
    "```"
   ]
  },
  {
   "cell_type": "markdown",
   "metadata": {},
   "source": [
    "## Utilizar el modelo"
   ]
  },
  {
   "cell_type": "markdown",
   "metadata": {},
   "source": [
    "El ``meddocan_pipeline`` nos permitte integrar un modelo de ``Flair `` gracias al componente ``predictor`` de la siguiente mañera. \n",
    "\n",
    "```{note}\n",
    "Aquí utilizamos por el ejemplo un modelo de FLair pre-entreando con los embeddings de Flair y una red LSTM-CRF.\n",
    "```"
   ]
  },
  {
   "cell_type": "code",
   "execution_count": 13,
   "metadata": {
    "scrolled": true
   },
   "outputs": [
    {
     "name": "stdout",
     "output_type": "stream",
     "text": [
      "2022-10-10 13:32:15,342 loading file /home/wave/.meddocan/models/ner-spanish-large/045ad6c7dc21e0eb85935dce0544eec65f8c63c58412154df4dee7ff5f11665b.d4d3456316d2951bc100d060bd63a690b33af6d273adffa1b90df32328ed3257\n",
      "2022-10-10 13:32:30,021 SequenceTagger predicts: Dictionary with 20 tags: <unk>, O, S-LOC, S-ORG, B-PER, I-PER, E-PER, S-MISC, B-ORG, E-ORG, S-PER, I-ORG, B-LOC, E-LOC, B-MISC, E-MISC, I-MISC, I-LOC, <START>, <STOP>\n"
     ]
    }
   ],
   "source": [
    "from meddocan.language.pipeline import meddocan_pipeline\n",
    "\n",
    "nlp = meddocan_pipeline(\"flair/ner-spanish-large\")\n",
    "sys = nlp(gold.text)"
   ]
  },
  {
   "cell_type": "markdown",
   "metadata": {},
   "source": [
    "Gracias a esta integración entre Flair y spaCy, producimos tanto los datos que nos permitten hacer"
   ]
  },
  {
   "cell_type": "markdown",
   "metadata": {},
   "source": [
    "1. la evaluación (los datos se esciben en ficheros al formato IOB."
   ]
  },
  {
   "cell_type": "code",
   "execution_count": 14,
   "metadata": {
    "scrolled": true
   },
   "outputs": [
    {
     "name": "stdout",
     "output_type": "stream",
     "text": [
      "Datos O\n",
      "del O\n",
      "paciente O\n",
      ". O\n",
      "\n",
      "Nombre O\n",
      ": O\n",
      "Ernesto B-PER\n",
      ". O\n",
      "\n",
      "Apellidos O\n",
      ": O\n",
      "Rivera B-PER\n",
      "Bueno I-PER\n",
      ". O\n",
      "\n",
      "NHC B-MISC\n",
      ": O\n",
      "368503 O\n",
      ". O\n"
     ]
    }
   ],
   "source": [
    "from tempfile import TemporaryDirectory\n",
    "\n",
    "with TemporaryDirectory() as td:\n",
    "    pth = Path(td, \"file.txt\")\n",
    "    sys._.to_connl03(pth)\n",
    "    for i, line in enumerate(pth.read_text().split(\"\\n\")):\n",
    "        print(line)\n",
    "        if i > 18:\n",
    "            break"
   ]
  },
  {
   "cell_type": "markdown",
   "metadata": {},
   "source": [
    "Para tener una idea de como se puede calcular las metricas lo hacemos sobre el documento de ejemplo:"
   ]
  },
  {
   "cell_type": "code",
   "execution_count": 30,
   "metadata": {},
   "outputs": [],
   "source": [
    "from meddocan.evaluation.classes import Ner\n",
    "\n",
    "gold_label = set(Ner(ent.start, ent.end, ent.label_) for ent in gold.ents)\n",
    "sys_label = set(Ner(ent.start, ent.end, ent.label_) for ent in sys.ents)\n",
    "tp = gold_label.intersection(sys_label)\n",
    "fp = sys_label - gold_label\n",
    "fn = gold_label - sys_label\n",
    "\n",
    "recall = len(tp) / float(len(tp) + len(fp))\n",
    "precision = len(tp) / float(len(fn) + len(tp))\n",
    "try:\n",
    "    f1 = (recall + precision) / (recall * precision)\n",
    "except ZeroDivisionError:\n",
    "    f1 = 0.0"
   ]
  },
  {
   "cell_type": "markdown",
   "metadata": {},
   "source": [
    "2. La visualización"
   ]
  },
  {
   "cell_type": "code",
   "execution_count": 32,
   "metadata": {},
   "outputs": [
    {
     "data": {
      "text/html": [
       "<span class=\"tex2jax_ignore\"><div class=\"entities\" style=\"line-height: 2.5; direction: ltr\">Datos del paciente.</br>Nombre:  \n",
       "<mark class=\"entity\" style=\"background: #ddd; padding: 0.45em 0.6em; margin: 0 0.25em; line-height: 1; border-radius: 0.35em;\">\n",
       "    Ernesto\n",
       "    <span style=\"font-size: 0.8em; font-weight: bold; line-height: 1; border-radius: 0.35em; vertical-align: middle; margin-left: 0.5rem\">PER</span>\n",
       "</mark>\n",
       ".</br>Apellidos: \n",
       "<mark class=\"entity\" style=\"background: #ddd; padding: 0.45em 0.6em; margin: 0 0.25em; line-height: 1; border-radius: 0.35em;\">\n",
       "    Rivera Bueno\n",
       "    <span style=\"font-size: 0.8em; font-weight: bold; line-height: 1; border-radius: 0.35em; vertical-align: middle; margin-left: 0.5rem\">PER</span>\n",
       "</mark>\n",
       ".</br>\n",
       "<mark class=\"entity\" style=\"background: #ddd; padding: 0.45em 0.6em; margin: 0 0.25em; line-height: 1; border-radius: 0.35em;\">\n",
       "    NHC\n",
       "    <span style=\"font-size: 0.8em; font-weight: bold; line-height: 1; border-radius: 0.35em; vertical-align: middle; margin-left: 0.5rem\">MISC</span>\n",
       "</mark>\n",
       ": 368503.</br>\n",
       "<mark class=\"entity\" style=\"background: #ddd; padding: 0.45em 0.6em; margin: 0 0.25em; line-height: 1; border-radius: 0.35em;\">\n",
       "    NASS\n",
       "    <span style=\"font-size: 0.8em; font-weight: bold; line-height: 1; border-radius: 0.35em; vertical-align: middle; margin-left: 0.5rem\">MISC</span>\n",
       "</mark>\n",
       ": 26 63514095.</br>Domicilio:  \n",
       "<mark class=\"entity\" style=\"background: #ff9561; padding: 0.45em 0.6em; margin: 0 0.25em; line-height: 1; border-radius: 0.35em;\">\n",
       "    Calle Miguel Benitez 90\n",
       "    <span style=\"font-size: 0.8em; font-weight: bold; line-height: 1; border-radius: 0.35em; vertical-align: middle; margin-left: 0.5rem\">LOC</span>\n",
       "</mark>\n",
       ".</br>Localidad/ Provincia: \n",
       "<mark class=\"entity\" style=\"background: #ff9561; padding: 0.45em 0.6em; margin: 0 0.25em; line-height: 1; border-radius: 0.35em;\">\n",
       "    Madrid\n",
       "    <span style=\"font-size: 0.8em; font-weight: bold; line-height: 1; border-radius: 0.35em; vertical-align: middle; margin-left: 0.5rem\">LOC</span>\n",
       "</mark>\n",
       ".</br>CP: 28016.</br>Datos asistenciales.</br>Fecha de nacimiento: 03/03/1946.</br>País: \n",
       "<mark class=\"entity\" style=\"background: #ff9561; padding: 0.45em 0.6em; margin: 0 0.25em; line-height: 1; border-radius: 0.35em;\">\n",
       "    España\n",
       "    <span style=\"font-size: 0.8em; font-weight: bold; line-height: 1; border-radius: 0.35em; vertical-align: middle; margin-left: 0.5rem\">LOC</span>\n",
       "</mark>\n",
       ".</br>Edad: 70 años Sexo: H.</br>Fecha de Ingreso: 12/12/2016.</br>Médico:  \n",
       "<mark class=\"entity\" style=\"background: #ddd; padding: 0.45em 0.6em; margin: 0 0.25em; line-height: 1; border-radius: 0.35em;\">\n",
       "    Ignacio Navarro Cuéllar\n",
       "    <span style=\"font-size: 0.8em; font-weight: bold; line-height: 1; border-radius: 0.35em; vertical-align: middle; margin-left: 0.5rem\">PER</span>\n",
       "</mark>\n",
       " NºCol: 28 28 70973.</br>Informe clínico del paciente: Paciente de 70 años de edad, minero jubilado, sin alergias medicamentosas conocidas, que presenta como antecedentes personales: accidente laboral antiguo con fracturas vertebrales y costales; intervenido de \n",
       "<mark class=\"entity\" style=\"background: #ddd; padding: 0.45em 0.6em; margin: 0 0.25em; line-height: 1; border-radius: 0.35em;\">\n",
       "    enfermedad de Dupuytren\n",
       "    <span style=\"font-size: 0.8em; font-weight: bold; line-height: 1; border-radius: 0.35em; vertical-align: middle; margin-left: 0.5rem\">MISC</span>\n",
       "</mark>\n",
       " en mano derecha y by-pass iliofemoral izquierdo; \n",
       "<mark class=\"entity\" style=\"background: #ddd; padding: 0.45em 0.6em; margin: 0 0.25em; line-height: 1; border-radius: 0.35em;\">\n",
       "    Diabetes Mellitus\n",
       "    <span style=\"font-size: 0.8em; font-weight: bold; line-height: 1; border-radius: 0.35em; vertical-align: middle; margin-left: 0.5rem\">MISC</span>\n",
       "</mark>\n",
       " tipo II, hipercolesterolemia e hiperuricemia; enolismo activo, fumador de 20 cigarrillos / día.</br>Es derivado desde \n",
       "<mark class=\"entity\" style=\"background: #7aecec; padding: 0.45em 0.6em; margin: 0 0.25em; line-height: 1; border-radius: 0.35em;\">\n",
       "    Atención Primaria\n",
       "    <span style=\"font-size: 0.8em; font-weight: bold; line-height: 1; border-radius: 0.35em; vertical-align: middle; margin-left: 0.5rem\">ORG</span>\n",
       "</mark>\n",
       " por presentar hematuria macroscópica postmiccional en una ocasión y microhematuria persistente posteriormente, con micciones normales.</br>En la exploración física presenta un buen estado general, con abdomen y genitales normales; tacto rectal compatible con adenoma de próstata grado I/IV.</br>En la analítica de orina destaca la existencia de 4 hematíes/ campo y 0-5 leucocitos/campo; resto de sedimento normal.</br>Hemograma normal; en la bioquímica destaca una glucemia de 169 mg/dl y triglicéridos de 456 mg/dl; función hepática y renal normal. \n",
       "<mark class=\"entity\" style=\"background: #ddd; padding: 0.45em 0.6em; margin: 0 0.25em; line-height: 1; border-radius: 0.35em;\">\n",
       "    PSA\n",
       "    <span style=\"font-size: 0.8em; font-weight: bold; line-height: 1; border-radius: 0.35em; vertical-align: middle; margin-left: 0.5rem\">MISC</span>\n",
       "</mark>\n",
       " de 1.16 ng/ml.</br>Las citologías de orina son repetidamente sospechosas de malignidad.</br>En la placa simple de abdomen se valoran cambios degenerativos en columna lumbar y calcificaciones vasculares en ambos hipocondrios y en pelvis.</br>La ecografía urológica pone de manifiesto la existencia de quistes corticales simples en riñón derecho, vejiga sin alteraciones con buena capacidad y próstata con un peso de 30 g.</br>En la \n",
       "<mark class=\"entity\" style=\"background: #ddd; padding: 0.45em 0.6em; margin: 0 0.25em; line-height: 1; border-radius: 0.35em;\">\n",
       "    UIV\n",
       "    <span style=\"font-size: 0.8em; font-weight: bold; line-height: 1; border-radius: 0.35em; vertical-align: middle; margin-left: 0.5rem\">MISC</span>\n",
       "</mark>\n",
       " se observa normofuncionalismo renal bilateral, calcificaciones sobre silueta renal derecha y uréteres arrosariados con imágenes de adición en el tercio superior de ambos uréteres, en relación a pseudodiverticulosis ureteral. El cistograma demuestra una vejiga con buena capacidad, pero paredes trabeculadas en relación a vejiga de esfuerzo. La \n",
       "<mark class=\"entity\" style=\"background: #ddd; padding: 0.45em 0.6em; margin: 0 0.25em; line-height: 1; border-radius: 0.35em;\">\n",
       "    TC\n",
       "    <span style=\"font-size: 0.8em; font-weight: bold; line-height: 1; border-radius: 0.35em; vertical-align: middle; margin-left: 0.5rem\">MISC</span>\n",
       "</mark>\n",
       " abdominal es normal.</br>La cistoscopia descubre la existencia de pequeñas tumoraciones vesicales, realizándose resección transuretral con el resultado anatomopatológico de carcinoma urotelial superficial de vejiga.</br>Remitido por: \n",
       "<mark class=\"entity\" style=\"background: #ddd; padding: 0.45em 0.6em; margin: 0 0.25em; line-height: 1; border-radius: 0.35em;\">\n",
       "    Ignacio Navarro Cuéllar\n",
       "    <span style=\"font-size: 0.8em; font-weight: bold; line-height: 1; border-radius: 0.35em; vertical-align: middle; margin-left: 0.5rem\">PER</span>\n",
       "</mark>\n",
       " \n",
       "<mark class=\"entity\" style=\"background: #ff9561; padding: 0.45em 0.6em; margin: 0 0.25em; line-height: 1; border-radius: 0.35em;\">\n",
       "    c\n",
       "    <span style=\"font-size: 0.8em; font-weight: bold; line-height: 1; border-radius: 0.35em; vertical-align: middle; margin-left: 0.5rem\">LOC</span>\n",
       "</mark>\n",
       "/ \n",
       "<mark class=\"entity\" style=\"background: #ff9561; padding: 0.45em 0.6em; margin: 0 0.25em; line-height: 1; border-radius: 0.35em;\">\n",
       "    del Abedul\n",
       "    <span style=\"font-size: 0.8em; font-weight: bold; line-height: 1; border-radius: 0.35em; vertical-align: middle; margin-left: 0.5rem\">LOC</span>\n",
       "</mark>\n",
       " 5-7, 2º dcha 28036 \n",
       "<mark class=\"entity\" style=\"background: #ff9561; padding: 0.45em 0.6em; margin: 0 0.25em; line-height: 1; border-radius: 0.35em;\">\n",
       "    Madrid\n",
       "    <span style=\"font-size: 0.8em; font-weight: bold; line-height: 1; border-radius: 0.35em; vertical-align: middle; margin-left: 0.5rem\">LOC</span>\n",
       "</mark>\n",
       ", \n",
       "<mark class=\"entity\" style=\"background: #ff9561; padding: 0.45em 0.6em; margin: 0 0.25em; line-height: 1; border-radius: 0.35em;\">\n",
       "    España\n",
       "    <span style=\"font-size: 0.8em; font-weight: bold; line-height: 1; border-radius: 0.35em; vertical-align: middle; margin-left: 0.5rem\">LOC</span>\n",
       "</mark>\n",
       " E-mail: nnavcu@hotmail.com.</br></div></span>"
      ],
      "text/plain": [
       "<IPython.core.display.HTML object>"
      ]
     },
     "metadata": {},
     "output_type": "display_data"
    }
   ],
   "source": [
    "displacy.render(sys, style=\"ent\")"
   ]
  },
  {
   "cell_type": "markdown",
   "metadata": {},
   "source": []
  }
 ],
 "metadata": {
  "jupytext": {
   "formats": "ipynb,md:myst"
  },
  "kernelspec": {
   "display_name": "Python 3 (ipykernel)",
   "language": "python",
   "name": "python3"
  },
  "language_info": {
   "codemirror_mode": {
    "name": "ipython",
    "version": 3
   },
   "file_extension": ".py",
   "mimetype": "text/x-python",
   "name": "python",
   "nbconvert_exporter": "python",
   "pygments_lexer": "ipython3",
   "version": "3.8.3"
  },
  "vscode": {
   "interpreter": {
    "hash": "7151f071bfd20d377766d7902c7e64a06ae1e872581a937c22fb53147cc684b7"
   }
  }
 },
 "nbformat": 4,
 "nbformat_minor": 2
}
