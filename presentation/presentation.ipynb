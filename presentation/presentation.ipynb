{
 "cells": [
  {
   "cell_type": "code",
   "execution_count": 179,
   "id": "0dfea9a2-5b8e-48fd-967a-b884a58997dd",
   "metadata": {
    "slideshow": {
     "slide_type": "skip"
    },
    "tags": []
   },
   "outputs": [],
   "source": [
    "from pathlib import Path\n",
    "from typing import List, Tuple\n",
    "from tempfile import TemporaryDirectory\n",
    "\n",
    "import pandas as pd\n",
    "from spacy import displacy\n",
    "\n",
    "from meddocan.data import meddocan_zip, ArchiveFolder\n",
    "from meddocan.data.containers import BratAnnotations, BratFilesPair, BratSpan\n",
    "from meddocan.data.docs_iterators import GsDocs\n",
    "from meddocan.language.pipeline import meddocan_pipeline\n",
    "from meddocan.data import meddocan_url, meddocan_zip, ArchiveFolder\n",
    "from meddocan.data.docs_iterators import BratAnnotations, GsDocs\n",
    "from meddocan.data.utils import set_ents_from_brat_spans\n",
    "from meddocan.data.corpus import MEDDOCAN"
   ]
  },
  {
   "cell_type": "markdown",
   "id": "aeaf83e4",
   "metadata": {
    "slideshow": {
     "slide_type": "slide"
    },
    "tags": []
   },
   "source": [
    "# MEDDOCAN: Anonimización aplicada al ámbito médico"
   ]
  },
  {
   "cell_type": "markdown",
   "id": "bf3a949a-0c2e-4863-909f-363d9afc3a72",
   "metadata": {
    "slideshow": {
     "slide_type": "slide"
    },
    "tags": []
   },
   "source": [
    "## Introducción"
   ]
  },
  {
   "cell_type": "markdown",
   "id": "ae0d6c74-ebb6-483f-aff6-94e8f677173a",
   "metadata": {
    "slideshow": {
     "slide_type": "fragment"
    },
    "tags": []
   },
   "source": [
    "* Medical Document Anonymization Track (track 9 of the <abbr title=\"Iberian Languages Evaluation Forum 2019\"> [IberLEF 2019](http://ceur-ws.org/Vol-2421/)).</abbr>.\n",
    "\n",
    "    Detectar automaticamente la información sanitaria protegida (PHI)"
   ]
  },
  {
   "cell_type": "markdown",
   "id": "a0e4d75e-7c63-4cb2-b09a-8e1ddf95bb7b",
   "metadata": {
    "slideshow": {
     "slide_type": "fragment"
    },
    "tags": []
   },
   "source": [
    "* ¿Como?\n",
    "\n",
    "    Name Entity Recognition con methodos de Transfer Learning basados en los transformadores\n"
   ]
  },
  {
   "cell_type": "markdown",
   "id": "cb04d87f-5fef-4f02-9576-db32356f87d1",
   "metadata": {
    "slideshow": {
     "slide_type": "subslide"
    },
    "tags": [],
    "toc-hr-collapsed": true
   },
   "source": [
    "## Dataset"
   ]
  },
  {
   "cell_type": "markdown",
   "id": "bb00ff69-fda8-4c4e-8c5a-196e9db66683",
   "metadata": {
    "slideshow": {
     "slide_type": "subslide"
    },
    "tags": []
   },
   "source": [
    "* Visualización de los datos"
   ]
  },
  {
   "cell_type": "markdown",
   "id": "8bcb590d-cb12-4899-b812-3923041075a4",
   "metadata": {
    "slideshow": {
     "slide_type": "fragment"
    },
    "tags": []
   },
   "source": [
    "![Figure 1: An example of MEDDOCAN annotation visualized using the BRAT annotation interface.](https://temu.bsc.es/meddocan/wp-content/uploads/2019/03/image-1-1024x922.png)"
   ]
  },
  {
   "cell_type": "markdown",
   "id": "933058bb-a60c-4616-bb48-268ff621a059",
   "metadata": {
    "slideshow": {
     "slide_type": "subslide"
    },
    "tags": []
   },
   "source": [
    "* Distribución del tipo de entidad entre los juegos de datos"
   ]
  },
  {
   "cell_type": "markdown",
   "id": "64e960ec-8db5-43c5-9b0c-87241840525d",
   "metadata": {
    "slideshow": {
     "slide_type": "fragment"
    },
    "tags": []
   },
   "source": [
    "|               Tipo               | Train | Dev | Test | Total |\n",
    "| :------------------------------: | :---: | :-: | :--: | :---: |\n",
    "|            TERRITORIO            | 1875  | 987 | 956  | 3818  |\n",
    "|              FECHAS              | 1231  | 724 | 611  | 2566  |\n",
    "|      EDAD SUJETO ASISTENCIA      | 1035  | 521 | 518  | 2074  |\n",
    "|     NOMBRE SUJETO ASISTENCIA     | 1009  | 503 | 502  | 2014  |\n",
    "|    NOMBRE PERSONAL SANITARIO     | 1000  | 497 | 501  | 1998  |\n",
    "|      SEXO SUJETO ASISTENCIA      |  925  | 455 | 461  | 1841  |\n",
    "|              CALLE               |  862  | 434 | 413  | 1709  |\n",
    "|               PAIS               |  713  | 347 | 363  | 1423  |\n",
    "|       ID SUJETO ASISTENCIA       |  567  | 292 | 283  | 1142  |\n",
    "|        CORREO ELECTRONICO        |  469  | 241 | 249  |  959  |\n",
    "| ID TITULACION PERSONAL SANITARIO |  471  | 226 | 234  |  931  |\n",
    "|         ID ASEGURAMIENTO         |  391  | 194 | 198  |  783  |\n",
    "|             HOSPITAL             |  255  | 140 | 130  |  525  |\n",
    "|   FAMILIARES SUJETO ASISTENCIA   |  243  | 92  |  81  |  416  |\n",
    "|           INSTITUCION            |  98   | 72  |  67  |  237  |\n",
    "|     ID CONTACTO ASISTENCIAL      |  77   | 32  |  39  |  148  |\n",
    "|         NUMERO TELEFONO          |  58   | 25  |  26  |  109  |\n",
    "|            PROFESION             |  24   |  4  |  9   |  37   |\n",
    "|            NUMERO FAX            |  15   |  6  |  7   |  28   |\n",
    "|     OTROS SUJETO ASISTENCIA      |   9   |  6  |  7   |  22   |\n",
    "|           CENTRO SALUD           |   6   |  2  |  6   |  14   |\n",
    "|   ID EMPLEO PERSONAL SANITARIO   |   0   |  1  |  0   |   1   |\n",
    "| IDENTIF VEHICULOS NRSERIE PLACAS |   0   |  0  |  0   |   0   |\n",
    "|   IDENTIF DISPOSITIVOS NRSERIE   |   0   |  0  |  0   |   0   |\n",
    "|     NUMERO BENEF PLAN SALUD      |   0   |  0  |  0   |   0   |\n",
    "|             URL WEB              |   0   |  0  |  0   |   0   |\n",
    "|       DIREC PROT INTERNET        |   0   |  0  |  0   |   0   |\n",
    "|        IDENTF BIOMETRICOS        |   0   |  0  |  0   |   0   |\n",
    "|       OTRO NUMERO IDENTIF        |   0   |  0  |  0   |   0   |"
   ]
  },
  {
   "cell_type": "markdown",
   "id": "a68b8a39-2d59-4007-b772-5641cf15bee2",
   "metadata": {
    "slideshow": {
     "slide_type": "subslide"
    },
    "tags": []
   },
   "source": [
    "* **Código**"
   ]
  },
  {
   "cell_type": "markdown",
   "id": "34a66d7d-0520-4c74-b546-fec00aa785e3",
   "metadata": {
    "slideshow": {
     "slide_type": "fragment"
    },
    "tags": []
   },
   "source": [
    "El paquete ``meddocan.data`` proporciona clases y funciones para tratar con los conjuntos de datos originales de\n",
    "meddocan en la web."
   ]
  },
  {
   "cell_type": "markdown",
   "id": "285f9624-ce45-43f7-a714-56707a04647c",
   "metadata": {
    "slideshow": {
     "slide_type": "fragment"
    },
    "tags": []
   },
   "source": [
    "- `meddocan.data.meddocan_url` contiene el enlace url para llegar a las carpetas de datos comprimidas."
   ]
  },
  {
   "cell_type": "code",
   "execution_count": 22,
   "id": "a28fbd97-e635-475e-8f57-d5617521f488",
   "metadata": {
    "slideshow": {
     "slide_type": "fragment"
    },
    "tags": []
   },
   "outputs": [
    {
     "data": {
      "text/plain": [
       "MeddocanUrl(sample='http://temu.bsc.es/meddocan/wp-content/uploads/2019/03/sample-set.zip', train='http://temu.bsc.es/meddocan/wp-content/uploads/2019/03/train-set.zip', dev='http://temu.bsc.es/meddocan/wp-content/uploads/2019/04/dev-set-1.zip', test='http://temu.bsc.es/meddocan/wp-content/uploads/2019/05/test-set.zip', background='http://temu.bsc.es/meddocan/wp-content/uploads/2019/10/background-set.zip', base='http://temu.bsc.es/meddocan/wp-content/uploads/2019')"
      ]
     },
     "execution_count": 22,
     "metadata": {},
     "output_type": "execute_result"
    }
   ],
   "source": [
    "meddocan_url"
   ]
  },
  {
   "cell_type": "markdown",
   "id": "cd5ecdd9-3507-4159-a9b5-03d5e0ddfb02",
   "metadata": {
    "slideshow": {
     "slide_type": "subslide"
    },
    "tags": []
   },
   "source": [
    "* `meddocan.data.meddocan_zip` obtiene el par de archivos brat para\n",
    "una carpeta determinada del conjunto de datos en caché a través de su método ``brat_files``."
   ]
  },
  {
   "cell_type": "code",
   "execution_count": 21,
   "id": "f594e89b-31b4-444d-b5de-8aed56e1e7cd",
   "metadata": {
    "slideshow": {
     "slide_type": "fragment"
    },
    "tags": []
   },
   "outputs": [],
   "source": [
    "brat_files_pairs = meddocan_zip.brat_files(ArchiveFolder.train)"
   ]
  },
  {
   "cell_type": "code",
   "execution_count": 41,
   "id": "3ba6a040-6838-413f-b108-57fa99d0ec1c",
   "metadata": {
    "slideshow": {
     "slide_type": "fragment"
    },
    "tags": []
   },
   "outputs": [],
   "source": [
    "brat_files_pair = next(brat_files_pairs)"
   ]
  },
  {
   "cell_type": "code",
   "execution_count": 42,
   "id": "1b4f3fea-5455-4de7-9eeb-49fd8501abff",
   "metadata": {
    "slideshow": {
     "slide_type": "fragment"
    },
    "tags": []
   },
   "outputs": [
    {
     "data": {
      "text/plain": [
       "Path('/home/wave/.meddocan/datasets/meddocan/train-set.zip', 'train/brat/S0004-06142005000900016-1.txt')"
      ]
     },
     "execution_count": 42,
     "metadata": {},
     "output_type": "execute_result"
    }
   ],
   "source": [
    "brat_files_pair.txt"
   ]
  },
  {
   "cell_type": "code",
   "execution_count": 43,
   "id": "5dd7ed04-8fae-4b2e-83a5-88c93a678263",
   "metadata": {
    "slideshow": {
     "slide_type": "fragment"
    },
    "tags": []
   },
   "outputs": [
    {
     "data": {
      "text/plain": [
       "Path('/home/wave/.meddocan/datasets/meddocan/train-set.zip', 'train/brat/S0004-06142005000900016-1.ann')"
      ]
     },
     "execution_count": 43,
     "metadata": {},
     "output_type": "execute_result"
    }
   ],
   "source": [
    "brat_files_pair.ann"
   ]
  },
  {
   "cell_type": "markdown",
   "id": "864e0146-e2c3-4344-a548-9f5a55bbd784",
   "metadata": {
    "slideshow": {
     "slide_type": "slide"
    },
    "tags": []
   },
   "source": [
    "Visualizamos los datos brutos"
   ]
  },
  {
   "cell_type": "code",
   "execution_count": 44,
   "id": "d22c7f69-9166-4bec-afce-029650074cae",
   "metadata": {
    "slideshow": {
     "slide_type": "fragment"
    },
    "tags": []
   },
   "outputs": [],
   "source": [
    "brat_annotations = BratAnnotations.from_brat_files(brat_files_pair)"
   ]
  },
  {
   "cell_type": "markdown",
   "id": "d9d25a00-1abb-43ad-9a44-aa2c911d874c",
   "metadata": {
    "slideshow": {
     "slide_type": "subslide"
    },
    "tags": []
   },
   "source": [
    "- El texto"
   ]
  },
  {
   "cell_type": "code",
   "execution_count": 75,
   "id": "4d27b4eb-704e-4556-bb41-7b74250cefba",
   "metadata": {
    "slideshow": {
     "slide_type": "fragment"
    },
    "tags": []
   },
   "outputs": [
    {
     "data": {
      "text/plain": [
       "'\\ufeffNombre: Valeria.\\nApellidos: Roca Caballero .\\nCIPA: nhc-120978.\\nNASS: 21 98731245 98.\\nDomicilio: Calle de la bola 19, 11A.\\nLocalidad/ Provincia: Mostoles Madrid.\\nCP: 28935.\\n       NHC: 120978.\\nDatos asistenciales.\\nFecha de nacimiento: 28-05-1989.\\nPaís: Colombia.\\nEdad: 29 Sexo: M.\\nFecha de Ingreso: 1/12/2017.\\nEspecialidad: Oncología.\\nMédico: Marrupe González    NºCol: 28-28-36541.\\nMotivo de ingreso: Dolor en fosa renal derecha compatible con crisis renoureteral.\\nAntecedentes: ulcus duodenal y estreñimiento. No antecedentes de nefrolitiasis ni hematuria ni infecciones del tracto urinario. \\nResumen de pruebas complementarias: En la exploración sólo destaca una puñopercusión renal derecha positiva. La ecografía objetiva ectasia pielocalicial renal derecha con adelgazamiento del parénquima. La UIV muestra una anulación funcional de la unidad renal derecha siendo normal el resto de la exploración. Una pielografía retrograda muestra estenosis en la unión pieloureteral derecha, siendo la citología urinaria selectiva del uréter derecho negativa. \\nEvolución y comentarios: Ante la disyuntiva de practicar una cirugía reconstructiva o una exerética se realiza gammagrafía renal que demuestra captación relativa del 33% para el riñón derecho y del 67% para el izquierdo.\\nSe realiza pieloplastia renal derecha según técnica de Anderson-Hynes.\\nEl examen anatomopatológico de la estenosis de la vía urinaria descubre un hemangioma cavernoso como causante de la obstrucción, el cual no permitía pasar ninguna cánula. El control postoperatorio urográfico a los 3 meses objetiva captación y eliminación renal derecha de contraste con ligero retraso respecto a riñón izquierdo. La paciente fue dada de alta de consultas externas a los tres años de la cirugía tras haber sido practicados otros dos controles urográficos; 7 años después de la pieloplastia no ha vuelto a consultar por clínica urológica.\\nResponsable clinico: Dr. Marrupe González Oncología Médica Hospital General de Móstoles Río Júcar, s/n E-28935 Móstoles (Madrid) dmarrupe.hmtl@salud.madrid.org\\n'"
      ]
     },
     "execution_count": 75,
     "metadata": {},
     "output_type": "execute_result"
    }
   ],
   "source": [
    "text = brat_annotations.text; text"
   ]
  },
  {
   "cell_type": "markdown",
   "id": "38a0462a-b0e4-4e08-a515-f024f306f6f1",
   "metadata": {
    "slideshow": {
     "slide_type": "subslide"
    },
    "tags": []
   },
   "source": [
    "Las anotaciones"
   ]
  },
  {
   "cell_type": "code",
   "execution_count": 112,
   "id": "695f66fb-b945-4512-ad8c-694ee083d64a",
   "metadata": {
    "slideshow": {
     "slide_type": "fragment"
    },
    "tags": []
   },
   "outputs": [
    {
     "data": {
      "text/plain": [
       "[BratSpan(id='T1', entity_type='FECHAS', start=299, end=308, text='1/12/2017'),\n",
       " BratSpan(id='T2', entity_type='CORREO_ELECTRONICO', start=2028, end=2058, text='dmarrupe.hmtl@salud.madrid.org'),\n",
       " BratSpan(id='T3', entity_type='TERRITORIO', start=2020, end=2026, text='Madrid'),\n",
       " BratSpan(id='T4', entity_type='TERRITORIO', start=2010, end=2018, text='Móstoles'),\n",
       " BratSpan(id='T5', entity_type='TERRITORIO', start=2004, end=2009, text='28935'),\n",
       " BratSpan(id='T6', entity_type='CALLE', start=1987, end=2001, text='Río Júcar, s/n'),\n",
       " BratSpan(id='T7', entity_type='HOSPITAL', start=1958, end=1986, text='Hospital General de Móstoles'),\n",
       " BratSpan(id='T8', entity_type='NOMBRE_PERSONAL_SANITARIO', start=1924, end=1940, text='Marrupe González'),\n",
       " BratSpan(id='T9', entity_type='ID_TITULACION_PERSONAL_SANITARIO', start=370, end=381, text='28-28-36541'),\n",
       " BratSpan(id='T10', entity_type='NOMBRE_PERSONAL_SANITARIO', start=343, end=359, text='Marrupe González'),\n",
       " BratSpan(id='T11', entity_type='SEXO_SUJETO_ASISTENCIA', start=278, end=279, text='M'),\n",
       " BratSpan(id='T12', entity_type='EDAD_SUJETO_ASISTENCIA', start=269, end=271, text='29'),\n",
       " BratSpan(id='T13', entity_type='PAIS', start=253, end=261, text='Colombia'),\n",
       " BratSpan(id='T14', entity_type='FECHAS', start=235, end=245, text='28-05-1989'),\n",
       " BratSpan(id='T15', entity_type='ID_SUJETO_ASISTENCIA', start=185, end=191, text='120978'),\n",
       " BratSpan(id='T16', entity_type='TERRITORIO', start=166, end=171, text='28935'),\n",
       " BratSpan(id='T17', entity_type='TERRITORIO', start=154, end=160, text='Madrid'),\n",
       " BratSpan(id='T18', entity_type='TERRITORIO', start=145, end=153, text='Mostoles'),\n",
       " BratSpan(id='T19', entity_type='CALLE', start=97, end=121, text='Calle de la bola 19, 11A'),\n",
       " BratSpan(id='T20', entity_type='ID_ASEGURAMIENTO', start=70, end=84, text='21 98731245 98'),\n",
       " BratSpan(id='T21', entity_type='ID_SUJETO_ASISTENCIA', start=56, end=62, text='120978'),\n",
       " BratSpan(id='T22', entity_type='NOMBRE_SUJETO_ASISTENCIA', start=29, end=43, text='Roca Caballero'),\n",
       " BratSpan(id='T23', entity_type='NOMBRE_SUJETO_ASISTENCIA', start=9, end=16, text='Valeria')]"
      ]
     },
     "execution_count": 112,
     "metadata": {},
     "output_type": "execute_result"
    }
   ],
   "source": [
    "brat_spans = brat_annotations.brat_spans; annotations"
   ]
  },
  {
   "cell_type": "markdown",
   "id": "57417ec4-f458-44bb-8240-d1253278cc92",
   "metadata": {
    "slideshow": {
     "slide_type": "slide"
    },
    "tags": []
   },
   "source": [
    "### Preprocessamiento"
   ]
  },
  {
   "cell_type": "markdown",
   "id": "9e93c9da-1a78-4d0f-8ba8-1c9136b31d66",
   "metadata": {
    "slideshow": {
     "slide_type": "fragment"
    },
    "tags": []
   },
   "source": [
    "Para empezar llamamos nuestro pipeline ``meddocan.language.pipeline.meddocan_pipeline`` hecho con [spaCY](https://spacy.io/) y miramos sus componentes."
   ]
  },
  {
   "cell_type": "code",
   "execution_count": 89,
   "id": "8ad9f5d2-94c3-4386-b1f8-8e9259d65550",
   "metadata": {
    "slideshow": {
     "slide_type": "fragment"
    },
    "tags": []
   },
   "outputs": [
    {
     "data": {
      "text/html": [
       "<div>\n",
       "<style scoped>\n",
       "    .dataframe tbody tr th:only-of-type {\n",
       "        vertical-align: middle;\n",
       "    }\n",
       "\n",
       "    .dataframe tbody tr th {\n",
       "        vertical-align: top;\n",
       "    }\n",
       "\n",
       "    .dataframe thead th {\n",
       "        text-align: right;\n",
       "    }\n",
       "</style>\n",
       "<table border=\"1\" class=\"dataframe\">\n",
       "  <thead>\n",
       "    <tr style=\"text-align: right;\">\n",
       "      <th></th>\n",
       "      <th>0</th>\n",
       "      <th>1</th>\n",
       "      <th>2</th>\n",
       "      <th>3</th>\n",
       "    </tr>\n",
       "  </thead>\n",
       "  <tbody>\n",
       "    <tr>\n",
       "      <th>componentes</th>\n",
       "      <td>missaligned_splitter</td>\n",
       "      <td>line_sentencizer</td>\n",
       "      <td>predictor</td>\n",
       "      <td>write_methods</td>\n",
       "    </tr>\n",
       "  </tbody>\n",
       "</table>\n",
       "</div>"
      ],
      "text/plain": [
       "                                0                 1          2              3\n",
       "componentes  missaligned_splitter  line_sentencizer  predictor  write_methods"
      ]
     },
     "execution_count": 89,
     "metadata": {},
     "output_type": "execute_result"
    }
   ],
   "source": [
    "nlp = meddocan_pipeline()\n",
    "pd.DataFrame(nlp.pipe_names, columns=[\"componentes\"]).T"
   ]
  },
  {
   "cell_type": "markdown",
   "id": "c34727ff-9166-4e8b-b39c-0146de536c9a",
   "metadata": {
    "slideshow": {
     "slide_type": "fragment"
    },
    "tags": []
   },
   "source": [
    "Vamos a hacer pasar nuestro texto de ejemplo por el ``meddocan_pipeline`` y ver el efecto de cada componente."
   ]
  },
  {
   "cell_type": "code",
   "execution_count": 90,
   "id": "31a5e2c0-8042-4f95-a5a7-2ceea314a17c",
   "metadata": {
    "slideshow": {
     "slide_type": "fragment"
    },
    "tags": []
   },
   "outputs": [],
   "source": [
    "doc = nlp(text)"
   ]
  },
  {
   "cell_type": "markdown",
   "id": "d6beeb0d-d8c1-4021-8c6b-44c73611612b",
   "metadata": {
    "slideshow": {
     "slide_type": "subslide"
    },
    "tags": []
   },
   "source": [
    "#### Tokenización"
   ]
  },
  {
   "cell_type": "code",
   "execution_count": 163,
   "id": "d57b421f-d56e-4c41-8867-38c5ad820ef5",
   "metadata": {
    "slideshow": {
     "slide_type": "fragment"
    },
    "tags": []
   },
   "outputs": [
    {
     "data": {
      "text/html": [
       "<div>\n",
       "<style scoped>\n",
       "    .dataframe tbody tr th:only-of-type {\n",
       "        vertical-align: middle;\n",
       "    }\n",
       "\n",
       "    .dataframe tbody tr th {\n",
       "        vertical-align: top;\n",
       "    }\n",
       "\n",
       "    .dataframe thead th {\n",
       "        text-align: right;\n",
       "    }\n",
       "</style>\n",
       "<table border=\"1\" class=\"dataframe\">\n",
       "  <thead>\n",
       "    <tr style=\"text-align: right;\">\n",
       "      <th></th>\n",
       "      <th>0</th>\n",
       "      <th>1</th>\n",
       "      <th>2</th>\n",
       "      <th>3</th>\n",
       "      <th>4</th>\n",
       "      <th>5</th>\n",
       "      <th>6</th>\n",
       "      <th>7</th>\n",
       "      <th>8</th>\n",
       "      <th>9</th>\n",
       "    </tr>\n",
       "  </thead>\n",
       "  <tbody>\n",
       "    <tr>\n",
       "      <th>token</th>\n",
       "      <td>﻿Nombre</td>\n",
       "      <td>:</td>\n",
       "      <td>Valeria</td>\n",
       "      <td>.</td>\n",
       "      <td>\\n</td>\n",
       "      <td>Apellidos</td>\n",
       "      <td>:</td>\n",
       "      <td>Roca</td>\n",
       "      <td>Caballero</td>\n",
       "      <td>.</td>\n",
       "    </tr>\n",
       "  </tbody>\n",
       "</table>\n",
       "</div>"
      ],
      "text/plain": [
       "             0  1        2  3   4          5  6     7          8  9\n",
       "token  ﻿Nombre  :  Valeria  .  \\n  Apellidos  :  Roca  Caballero  ."
      ]
     },
     "execution_count": 163,
     "metadata": {},
     "output_type": "execute_result"
    }
   ],
   "source": [
    "pd.DataFrame([token.text for token in doc[:10]], columns=[\"token\"]).T"
   ]
  },
  {
   "cell_type": "markdown",
   "id": "081d4179-6207-4608-927f-7693cf8f5741",
   "metadata": {
    "slideshow": {
     "slide_type": "fragment"
    },
    "tags": []
   },
   "source": [
    "#### Casos especiales"
   ]
  },
  {
   "cell_type": "code",
   "execution_count": 100,
   "id": "0391aab3-d35e-465f-9d3d-3bb4cc47bd04",
   "metadata": {
    "slideshow": {
     "slide_type": "fragment"
    },
    "tags": []
   },
   "outputs": [
    {
     "data": {
      "text/plain": [
       "[DR, Enric, Lopez]"
      ]
     },
     "execution_count": 100,
     "metadata": {},
     "output_type": "execute_result"
    }
   ],
   "source": [
    "[token for token in nlp(\"DREnric Lopez\")]"
   ]
  },
  {
   "cell_type": "markdown",
   "id": "58edb79f-6091-4032-aa49-a2bc86ffa821",
   "metadata": {
    "slideshow": {
     "slide_type": "subslide"
    },
    "tags": []
   },
   "source": [
    "#### Partición del documento en párafos"
   ]
  },
  {
   "cell_type": "code",
   "execution_count": 107,
   "id": "7f37f67c-668b-4771-acd5-5bea5303ebbb",
   "metadata": {
    "slideshow": {
     "slide_type": "fragment"
    },
    "tags": []
   },
   "outputs": [
    {
     "data": {
      "text/html": [
       "<div>\n",
       "<style scoped>\n",
       "    .dataframe tbody tr th:only-of-type {\n",
       "        vertical-align: middle;\n",
       "    }\n",
       "\n",
       "    .dataframe tbody tr th {\n",
       "        vertical-align: top;\n",
       "    }\n",
       "\n",
       "    .dataframe thead th {\n",
       "        text-align: right;\n",
       "    }\n",
       "</style>\n",
       "<table border=\"1\" class=\"dataframe\">\n",
       "  <thead>\n",
       "    <tr style=\"text-align: right;\">\n",
       "      <th></th>\n",
       "      <th>párafo</th>\n",
       "    </tr>\n",
       "  </thead>\n",
       "  <tbody>\n",
       "    <tr>\n",
       "      <th>0</th>\n",
       "      <td>﻿Nombre: Valeria.\\n</td>\n",
       "    </tr>\n",
       "    <tr>\n",
       "      <th>1</th>\n",
       "      <td>Apellidos: Roca Caballero .\\n</td>\n",
       "    </tr>\n",
       "    <tr>\n",
       "      <th>2</th>\n",
       "      <td>CIPA: nhc-120978.\\n</td>\n",
       "    </tr>\n",
       "    <tr>\n",
       "      <th>3</th>\n",
       "      <td>NASS: 21 98731245 98.\\n</td>\n",
       "    </tr>\n",
       "  </tbody>\n",
       "</table>\n",
       "</div>"
      ],
      "text/plain": [
       "                          párafo\n",
       "0            ﻿Nombre: Valeria.\\n\n",
       "1  Apellidos: Roca Caballero .\\n\n",
       "2            CIPA: nhc-120978.\\n\n",
       "3        NASS: 21 98731245 98.\\n"
      ]
     },
     "execution_count": 107,
     "metadata": {},
     "output_type": "execute_result"
    }
   ],
   "source": [
    "pd.DataFrame([sent.text for sent in doc.sents][:4], columns=[\"párafo\"])\n"
   ]
  },
  {
   "cell_type": "markdown",
   "id": "a6a95774-b262-43e0-bff5-45b672e98e1d",
   "metadata": {
    "slideshow": {
     "slide_type": "subslide"
    },
    "tags": []
   },
   "source": [
    "#### predictor y entidades"
   ]
  },
  {
   "cell_type": "markdown",
   "id": "ebb57a6e-b07f-49a1-8913-ab4decfb02ac",
   "metadata": {
    "slideshow": {
     "slide_type": "fragment"
    },
    "tags": []
   },
   "source": [
    "En una primera fase no tenemos modelos con el cual hacer predicciones.\n",
    "Entonces añadimos la entidades a nuestro objeto ``doc`` usando la function ``meddocan.data.utils.set_ents_from_brat_spans``."
   ]
  },
  {
   "cell_type": "code",
   "execution_count": 128,
   "id": "0e277873-1b3f-43cc-a63a-4c8a259cf5c8",
   "metadata": {
    "slideshow": {
     "slide_type": "fragment"
    },
    "tags": []
   },
   "outputs": [
    {
     "data": {
      "text/html": [
       "<span class=\"tex2jax_ignore\"><div class=\"entities\" style=\"line-height: 2.5; direction: ltr\">﻿Nombre: \n",
       "<mark class=\"entity\" style=\"background: #FF6600; padding: 0.45em 0.6em; margin: 0 0.25em; line-height: 1; border-radius: 0.35em;\">\n",
       "    Valeria\n",
       "    <span style=\"font-size: 0.8em; font-weight: bold; line-height: 1; border-radius: 0.35em; vertical-align: middle; margin-left: 0.5rem\">NOMBRE_SUJETO_ASISTENCIA</span>\n",
       "</mark>\n",
       ".</br>Apellidos: \n",
       "<mark class=\"entity\" style=\"background: #FF6600; padding: 0.45em 0.6em; margin: 0 0.25em; line-height: 1; border-radius: 0.35em;\">\n",
       "    Roca Caballero\n",
       "    <span style=\"font-size: 0.8em; font-weight: bold; line-height: 1; border-radius: 0.35em; vertical-align: middle; margin-left: 0.5rem\">NOMBRE_SUJETO_ASISTENCIA</span>\n",
       "</mark>\n",
       " .</br>CIPA: nhc-\n",
       "<mark class=\"entity\" style=\"background: #FF9900; padding: 0.45em 0.6em; margin: 0 0.25em; line-height: 1; border-radius: 0.35em;\">\n",
       "    120978\n",
       "    <span style=\"font-size: 0.8em; font-weight: bold; line-height: 1; border-radius: 0.35em; vertical-align: middle; margin-left: 0.5rem\">ID_SUJETO_ASISTENCIA</span>\n",
       "</mark>\n",
       ".</br>NASS: \n",
       "<mark class=\"entity\" style=\"background: #00FF7F; padding: 0.45em 0.6em; margin: 0 0.25em; line-height: 1; border-radius: 0.35em;\">\n",
       "    21 98731245 98\n",
       "    <span style=\"font-size: 0.8em; font-weight: bold; line-height: 1; border-radius: 0.35em; vertical-align: middle; margin-left: 0.5rem\">ID_ASEGURAMIENTO</span>\n",
       "</mark>\n",
       ".</br>Domicilio: \n",
       "<mark class=\"entity\" style=\"background: #ADFF2F; padding: 0.45em 0.6em; margin: 0 0.25em; line-height: 1; border-radius: 0.35em;\">\n",
       "    Calle de la bola 19, 11A\n",
       "    <span style=\"font-size: 0.8em; font-weight: bold; line-height: 1; border-radius: 0.35em; vertical-align: middle; margin-left: 0.5rem\">CALLE</span>\n",
       "</mark>\n",
       ".</br>Localidad/ Provincia: \n",
       "<mark class=\"entity\" style=\"background: #CCFFFF; padding: 0.45em 0.6em; margin: 0 0.25em; line-height: 1; border-radius: 0.35em;\">\n",
       "    Mostoles\n",
       "    <span style=\"font-size: 0.8em; font-weight: bold; line-height: 1; border-radius: 0.35em; vertical-align: middle; margin-left: 0.5rem\">TERRITORIO</span>\n",
       "</mark>\n",
       " \n",
       "<mark class=\"entity\" style=\"background: #CCFFFF; padding: 0.45em 0.6em; margin: 0 0.25em; line-height: 1; border-radius: 0.35em;\">\n",
       "    Madrid\n",
       "    <span style=\"font-size: 0.8em; font-weight: bold; line-height: 1; border-radius: 0.35em; vertical-align: middle; margin-left: 0.5rem\">TERRITORIO</span>\n",
       "</mark>\n",
       ".</br>CP: \n",
       "<mark class=\"entity\" style=\"background: #CCFFFF; padding: 0.45em 0.6em; margin: 0 0.25em; line-height: 1; border-radius: 0.35em;\">\n",
       "    28935\n",
       "    <span style=\"font-size: 0.8em; font-weight: bold; line-height: 1; border-radius: 0.35em; vertical-align: middle; margin-left: 0.5rem\">TERRITORIO</span>\n",
       "</mark>\n",
       ".</br>       NHC: \n",
       "<mark class=\"entity\" style=\"background: #FF9900; padding: 0.45em 0.6em; margin: 0 0.25em; line-height: 1; border-radius: 0.35em;\">\n",
       "    120978\n",
       "    <span style=\"font-size: 0.8em; font-weight: bold; line-height: 1; border-radius: 0.35em; vertical-align: middle; margin-left: 0.5rem\">ID_SUJETO_ASISTENCIA</span>\n",
       "</mark>\n",
       ".</br>Datos asistenciales.</br>Fecha de nacimiento: \n",
       "<mark class=\"entity\" style=\"background: #FFCCFF; padding: 0.45em 0.6em; margin: 0 0.25em; line-height: 1; border-radius: 0.35em;\">\n",
       "    28-05-1989\n",
       "    <span style=\"font-size: 0.8em; font-weight: bold; line-height: 1; border-radius: 0.35em; vertical-align: middle; margin-left: 0.5rem\">FECHAS</span>\n",
       "</mark>\n",
       ".</br>País: \n",
       "<mark class=\"entity\" style=\"background: #FFA07A; padding: 0.45em 0.6em; margin: 0 0.25em; line-height: 1; border-radius: 0.35em;\">\n",
       "    Colombia\n",
       "    <span style=\"font-size: 0.8em; font-weight: bold; line-height: 1; border-radius: 0.35em; vertical-align: middle; margin-left: 0.5rem\">PAIS</span>\n",
       "</mark>\n",
       ".</br>Edad: \n",
       "<mark class=\"entity\" style=\"background: #7FFF00; padding: 0.45em 0.6em; margin: 0 0.25em; line-height: 1; border-radius: 0.35em;\">\n",
       "    29\n",
       "    <span style=\"font-size: 0.8em; font-weight: bold; line-height: 1; border-radius: 0.35em; vertical-align: middle; margin-left: 0.5rem\">EDAD_SUJETO_ASISTENCIA</span>\n",
       "</mark>\n",
       " Sexo: \n",
       "<mark class=\"entity\" style=\"background: #99CCFF; padding: 0.45em 0.6em; margin: 0 0.25em; line-height: 1; border-radius: 0.35em;\">\n",
       "    M\n",
       "    <span style=\"font-size: 0.8em; font-weight: bold; line-height: 1; border-radius: 0.35em; vertical-align: middle; margin-left: 0.5rem\">SEXO_SUJETO_ASISTENCIA</span>\n",
       "</mark>\n",
       ".</br>Fecha de Ingreso: \n",
       "<mark class=\"entity\" style=\"background: #FFCCFF; padding: 0.45em 0.6em; margin: 0 0.25em; line-height: 1; border-radius: 0.35em;\">\n",
       "    1/12/2017\n",
       "    <span style=\"font-size: 0.8em; font-weight: bold; line-height: 1; border-radius: 0.35em; vertical-align: middle; margin-left: 0.5rem\">FECHAS</span>\n",
       "</mark>\n",
       ".</br>Especialidad: Oncología.</br>Médico</div></span>"
      ],
      "text/plain": [
       "<IPython.core.display.HTML object>"
      ]
     },
     "metadata": {},
     "output_type": "display_data"
    }
   ],
   "source": [
    "doc = set_ents_from_brat_spans(doc, brat_spans=brat_spans)\n",
    "displacy.render(doc[:100], style=\"ent\")"
   ]
  },
  {
   "cell_type": "markdown",
   "id": "788fb091-6fd3-43ff-b7e1-240d31ca8169",
   "metadata": {
    "slideshow": {
     "slide_type": "subslide"
    },
    "tags": []
   },
   "source": [
    "#### Write methods"
   ]
  },
  {
   "cell_type": "markdown",
   "id": "f5ce2b04-1ca7-47c8-b1cc-451ca56f49bc",
   "metadata": {
    "slideshow": {
     "slide_type": "fragment"
    },
    "tags": []
   },
   "source": [
    "Para la evaluación, se puede escribir los datos al formato **Brat**"
   ]
  },
  {
   "cell_type": "code",
   "execution_count": 155,
   "id": "7167c70c-c0de-4327-a5a0-dfbe8dd85b9f",
   "metadata": {
    "slideshow": {
     "slide_type": "fragment"
    },
    "tags": []
   },
   "outputs": [
    {
     "name": "stdout",
     "output_type": "stream",
     "text": [
      "T_0\tNOMBRE_SUJETO_ASISTENCIA 9 16\tValeria\n",
      "T_1\tNOMBRE_SUJETO_ASISTENCIA 29 43\tRoca Caballero\n",
      "T_2\tID_SUJETO_ASISTENCIA 56 62\t120978\n",
      "T_3\tID_ASEGURAMIENTO 70 84\t21 98731245 98\n",
      "T_4\tCALLE 97 121\tCalle de la bola 19, 11A\n",
      "T_5\tTERRITORIO 145 153\tMostoles\n",
      "T_6\tTERRITORIO 154 160\tMadrid\n",
      "T_7\tTERRITORIO 166 171\t28935\n",
      "T_8\tID_SUJETO_ASISTENCIA 185 191\t120978\n",
      "T_9\tFECHAS 235 245\t28-05-1989\n",
      "T_10\tPAIS 253 261\tColombia\n",
      "T_11\tEDAD_SUJETO_ASISTENCIA 269 271\t29\n"
     ]
    }
   ],
   "source": [
    "with TemporaryDirectory() as td:\n",
    "    pth = Path(td, \"file.txt\")\n",
    "    doc._.to_ann(pth)\n",
    "    for i, line in enumerate(pth.read_text().split(\"\\n\")):\n",
    "        print(line)\n",
    "        if i > 10:\n",
    "            break"
   ]
  },
  {
   "cell_type": "markdown",
   "id": "fd524dba-1ffb-485b-b419-00ca61976b2c",
   "metadata": {
    "slideshow": {
     "slide_type": "subslide"
    },
    "tags": []
   },
   "source": [
    "Para el entrenamiento, los datos se escriben al formato **conll03**."
   ]
  },
  {
   "cell_type": "code",
   "execution_count": 154,
   "id": "9ce03045-baf2-4118-bfdc-91e4f4fc299e",
   "metadata": {
    "slideshow": {
     "slide_type": "fragment"
    },
    "tags": []
   },
   "outputs": [
    {
     "name": "stdout",
     "output_type": "stream",
     "text": [
      "Nombre O\n",
      ": O\n",
      "Valeria B-NOMBRE_SUJETO_ASISTENCIA\n",
      ". O\n",
      "\n",
      "Apellidos O\n",
      ": O\n",
      "Roca B-NOMBRE_SUJETO_ASISTENCIA\n",
      "Caballero I-NOMBRE_SUJETO_ASISTENCIA\n",
      ". O\n",
      "\n",
      "CIPA O\n"
     ]
    }
   ],
   "source": [
    "with TemporaryDirectory() as td:\n",
    "    pth = Path(td, \"file.txt\")\n",
    "    doc._.to_connl03(pth)\n",
    "    for i, line in enumerate(pth.read_text().split(\"\\n\")):\n",
    "        print(line)\n",
    "        if i > 10:\n",
    "            break"
   ]
  },
  {
   "cell_type": "markdown",
   "id": "e22a0769-e827-4664-89ec-7089de86a52a",
   "metadata": {
    "slideshow": {
     "slide_type": "slide"
    },
    "tags": [],
    "toc-hr-collapsed": true
   },
   "source": [
    "## Entrenamiento con Flair"
   ]
  },
  {
   "cell_type": "markdown",
   "id": "70bd6edb-d67a-4e61-b850-c60d259e1ba4",
   "metadata": {
    "slideshow": {
     "slide_type": "subslide"
    },
    "tags": []
   },
   "source": [
    "### Creación del dataset ``MEDDOCAN``"
   ]
  },
  {
   "cell_type": "markdown",
   "id": "8b320722-086e-4c1b-94c0-02992521ac29",
   "metadata": {
    "slideshow": {
     "slide_type": "fragment"
    },
    "tags": []
   },
   "source": [
    "Los distinctos conjunto de datos"
   ]
  },
  {
   "cell_type": "code",
   "execution_count": 174,
   "id": "50fcb2aa-91cb-49be-ac5a-d39c1d3a9927",
   "metadata": {
    "slideshow": {
     "slide_type": "fragment"
    },
    "tags": []
   },
   "outputs": [
    {
     "data": {
      "text/html": [
       "<div>\n",
       "<style scoped>\n",
       "    .dataframe tbody tr th:only-of-type {\n",
       "        vertical-align: middle;\n",
       "    }\n",
       "\n",
       "    .dataframe tbody tr th {\n",
       "        vertical-align: top;\n",
       "    }\n",
       "\n",
       "    .dataframe thead th {\n",
       "        text-align: right;\n",
       "    }\n",
       "</style>\n",
       "<table border=\"1\" class=\"dataframe\">\n",
       "  <thead>\n",
       "    <tr style=\"text-align: right;\">\n",
       "      <th></th>\n",
       "      <th>sets</th>\n",
       "    </tr>\n",
       "  </thead>\n",
       "  <tbody>\n",
       "    <tr>\n",
       "      <th>0</th>\n",
       "      <td>ArchiveFolder.train</td>\n",
       "    </tr>\n",
       "    <tr>\n",
       "      <th>1</th>\n",
       "      <td>ArchiveFolder.dev</td>\n",
       "    </tr>\n",
       "    <tr>\n",
       "      <th>2</th>\n",
       "      <td>ArchiveFolder.test</td>\n",
       "    </tr>\n",
       "    <tr>\n",
       "      <th>3</th>\n",
       "      <td>ArchiveFolder.sample</td>\n",
       "    </tr>\n",
       "    <tr>\n",
       "      <th>4</th>\n",
       "      <td>ArchiveFolder.background</td>\n",
       "    </tr>\n",
       "  </tbody>\n",
       "</table>\n",
       "</div>"
      ],
      "text/plain": [
       "                       sets\n",
       "0       ArchiveFolder.train\n",
       "1         ArchiveFolder.dev\n",
       "2        ArchiveFolder.test\n",
       "3      ArchiveFolder.sample\n",
       "4  ArchiveFolder.background"
      ]
     },
     "execution_count": 174,
     "metadata": {},
     "output_type": "execute_result"
    }
   ],
   "source": [
    "pd.DataFrame([folder for folder in ArchiveFolder], columns=[\"sets\"])"
   ]
  },
  {
   "cell_type": "markdown",
   "id": "79870bdf-53d3-4911-8261-1c62dd05c52a",
   "metadata": {
    "slideshow": {
     "slide_type": "fragment"
    },
    "tags": []
   },
   "source": [
    "Solo se usan los sets de *train*, *dev* y *test*."
   ]
  },
  {
   "cell_type": "markdown",
   "id": "f7e44644-7048-41c5-a390-641bd1eab8e4",
   "metadata": {
    "slideshow": {
     "slide_type": "subslide"
    },
    "tags": []
   },
   "source": [
    "Utilizamos el objecto ``meddocan.data.docs_iterators.GsDocs`` que nos permitte obtener objectos ``Doc`` usando el ``meddocan_pipeline`` para cada una de los conjuntos de datos."
   ]
  },
  {
   "cell_type": "code",
   "execution_count": 176,
   "id": "a802dff0-d778-4e2b-b52b-e30dc8f9551a",
   "metadata": {
    "slideshow": {
     "slide_type": "fragment"
    },
    "tags": []
   },
   "outputs": [],
   "source": [
    "gs_docs = GsDocs(ArchiveFolder.train)\n",
    "docs_with_brat_pair = iter(gs_docs)\n",
    "doc_with_brat_pair = next(docs_with_brat_pair)"
   ]
  },
  {
   "cell_type": "markdown",
   "id": "1d256247-e4b9-47fb-91d4-034079966c94",
   "metadata": {
    "slideshow": {
     "slide_type": "fragment"
    },
    "tags": []
   },
   "source": [
    "``doc_with_brat_pair`` ayuda a crear el ``MEDDOCAN`` corpus que hereda de ``flair.datasets.ColumnCorpus``.\n",
    "\n",
    "El ``MEDDOCAN`` corpus esta creado a partir de ficheros temporales que contienen el texto asi como los offsets al formato **connl03**."
   ]
  },
  {
   "cell_type": "code",
   "execution_count": 180,
   "id": "71152ae9-5278-41af-9d17-b6629d96f1d4",
   "metadata": {
    "slideshow": {
     "slide_type": "subslide"
    },
    "tags": []
   },
   "outputs": [
    {
     "name": "stdout",
     "output_type": "stream",
     "text": [
      "2023-02-24 12:56:51,190 Reading data from /tmp/tmp3jida_9s\n",
      "2023-02-24 12:56:51,191 Train: /tmp/tmp3jida_9s/train\n",
      "2023-02-24 12:56:51,192 Dev: /tmp/tmp3jida_9s/dev\n",
      "2023-02-24 12:56:51,192 Test: /tmp/tmp3jida_9s/test\n"
     ]
    }
   ],
   "source": [
    "corpus = MEDDOCAN(sentences=True, in_memory=True, document_separator_token=\"-DOCSTART-\")"
   ]
  },
  {
   "cell_type": "code",
   "execution_count": 181,
   "id": "4073d072-6d85-4f80-bfb6-7610e43536d9",
   "metadata": {
    "tags": []
   },
   "outputs": [
    {
     "name": "stdout",
     "output_type": "stream",
     "text": [
      "Corpus: 10811 train + 5518 dev + 5405 test sentences\n"
     ]
    }
   ],
   "source": [
    "print(corpus)"
   ]
  },
  {
   "cell_type": "markdown",
   "id": "c0cd97fe-4924-4662-8495-fafe0687d0f3",
   "metadata": {
    "slideshow": {
     "slide_type": "fragment"
    },
    "tags": []
   },
   "source": [
    "Ahora podemos pasar al entrenamiento!"
   ]
  },
  {
   "cell_type": "markdown",
   "id": "a3d4775b-60ee-4826-a104-bef8e328c0c4",
   "metadata": {
    "slideshow": {
     "slide_type": "slide"
    },
    "tags": []
   },
   "source": [
    "### Transfert learning"
   ]
  },
  {
   "cell_type": "markdown",
   "id": "3b38ec0f-ce39-4a05-bb43-700a3cf05bbe",
   "metadata": {
    "slideshow": {
     "slide_type": "slide"
    },
    "tags": []
   },
   "source": [
    "Comparación entre el aprendizaje supervisado tradicional (izquierda) y el transfer learning (derecha)\n",
    "\n",
    "![transfer-learning](../cdti/figures/transformers-1.png)"
   ]
  },
  {
   "cell_type": "markdown",
   "id": "4a2d791d-a470-40cf-b032-9c3500894cb1",
   "metadata": {
    "slideshow": {
     "slide_type": "slide"
    },
    "tags": []
   },
   "source": [
    "### Flert\n",
    "\n",
    "![Flert](../cdti/figures/flert-1.png)"
   ]
  },
  {
   "cell_type": "markdown",
   "id": "0d2e208e-9350-4ede-b5f5-3034ad78d4b0",
   "metadata": {
    "slideshow": {
     "slide_type": "slide"
    },
    "tags": []
   },
   "source": [
    "* **baseline**\n",
    "\n",
    "    * Flair + LSTM +CRF\n",
    "\n",
    "* **2 enfoques para el NER basados en Transformers**\n",
    "\n",
    "    * Finetuning + linear transformation\n",
    "    * Caractéristica + LSTM + CRF\n",
    "\n"
   ]
  },
  {
   "cell_type": "code",
   "execution_count": null,
   "id": "502ef32d-b2ed-4001-b6d4-09def1ebcb7e",
   "metadata": {},
   "outputs": [],
   "source": []
  },
  {
   "cell_type": "markdown",
   "id": "14f814a8-1d36-418e-af57-1b28144ce767",
   "metadata": {
    "slideshow": {
     "slide_type": "slide"
    },
    "tags": []
   },
   "source": [
    "### Entrenamiento"
   ]
  },
  {
   "cell_type": "markdown",
   "id": "71dd72be-58f3-4344-9a6b-aa38ae485357",
   "metadata": {
    "slideshow": {
     "slide_type": "slide"
    },
    "tags": []
   },
   "source": [
    "## Evaluación"
   ]
  },
  {
   "cell_type": "code",
   "execution_count": 63,
   "id": "6ee7a159-c8d3-4914-b9f4-90010c763849",
   "metadata": {
    "slideshow": {
     "slide_type": "fragment"
    },
    "tags": []
   },
   "outputs": [],
   "source": [
    "gs_docs = GsDocs(ArchiveFolder.train)\n",
    "docs_with_brat_pair = iter(gs_docs)\n",
    "doc_with_brat_pair = next(docs_with_brat_pair)"
   ]
  },
  {
   "cell_type": "code",
   "execution_count": null,
   "id": "4c1acad4-99a9-4128-9aad-186879a8143e",
   "metadata": {},
   "outputs": [],
   "source": []
  }
 ],
 "metadata": {
  "celltoolbar": "Slideshow",
  "kernelspec": {
   "display_name": "Python 3 (ipykernel)",
   "language": "python",
   "name": "python3"
  },
  "language_info": {
   "codemirror_mode": {
    "name": "ipython",
    "version": 3
   },
   "file_extension": ".py",
   "mimetype": "text/x-python",
   "name": "python",
   "nbconvert_exporter": "python",
   "pygments_lexer": "ipython3",
   "version": "3.8.3"
  },
  "toc-autonumbering": true,
  "toc-showmarkdowntxt": false,
  "vscode": {
   "interpreter": {
    "hash": "0f89559bc32b8577479c9159291558d358fde821c77c8596ffd3d3e81e733cec"
   }
  }
 },
 "nbformat": 4,
 "nbformat_minor": 5
}
