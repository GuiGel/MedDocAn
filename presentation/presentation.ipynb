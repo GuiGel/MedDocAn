{
 "cells": [
  {
   "cell_type": "code",
   "execution_count": 1,
   "id": "0dfea9a2-5b8e-48fd-967a-b884a58997dd",
   "metadata": {
    "slideshow": {
     "slide_type": "skip"
    },
    "tags": []
   },
   "outputs": [],
   "source": [
    "from pathlib import Path\n",
    "from typing import List, Tuple\n",
    "from tempfile import TemporaryDirectory\n",
    "\n",
    "import pandas as pd\n",
    "from spacy import displacy\n",
    "\n",
    "from meddocan.data import meddocan_zip, ArchiveFolder\n",
    "from meddocan.data.containers import BratAnnotations, BratFilesPair, BratSpan\n",
    "from meddocan.data.docs_iterators import GsDocs\n",
    "from meddocan.language.pipeline import meddocan_pipeline\n",
    "from meddocan.data import meddocan_url, meddocan_zip, ArchiveFolder\n",
    "from meddocan.data.docs_iterators import BratAnnotations, GsDocs\n",
    "from meddocan.data.utils import set_ents_from_brat_spans\n",
    "from meddocan.data.corpus import MEDDOCAN"
   ]
  },
  {
   "cell_type": "markdown",
   "id": "aeaf83e4",
   "metadata": {
    "slideshow": {
     "slide_type": "slide"
    },
    "tags": []
   },
   "source": [
    "# MEDDOCAN: Anonimización aplicada al ámbito médico"
   ]
  },
  {
   "cell_type": "markdown",
   "id": "bf3a949a-0c2e-4863-909f-363d9afc3a72",
   "metadata": {
    "slideshow": {
     "slide_type": "slide"
    },
    "tags": []
   },
   "source": [
    "## Introducción"
   ]
  },
  {
   "cell_type": "markdown",
   "id": "ae0d6c74-ebb6-483f-aff6-94e8f677173a",
   "metadata": {
    "slideshow": {
     "slide_type": "fragment"
    },
    "tags": []
   },
   "source": [
    "* Medical Document Anonymization Track (track 9 of the <abbr title=\"Iberian Languages Evaluation Forum 2019\"> [IberLEF 2019](http://ceur-ws.org/Vol-2421/)).</abbr>.\n",
    "\n",
    "    Detectar automaticamente la información sanitaria protegida (PHI)"
   ]
  },
  {
   "cell_type": "markdown",
   "id": "a0e4d75e-7c63-4cb2-b09a-8e1ddf95bb7b",
   "metadata": {
    "slideshow": {
     "slide_type": "fragment"
    },
    "tags": []
   },
   "source": [
    "* ¿Como?\n",
    "\n",
    "    Name Entity Recognition con methodos de Transfer Learning basados en los transformadores\n"
   ]
  },
  {
   "cell_type": "markdown",
   "id": "cb04d87f-5fef-4f02-9576-db32356f87d1",
   "metadata": {
    "slideshow": {
     "slide_type": "subslide"
    },
    "tags": [],
    "toc-hr-collapsed": true
   },
   "source": [
    "## Dataset"
   ]
  },
  {
   "cell_type": "markdown",
   "id": "bb00ff69-fda8-4c4e-8c5a-196e9db66683",
   "metadata": {
    "slideshow": {
     "slide_type": "subslide"
    },
    "tags": []
   },
   "source": [
    "* Visualización de los datos"
   ]
  },
  {
   "cell_type": "markdown",
   "id": "8bcb590d-cb12-4899-b812-3923041075a4",
   "metadata": {
    "slideshow": {
     "slide_type": "fragment"
    },
    "tags": []
   },
   "source": [
    "![Figure 1: An example of MEDDOCAN annotation visualized using the BRAT annotation interface.](https://temu.bsc.es/meddocan/wp-content/uploads/2019/03/image-1-1024x922.png)"
   ]
  },
  {
   "cell_type": "markdown",
   "id": "933058bb-a60c-4616-bb48-268ff621a059",
   "metadata": {
    "slideshow": {
     "slide_type": "subslide"
    },
    "tags": []
   },
   "source": [
    "* Distribución del tipo de entidad entre los juegos de datos"
   ]
  },
  {
   "cell_type": "markdown",
   "id": "64e960ec-8db5-43c5-9b0c-87241840525d",
   "metadata": {
    "slideshow": {
     "slide_type": "fragment"
    },
    "tags": []
   },
   "source": [
    "|               Tipo               | Train | Dev | Test | Total |\n",
    "| :------------------------------: | :---: | :-: | :--: | :---: |\n",
    "|            TERRITORIO            | 1875  | 987 | 956  | 3818  |\n",
    "|              FECHAS              | 1231  | 724 | 611  | 2566  |\n",
    "|      EDAD SUJETO ASISTENCIA      | 1035  | 521 | 518  | 2074  |\n",
    "|     NOMBRE SUJETO ASISTENCIA     | 1009  | 503 | 502  | 2014  |\n",
    "|    NOMBRE PERSONAL SANITARIO     | 1000  | 497 | 501  | 1998  |\n",
    "|      SEXO SUJETO ASISTENCIA      |  925  | 455 | 461  | 1841  |\n",
    "|              CALLE               |  862  | 434 | 413  | 1709  |\n",
    "|               PAIS               |  713  | 347 | 363  | 1423  |\n",
    "|       ID SUJETO ASISTENCIA       |  567  | 292 | 283  | 1142  |\n",
    "|        CORREO ELECTRONICO        |  469  | 241 | 249  |  959  |\n",
    "| ID TITULACION PERSONAL SANITARIO |  471  | 226 | 234  |  931  |\n",
    "|         ID ASEGURAMIENTO         |  391  | 194 | 198  |  783  |\n",
    "|             HOSPITAL             |  255  | 140 | 130  |  525  |\n",
    "|   FAMILIARES SUJETO ASISTENCIA   |  243  | 92  |  81  |  416  |\n",
    "|           INSTITUCION            |  98   | 72  |  67  |  237  |\n",
    "|     ID CONTACTO ASISTENCIAL      |  77   | 32  |  39  |  148  |\n",
    "|         NUMERO TELEFONO          |  58   | 25  |  26  |  109  |\n",
    "|            PROFESION             |  24   |  4  |  9   |  37   |\n",
    "|            NUMERO FAX            |  15   |  6  |  7   |  28   |\n",
    "|     OTROS SUJETO ASISTENCIA      |   9   |  6  |  7   |  22   |\n",
    "|           CENTRO SALUD           |   6   |  2  |  6   |  14   |\n",
    "|   ID EMPLEO PERSONAL SANITARIO   |   0   |  1  |  0   |   1   |\n",
    "| IDENTIF VEHICULOS NRSERIE PLACAS |   0   |  0  |  0   |   0   |\n",
    "|   IDENTIF DISPOSITIVOS NRSERIE   |   0   |  0  |  0   |   0   |\n",
    "|     NUMERO BENEF PLAN SALUD      |   0   |  0  |  0   |   0   |\n",
    "|             URL WEB              |   0   |  0  |  0   |   0   |\n",
    "|       DIREC PROT INTERNET        |   0   |  0  |  0   |   0   |\n",
    "|        IDENTF BIOMETRICOS        |   0   |  0  |  0   |   0   |\n",
    "|       OTRO NUMERO IDENTIF        |   0   |  0  |  0   |   0   |"
   ]
  },
  {
   "cell_type": "markdown",
   "id": "a68b8a39-2d59-4007-b772-5641cf15bee2",
   "metadata": {
    "slideshow": {
     "slide_type": "subslide"
    },
    "tags": []
   },
   "source": [
    "* **Código**"
   ]
  },
  {
   "cell_type": "markdown",
   "id": "34a66d7d-0520-4c74-b546-fec00aa785e3",
   "metadata": {
    "slideshow": {
     "slide_type": "fragment"
    },
    "tags": []
   },
   "source": [
    "El paquete ``meddocan.data`` proporciona clases y funciones para tratar con los conjuntos de datos originales de\n",
    "meddocan en la web."
   ]
  },
  {
   "cell_type": "markdown",
   "id": "285f9624-ce45-43f7-a714-56707a04647c",
   "metadata": {
    "slideshow": {
     "slide_type": "fragment"
    },
    "tags": []
   },
   "source": [
    "- `meddocan.data.meddocan_url` contiene el enlace url para llegar a las carpetas de datos comprimidas."
   ]
  },
  {
   "cell_type": "code",
   "execution_count": 2,
   "id": "a28fbd97-e635-475e-8f57-d5617521f488",
   "metadata": {
    "slideshow": {
     "slide_type": "fragment"
    },
    "tags": []
   },
   "outputs": [
    {
     "data": {
      "text/plain": [
       "MeddocanUrl(sample='http://temu.bsc.es/meddocan/wp-content/uploads/2019/03/sample-set.zip', train='http://temu.bsc.es/meddocan/wp-content/uploads/2019/03/train-set.zip', dev='http://temu.bsc.es/meddocan/wp-content/uploads/2019/04/dev-set-1.zip', test='http://temu.bsc.es/meddocan/wp-content/uploads/2019/05/test-set.zip', background='http://temu.bsc.es/meddocan/wp-content/uploads/2019/10/background-set.zip', base='http://temu.bsc.es/meddocan/wp-content/uploads/2019')"
      ]
     },
     "execution_count": 2,
     "metadata": {},
     "output_type": "execute_result"
    }
   ],
   "source": [
    "meddocan_url"
   ]
  },
  {
   "cell_type": "markdown",
   "id": "cd5ecdd9-3507-4159-a9b5-03d5e0ddfb02",
   "metadata": {
    "slideshow": {
     "slide_type": "subslide"
    },
    "tags": []
   },
   "source": [
    "* `meddocan.data.meddocan_zip` obtiene el par de archivos brat para\n",
    "una carpeta determinada del conjunto de datos en caché a través de su método ``brat_files``."
   ]
  },
  {
   "cell_type": "code",
   "execution_count": 3,
   "id": "f594e89b-31b4-444d-b5de-8aed56e1e7cd",
   "metadata": {
    "slideshow": {
     "slide_type": "fragment"
    },
    "tags": []
   },
   "outputs": [],
   "source": [
    "brat_files_pairs = meddocan_zip.brat_files(ArchiveFolder.train)"
   ]
  },
  {
   "cell_type": "code",
   "execution_count": 4,
   "id": "3ba6a040-6838-413f-b108-57fa99d0ec1c",
   "metadata": {
    "slideshow": {
     "slide_type": "fragment"
    },
    "tags": []
   },
   "outputs": [],
   "source": [
    "brat_files_pair = next(brat_files_pairs)"
   ]
  },
  {
   "cell_type": "code",
   "execution_count": 5,
   "id": "1b4f3fea-5455-4de7-9eeb-49fd8501abff",
   "metadata": {
    "slideshow": {
     "slide_type": "fragment"
    },
    "tags": []
   },
   "outputs": [
    {
     "data": {
      "text/plain": [
       "Path('/home/wave/.meddocan/datasets/meddocan/train-set.zip', 'train/brat/S0004-06142005000500011-1.txt')"
      ]
     },
     "execution_count": 5,
     "metadata": {},
     "output_type": "execute_result"
    }
   ],
   "source": [
    "brat_files_pair.txt"
   ]
  },
  {
   "cell_type": "code",
   "execution_count": 6,
   "id": "5dd7ed04-8fae-4b2e-83a5-88c93a678263",
   "metadata": {
    "slideshow": {
     "slide_type": "fragment"
    },
    "tags": []
   },
   "outputs": [
    {
     "data": {
      "text/plain": [
       "Path('/home/wave/.meddocan/datasets/meddocan/train-set.zip', 'train/brat/S0004-06142005000500011-1.ann')"
      ]
     },
     "execution_count": 6,
     "metadata": {},
     "output_type": "execute_result"
    }
   ],
   "source": [
    "brat_files_pair.ann"
   ]
  },
  {
   "cell_type": "markdown",
   "id": "864e0146-e2c3-4344-a548-9f5a55bbd784",
   "metadata": {
    "slideshow": {
     "slide_type": "slide"
    },
    "tags": []
   },
   "source": [
    "Visualizamos los datos brutos"
   ]
  },
  {
   "cell_type": "code",
   "execution_count": 7,
   "id": "d22c7f69-9166-4bec-afce-029650074cae",
   "metadata": {
    "slideshow": {
     "slide_type": "fragment"
    },
    "tags": []
   },
   "outputs": [],
   "source": [
    "brat_annotations = BratAnnotations.from_brat_files(brat_files_pair)"
   ]
  },
  {
   "cell_type": "markdown",
   "id": "d9d25a00-1abb-43ad-9a44-aa2c911d874c",
   "metadata": {
    "slideshow": {
     "slide_type": "subslide"
    },
    "tags": []
   },
   "source": [
    "- El texto"
   ]
  },
  {
   "cell_type": "code",
   "execution_count": 11,
   "id": "4d27b4eb-704e-4556-bb41-7b74250cefba",
   "metadata": {
    "slideshow": {
     "slide_type": "fragment"
    },
    "tags": []
   },
   "outputs": [
    {
     "data": {
      "text/plain": [
       "'Datos del paciente.\\nNombre:  Ernesto.\\nApellidos: Rivera Bueno.\\nNHC: 368503.\\nNASS: 26 63514095.\\nDomicilio:  Calle Miguel Benitez 90.\\nLocalidad/ Provincia: Madrid.\\nCP: 28016.\\nDatos asistenciales.\\nFecha '"
      ]
     },
     "execution_count": 11,
     "metadata": {},
     "output_type": "execute_result"
    }
   ],
   "source": [
    "text = brat_annotations.text; text[:200]"
   ]
  },
  {
   "cell_type": "markdown",
   "id": "38a0462a-b0e4-4e08-a515-f024f306f6f1",
   "metadata": {
    "slideshow": {
     "slide_type": "subslide"
    },
    "tags": []
   },
   "source": [
    "Las anotaciones"
   ]
  },
  {
   "cell_type": "code",
   "execution_count": 13,
   "id": "695f66fb-b945-4512-ad8c-694ee083d64a",
   "metadata": {
    "slideshow": {
     "slide_type": "fragment"
    },
    "tags": []
   },
   "outputs": [
    {
     "data": {
      "text/plain": [
       "[BratSpan(id='T1', entity_type='FECHAS', start=215, end=225, text='03/03/1946'),\n",
       " BratSpan(id='T2', entity_type='CORREO_ELECTRONICO', start=2421, end=2439, text='nnavcu@hotmail.com'),\n",
       " BratSpan(id='T3', entity_type='PAIS', start=2406, end=2412, text='España'),\n",
       " BratSpan(id='T4', entity_type='TERRITORIO', start=2398, end=2404, text='Madrid'),\n",
       " BratSpan(id='T5', entity_type='TERRITORIO', start=2392, end=2397, text='28036')]"
      ]
     },
     "execution_count": 13,
     "metadata": {},
     "output_type": "execute_result"
    }
   ],
   "source": [
    "brat_spans = brat_annotations.brat_spans; brat_spans[:5]"
   ]
  },
  {
   "cell_type": "markdown",
   "id": "57417ec4-f458-44bb-8240-d1253278cc92",
   "metadata": {
    "slideshow": {
     "slide_type": "slide"
    },
    "tags": []
   },
   "source": [
    "### Preprocessamiento"
   ]
  },
  {
   "cell_type": "markdown",
   "id": "9e93c9da-1a78-4d0f-8ba8-1c9136b31d66",
   "metadata": {
    "slideshow": {
     "slide_type": "fragment"
    },
    "tags": []
   },
   "source": [
    "Para empezar llamamos nuestro pipeline ``meddocan.language.pipeline.meddocan_pipeline`` hecho con [spaCY](https://spacy.io/) y miramos sus componentes."
   ]
  },
  {
   "cell_type": "code",
   "execution_count": 14,
   "id": "8ad9f5d2-94c3-4386-b1f8-8e9259d65550",
   "metadata": {
    "slideshow": {
     "slide_type": "fragment"
    },
    "tags": []
   },
   "outputs": [
    {
     "data": {
      "text/html": [
       "<div>\n",
       "<style scoped>\n",
       "    .dataframe tbody tr th:only-of-type {\n",
       "        vertical-align: middle;\n",
       "    }\n",
       "\n",
       "    .dataframe tbody tr th {\n",
       "        vertical-align: top;\n",
       "    }\n",
       "\n",
       "    .dataframe thead th {\n",
       "        text-align: right;\n",
       "    }\n",
       "</style>\n",
       "<table border=\"1\" class=\"dataframe\">\n",
       "  <thead>\n",
       "    <tr style=\"text-align: right;\">\n",
       "      <th></th>\n",
       "      <th>0</th>\n",
       "      <th>1</th>\n",
       "      <th>2</th>\n",
       "      <th>3</th>\n",
       "    </tr>\n",
       "  </thead>\n",
       "  <tbody>\n",
       "    <tr>\n",
       "      <th>componentes</th>\n",
       "      <td>missaligned_splitter</td>\n",
       "      <td>line_sentencizer</td>\n",
       "      <td>predictor</td>\n",
       "      <td>write_methods</td>\n",
       "    </tr>\n",
       "  </tbody>\n",
       "</table>\n",
       "</div>"
      ],
      "text/plain": [
       "                                0                 1          2              3\n",
       "componentes  missaligned_splitter  line_sentencizer  predictor  write_methods"
      ]
     },
     "execution_count": 14,
     "metadata": {},
     "output_type": "execute_result"
    }
   ],
   "source": [
    "nlp = meddocan_pipeline()\n",
    "pd.DataFrame(nlp.pipe_names, columns=[\"componentes\"]).T"
   ]
  },
  {
   "cell_type": "markdown",
   "id": "c34727ff-9166-4e8b-b39c-0146de536c9a",
   "metadata": {
    "slideshow": {
     "slide_type": "fragment"
    },
    "tags": []
   },
   "source": [
    "Vamos a hacer pasar nuestro texto de ejemplo por el ``meddocan_pipeline`` y ver el efecto de cada componente."
   ]
  },
  {
   "cell_type": "code",
   "execution_count": 15,
   "id": "31a5e2c0-8042-4f95-a5a7-2ceea314a17c",
   "metadata": {
    "slideshow": {
     "slide_type": "fragment"
    },
    "tags": []
   },
   "outputs": [],
   "source": [
    "doc = nlp(text)"
   ]
  },
  {
   "cell_type": "markdown",
   "id": "d6beeb0d-d8c1-4021-8c6b-44c73611612b",
   "metadata": {
    "slideshow": {
     "slide_type": "subslide"
    },
    "tags": []
   },
   "source": [
    "#### Tokenización"
   ]
  },
  {
   "cell_type": "code",
   "execution_count": 16,
   "id": "d57b421f-d56e-4c41-8867-38c5ad820ef5",
   "metadata": {
    "slideshow": {
     "slide_type": "fragment"
    },
    "tags": []
   },
   "outputs": [
    {
     "data": {
      "text/html": [
       "<div>\n",
       "<style scoped>\n",
       "    .dataframe tbody tr th:only-of-type {\n",
       "        vertical-align: middle;\n",
       "    }\n",
       "\n",
       "    .dataframe tbody tr th {\n",
       "        vertical-align: top;\n",
       "    }\n",
       "\n",
       "    .dataframe thead th {\n",
       "        text-align: right;\n",
       "    }\n",
       "</style>\n",
       "<table border=\"1\" class=\"dataframe\">\n",
       "  <thead>\n",
       "    <tr style=\"text-align: right;\">\n",
       "      <th></th>\n",
       "      <th>0</th>\n",
       "      <th>1</th>\n",
       "      <th>2</th>\n",
       "      <th>3</th>\n",
       "      <th>4</th>\n",
       "      <th>5</th>\n",
       "      <th>6</th>\n",
       "      <th>7</th>\n",
       "      <th>8</th>\n",
       "      <th>9</th>\n",
       "    </tr>\n",
       "  </thead>\n",
       "  <tbody>\n",
       "    <tr>\n",
       "      <th>token</th>\n",
       "      <td>Datos</td>\n",
       "      <td>del</td>\n",
       "      <td>paciente</td>\n",
       "      <td>.</td>\n",
       "      <td>\\n</td>\n",
       "      <td>Nombre</td>\n",
       "      <td>:</td>\n",
       "      <td></td>\n",
       "      <td>Ernesto</td>\n",
       "      <td>.</td>\n",
       "    </tr>\n",
       "  </tbody>\n",
       "</table>\n",
       "</div>"
      ],
      "text/plain": [
       "           0    1         2  3   4       5  6  7        8  9\n",
       "token  Datos  del  paciente  .  \\n  Nombre  :     Ernesto  ."
      ]
     },
     "execution_count": 16,
     "metadata": {},
     "output_type": "execute_result"
    }
   ],
   "source": [
    "pd.DataFrame([token.text for token in doc[:10]], columns=[\"token\"]).T"
   ]
  },
  {
   "cell_type": "markdown",
   "id": "081d4179-6207-4608-927f-7693cf8f5741",
   "metadata": {
    "slideshow": {
     "slide_type": "fragment"
    },
    "tags": []
   },
   "source": [
    "#### Casos especiales"
   ]
  },
  {
   "cell_type": "code",
   "execution_count": 17,
   "id": "0391aab3-d35e-465f-9d3d-3bb4cc47bd04",
   "metadata": {
    "slideshow": {
     "slide_type": "fragment"
    },
    "tags": []
   },
   "outputs": [
    {
     "data": {
      "text/plain": [
       "[DR, Enric, Lopez]"
      ]
     },
     "execution_count": 17,
     "metadata": {},
     "output_type": "execute_result"
    }
   ],
   "source": [
    "[token for token in nlp(\"DREnric Lopez\")]"
   ]
  },
  {
   "cell_type": "markdown",
   "id": "58edb79f-6091-4032-aa49-a2bc86ffa821",
   "metadata": {
    "slideshow": {
     "slide_type": "subslide"
    },
    "tags": []
   },
   "source": [
    "#### Partición del documento en párafos"
   ]
  },
  {
   "cell_type": "code",
   "execution_count": 18,
   "id": "7f37f67c-668b-4771-acd5-5bea5303ebbb",
   "metadata": {
    "slideshow": {
     "slide_type": "fragment"
    },
    "tags": []
   },
   "outputs": [
    {
     "data": {
      "text/html": [
       "<div>\n",
       "<style scoped>\n",
       "    .dataframe tbody tr th:only-of-type {\n",
       "        vertical-align: middle;\n",
       "    }\n",
       "\n",
       "    .dataframe tbody tr th {\n",
       "        vertical-align: top;\n",
       "    }\n",
       "\n",
       "    .dataframe thead th {\n",
       "        text-align: right;\n",
       "    }\n",
       "</style>\n",
       "<table border=\"1\" class=\"dataframe\">\n",
       "  <thead>\n",
       "    <tr style=\"text-align: right;\">\n",
       "      <th></th>\n",
       "      <th>párafo</th>\n",
       "    </tr>\n",
       "  </thead>\n",
       "  <tbody>\n",
       "    <tr>\n",
       "      <th>0</th>\n",
       "      <td>Datos del paciente.\\n</td>\n",
       "    </tr>\n",
       "    <tr>\n",
       "      <th>1</th>\n",
       "      <td>Nombre:  Ernesto.\\n</td>\n",
       "    </tr>\n",
       "    <tr>\n",
       "      <th>2</th>\n",
       "      <td>Apellidos: Rivera Bueno.\\n</td>\n",
       "    </tr>\n",
       "    <tr>\n",
       "      <th>3</th>\n",
       "      <td>NHC: 368503.\\n</td>\n",
       "    </tr>\n",
       "  </tbody>\n",
       "</table>\n",
       "</div>"
      ],
      "text/plain": [
       "                       párafo\n",
       "0       Datos del paciente.\\n\n",
       "1         Nombre:  Ernesto.\\n\n",
       "2  Apellidos: Rivera Bueno.\\n\n",
       "3              NHC: 368503.\\n"
      ]
     },
     "execution_count": 18,
     "metadata": {},
     "output_type": "execute_result"
    }
   ],
   "source": [
    "pd.DataFrame([sent.text for sent in doc.sents][:4], columns=[\"párafo\"])\n"
   ]
  },
  {
   "cell_type": "markdown",
   "id": "a6a95774-b262-43e0-bff5-45b672e98e1d",
   "metadata": {
    "slideshow": {
     "slide_type": "subslide"
    },
    "tags": []
   },
   "source": [
    "#### predictor y entidades"
   ]
  },
  {
   "cell_type": "markdown",
   "id": "ebb57a6e-b07f-49a1-8913-ab4decfb02ac",
   "metadata": {
    "slideshow": {
     "slide_type": "fragment"
    },
    "tags": []
   },
   "source": [
    "En una primera fase no tenemos modelos con el cual hacer predicciones.\n",
    "Entonces añadimos la entidades a nuestro objeto ``doc`` usando la function ``meddocan.data.utils.set_ents_from_brat_spans``."
   ]
  },
  {
   "cell_type": "code",
   "execution_count": 19,
   "id": "0e277873-1b3f-43cc-a63a-4c8a259cf5c8",
   "metadata": {
    "slideshow": {
     "slide_type": "fragment"
    },
    "tags": []
   },
   "outputs": [
    {
     "data": {
      "text/html": [
       "<span class=\"tex2jax_ignore\"><div class=\"entities\" style=\"line-height: 2.5; direction: ltr\">Datos del paciente.</br>Nombre:  \n",
       "<mark class=\"entity\" style=\"background: #FF6600; padding: 0.45em 0.6em; margin: 0 0.25em; line-height: 1; border-radius: 0.35em;\">\n",
       "    Ernesto\n",
       "    <span style=\"font-size: 0.8em; font-weight: bold; line-height: 1; border-radius: 0.35em; vertical-align: middle; margin-left: 0.5rem\">NOMBRE_SUJETO_ASISTENCIA</span>\n",
       "</mark>\n",
       ".</br>Apellidos: \n",
       "<mark class=\"entity\" style=\"background: #FF6600; padding: 0.45em 0.6em; margin: 0 0.25em; line-height: 1; border-radius: 0.35em;\">\n",
       "    Rivera Bueno\n",
       "    <span style=\"font-size: 0.8em; font-weight: bold; line-height: 1; border-radius: 0.35em; vertical-align: middle; margin-left: 0.5rem\">NOMBRE_SUJETO_ASISTENCIA</span>\n",
       "</mark>\n",
       ".</br>NHC: \n",
       "<mark class=\"entity\" style=\"background: #FF9900; padding: 0.45em 0.6em; margin: 0 0.25em; line-height: 1; border-radius: 0.35em;\">\n",
       "    368503\n",
       "    <span style=\"font-size: 0.8em; font-weight: bold; line-height: 1; border-radius: 0.35em; vertical-align: middle; margin-left: 0.5rem\">ID_SUJETO_ASISTENCIA</span>\n",
       "</mark>\n",
       ".</br>NASS: \n",
       "<mark class=\"entity\" style=\"background: #00FF7F; padding: 0.45em 0.6em; margin: 0 0.25em; line-height: 1; border-radius: 0.35em;\">\n",
       "    26 63514095\n",
       "    <span style=\"font-size: 0.8em; font-weight: bold; line-height: 1; border-radius: 0.35em; vertical-align: middle; margin-left: 0.5rem\">ID_ASEGURAMIENTO</span>\n",
       "</mark>\n",
       ".</br>Domicilio:  \n",
       "<mark class=\"entity\" style=\"background: #ADFF2F; padding: 0.45em 0.6em; margin: 0 0.25em; line-height: 1; border-radius: 0.35em;\">\n",
       "    Calle Miguel Benitez 90\n",
       "    <span style=\"font-size: 0.8em; font-weight: bold; line-height: 1; border-radius: 0.35em; vertical-align: middle; margin-left: 0.5rem\">CALLE</span>\n",
       "</mark>\n",
       ".</br>Localidad/ Provincia: \n",
       "<mark class=\"entity\" style=\"background: #CCFFFF; padding: 0.45em 0.6em; margin: 0 0.25em; line-height: 1; border-radius: 0.35em;\">\n",
       "    Madrid\n",
       "    <span style=\"font-size: 0.8em; font-weight: bold; line-height: 1; border-radius: 0.35em; vertical-align: middle; margin-left: 0.5rem\">TERRITORIO</span>\n",
       "</mark>\n",
       ".</br>CP: \n",
       "<mark class=\"entity\" style=\"background: #CCFFFF; padding: 0.45em 0.6em; margin: 0 0.25em; line-height: 1; border-radius: 0.35em;\">\n",
       "    28016\n",
       "    <span style=\"font-size: 0.8em; font-weight: bold; line-height: 1; border-radius: 0.35em; vertical-align: middle; margin-left: 0.5rem\">TERRITORIO</span>\n",
       "</mark>\n",
       ".</br>Datos asistenciales.</br>Fecha de nacimiento: \n",
       "<mark class=\"entity\" style=\"background: #FFCCFF; padding: 0.45em 0.6em; margin: 0 0.25em; line-height: 1; border-radius: 0.35em;\">\n",
       "    03/03/1946\n",
       "    <span style=\"font-size: 0.8em; font-weight: bold; line-height: 1; border-radius: 0.35em; vertical-align: middle; margin-left: 0.5rem\">FECHAS</span>\n",
       "</mark>\n",
       ".</br>País: \n",
       "<mark class=\"entity\" style=\"background: #FFA07A; padding: 0.45em 0.6em; margin: 0 0.25em; line-height: 1; border-radius: 0.35em;\">\n",
       "    España\n",
       "    <span style=\"font-size: 0.8em; font-weight: bold; line-height: 1; border-radius: 0.35em; vertical-align: middle; margin-left: 0.5rem\">PAIS</span>\n",
       "</mark>\n",
       ".</br>Edad: \n",
       "<mark class=\"entity\" style=\"background: #7FFF00; padding: 0.45em 0.6em; margin: 0 0.25em; line-height: 1; border-radius: 0.35em;\">\n",
       "    70 años\n",
       "    <span style=\"font-size: 0.8em; font-weight: bold; line-height: 1; border-radius: 0.35em; vertical-align: middle; margin-left: 0.5rem\">EDAD_SUJETO_ASISTENCIA</span>\n",
       "</mark>\n",
       " Sexo: \n",
       "<mark class=\"entity\" style=\"background: #99CCFF; padding: 0.45em 0.6em; margin: 0 0.25em; line-height: 1; border-radius: 0.35em;\">\n",
       "    H\n",
       "    <span style=\"font-size: 0.8em; font-weight: bold; line-height: 1; border-radius: 0.35em; vertical-align: middle; margin-left: 0.5rem\">SEXO_SUJETO_ASISTENCIA</span>\n",
       "</mark>\n",
       ".</br>Fecha de Ingreso: \n",
       "<mark class=\"entity\" style=\"background: #FFCCFF; padding: 0.45em 0.6em; margin: 0 0.25em; line-height: 1; border-radius: 0.35em;\">\n",
       "    12/12/2016\n",
       "    <span style=\"font-size: 0.8em; font-weight: bold; line-height: 1; border-radius: 0.35em; vertical-align: middle; margin-left: 0.5rem\">FECHAS</span>\n",
       "</mark>\n",
       ".</br>Médico:  \n",
       "<mark class=\"entity\" style=\"background: #FFD700; padding: 0.45em 0.6em; margin: 0 0.25em; line-height: 1; border-radius: 0.35em;\">\n",
       "    Ignacio Navarro Cuéllar\n",
       "    <span style=\"font-size: 0.8em; font-weight: bold; line-height: 1; border-radius: 0.35em; vertical-align: middle; margin-left: 0.5rem\">NOMBRE_PERSONAL_SANITARIO</span>\n",
       "</mark>\n",
       " NºCol: \n",
       "<mark class=\"entity\" style=\"background: #FF0000; padding: 0.45em 0.6em; margin: 0 0.25em; line-height: 1; border-radius: 0.35em;\">\n",
       "    28 28 70973\n",
       "    <span style=\"font-size: 0.8em; font-weight: bold; line-height: 1; border-radius: 0.35em; vertical-align: middle; margin-left: 0.5rem\">ID_TITULACION_PERSONAL_SANITARIO</span>\n",
       "</mark>\n",
       "</div></span>"
      ],
      "text/plain": [
       "<IPython.core.display.HTML object>"
      ]
     },
     "metadata": {},
     "output_type": "display_data"
    }
   ],
   "source": [
    "doc = set_ents_from_brat_spans(doc, brat_spans=brat_spans)\n",
    "displacy.render(doc[:100], style=\"ent\")"
   ]
  },
  {
   "cell_type": "markdown",
   "id": "788fb091-6fd3-43ff-b7e1-240d31ca8169",
   "metadata": {
    "slideshow": {
     "slide_type": "subslide"
    },
    "tags": []
   },
   "source": [
    "#### Write methods"
   ]
  },
  {
   "cell_type": "markdown",
   "id": "f5ce2b04-1ca7-47c8-b1cc-451ca56f49bc",
   "metadata": {
    "slideshow": {
     "slide_type": "fragment"
    },
    "tags": []
   },
   "source": [
    "Para la evaluación, se puede escribir los datos al formato **Brat**"
   ]
  },
  {
   "cell_type": "code",
   "execution_count": 20,
   "id": "7167c70c-c0de-4327-a5a0-dfbe8dd85b9f",
   "metadata": {
    "slideshow": {
     "slide_type": "fragment"
    },
    "tags": []
   },
   "outputs": [
    {
     "name": "stdout",
     "output_type": "stream",
     "text": [
      "T_0\tNOMBRE_SUJETO_ASISTENCIA 29 36\tErnesto\n",
      "T_1\tNOMBRE_SUJETO_ASISTENCIA 49 61\tRivera Bueno\n",
      "T_2\tID_SUJETO_ASISTENCIA 68 74\t368503\n",
      "T_3\tID_ASEGURAMIENTO 82 93\t26 63514095\n",
      "T_4\tCALLE 107 130\tCalle Miguel Benitez 90\n",
      "T_5\tTERRITORIO 154 160\tMadrid\n",
      "T_6\tTERRITORIO 166 171\t28016\n",
      "T_7\tFECHAS 215 225\t03/03/1946\n",
      "T_8\tPAIS 233 239\tEspaña\n",
      "T_9\tEDAD_SUJETO_ASISTENCIA 247 254\t70 años\n",
      "T_10\tSEXO_SUJETO_ASISTENCIA 261 262\tH\n",
      "T_11\tFECHAS 282 292\t12/12/2016\n"
     ]
    }
   ],
   "source": [
    "with TemporaryDirectory() as td:\n",
    "    pth = Path(td, \"file.txt\")\n",
    "    doc._.to_ann(pth)\n",
    "    for i, line in enumerate(pth.read_text().split(\"\\n\")):\n",
    "        print(line)\n",
    "        if i > 10:\n",
    "            break"
   ]
  },
  {
   "cell_type": "markdown",
   "id": "fd524dba-1ffb-485b-b419-00ca61976b2c",
   "metadata": {
    "slideshow": {
     "slide_type": "subslide"
    },
    "tags": []
   },
   "source": [
    "Para el entrenamiento, los datos se escriben al formato **conll03**."
   ]
  },
  {
   "cell_type": "code",
   "execution_count": 21,
   "id": "9ce03045-baf2-4118-bfdc-91e4f4fc299e",
   "metadata": {
    "slideshow": {
     "slide_type": "fragment"
    },
    "tags": []
   },
   "outputs": [
    {
     "name": "stdout",
     "output_type": "stream",
     "text": [
      "Datos O\n",
      "del O\n",
      "paciente O\n",
      ". O\n",
      "\n",
      "Nombre O\n",
      ": O\n",
      "Ernesto B-NOMBRE_SUJETO_ASISTENCIA\n",
      ". O\n",
      "\n",
      "Apellidos O\n",
      ": O\n"
     ]
    }
   ],
   "source": [
    "with TemporaryDirectory() as td:\n",
    "    pth = Path(td, \"file.txt\")\n",
    "    doc._.to_connl03(pth)\n",
    "    for i, line in enumerate(pth.read_text().split(\"\\n\")):\n",
    "        print(line)\n",
    "        if i > 10:\n",
    "            break"
   ]
  },
  {
   "cell_type": "markdown",
   "id": "e22a0769-e827-4664-89ec-7089de86a52a",
   "metadata": {
    "slideshow": {
     "slide_type": "slide"
    },
    "tags": [],
    "toc-hr-collapsed": true
   },
   "source": [
    "## Entrenamiento con Flair"
   ]
  },
  {
   "cell_type": "markdown",
   "id": "70bd6edb-d67a-4e61-b850-c60d259e1ba4",
   "metadata": {
    "slideshow": {
     "slide_type": "subslide"
    },
    "tags": []
   },
   "source": [
    "### Creación del dataset ``MEDDOCAN``"
   ]
  },
  {
   "cell_type": "markdown",
   "id": "8b320722-086e-4c1b-94c0-02992521ac29",
   "metadata": {
    "slideshow": {
     "slide_type": "fragment"
    },
    "tags": []
   },
   "source": [
    "Los distinctos conjunto de datos"
   ]
  },
  {
   "cell_type": "code",
   "execution_count": 22,
   "id": "50fcb2aa-91cb-49be-ac5a-d39c1d3a9927",
   "metadata": {
    "slideshow": {
     "slide_type": "fragment"
    },
    "tags": []
   },
   "outputs": [
    {
     "data": {
      "text/html": [
       "<div>\n",
       "<style scoped>\n",
       "    .dataframe tbody tr th:only-of-type {\n",
       "        vertical-align: middle;\n",
       "    }\n",
       "\n",
       "    .dataframe tbody tr th {\n",
       "        vertical-align: top;\n",
       "    }\n",
       "\n",
       "    .dataframe thead th {\n",
       "        text-align: right;\n",
       "    }\n",
       "</style>\n",
       "<table border=\"1\" class=\"dataframe\">\n",
       "  <thead>\n",
       "    <tr style=\"text-align: right;\">\n",
       "      <th></th>\n",
       "      <th>sets</th>\n",
       "    </tr>\n",
       "  </thead>\n",
       "  <tbody>\n",
       "    <tr>\n",
       "      <th>0</th>\n",
       "      <td>ArchiveFolder.train</td>\n",
       "    </tr>\n",
       "    <tr>\n",
       "      <th>1</th>\n",
       "      <td>ArchiveFolder.dev</td>\n",
       "    </tr>\n",
       "    <tr>\n",
       "      <th>2</th>\n",
       "      <td>ArchiveFolder.test</td>\n",
       "    </tr>\n",
       "    <tr>\n",
       "      <th>3</th>\n",
       "      <td>ArchiveFolder.sample</td>\n",
       "    </tr>\n",
       "    <tr>\n",
       "      <th>4</th>\n",
       "      <td>ArchiveFolder.background</td>\n",
       "    </tr>\n",
       "  </tbody>\n",
       "</table>\n",
       "</div>"
      ],
      "text/plain": [
       "                       sets\n",
       "0       ArchiveFolder.train\n",
       "1         ArchiveFolder.dev\n",
       "2        ArchiveFolder.test\n",
       "3      ArchiveFolder.sample\n",
       "4  ArchiveFolder.background"
      ]
     },
     "execution_count": 22,
     "metadata": {},
     "output_type": "execute_result"
    }
   ],
   "source": [
    "pd.DataFrame([folder for folder in ArchiveFolder], columns=[\"sets\"])"
   ]
  },
  {
   "cell_type": "markdown",
   "id": "79870bdf-53d3-4911-8261-1c62dd05c52a",
   "metadata": {
    "slideshow": {
     "slide_type": "fragment"
    },
    "tags": []
   },
   "source": [
    "Solo se usan los sets de *train*, *dev* y *test*."
   ]
  },
  {
   "cell_type": "markdown",
   "id": "f7e44644-7048-41c5-a390-641bd1eab8e4",
   "metadata": {
    "slideshow": {
     "slide_type": "subslide"
    },
    "tags": []
   },
   "source": [
    "Utilizamos el objecto ``meddocan.data.docs_iterators.GsDocs`` que nos permitte obtener objectos ``Doc`` usando el ``meddocan_pipeline`` para cada una de los conjuntos de datos."
   ]
  },
  {
   "cell_type": "code",
   "execution_count": 23,
   "id": "a802dff0-d778-4e2b-b52b-e30dc8f9551a",
   "metadata": {
    "slideshow": {
     "slide_type": "fragment"
    },
    "tags": []
   },
   "outputs": [],
   "source": [
    "gs_docs = GsDocs(ArchiveFolder.train)\n",
    "docs_with_brat_pair = iter(gs_docs)\n",
    "doc_with_brat_pair = next(docs_with_brat_pair)"
   ]
  },
  {
   "cell_type": "markdown",
   "id": "1d256247-e4b9-47fb-91d4-034079966c94",
   "metadata": {
    "slideshow": {
     "slide_type": "fragment"
    },
    "tags": []
   },
   "source": [
    "``doc_with_brat_pair`` ayuda a crear el ``MEDDOCAN`` corpus que hereda de ``flair.datasets.ColumnCorpus``.\n",
    "\n",
    "El ``MEDDOCAN`` corpus esta creado a partir de ficheros temporales que contienen el texto asi como los offsets al formato **connl03**."
   ]
  },
  {
   "cell_type": "code",
   "execution_count": 24,
   "id": "71152ae9-5278-41af-9d17-b6629d96f1d4",
   "metadata": {
    "slideshow": {
     "slide_type": "subslide"
    },
    "tags": []
   },
   "outputs": [
    {
     "name": "stdout",
     "output_type": "stream",
     "text": [
      "2023-02-27 10:54:13,435 Reading data from /tmp/tmpc7969u4s\n",
      "2023-02-27 10:54:13,435 Train: /tmp/tmpc7969u4s/train\n",
      "2023-02-27 10:54:13,436 Dev: /tmp/tmpc7969u4s/dev\n",
      "2023-02-27 10:54:13,436 Test: /tmp/tmpc7969u4s/test\n"
     ]
    }
   ],
   "source": [
    "corpus = MEDDOCAN(sentences=True, in_memory=True, document_separator_token=\"-DOCSTART-\")"
   ]
  },
  {
   "cell_type": "code",
   "execution_count": 26,
   "id": "4073d072-6d85-4f80-bfb6-7610e43536d9",
   "metadata": {
    "tags": []
   },
   "outputs": [
    {
     "name": "stdout",
     "output_type": "stream",
     "text": [
      "Corpus: 10811 train + 5518 dev + 5405 test sentences\n"
     ]
    }
   ],
   "source": [
    "print(corpus)"
   ]
  },
  {
   "cell_type": "markdown",
   "id": "c0cd97fe-4924-4662-8495-fafe0687d0f3",
   "metadata": {
    "slideshow": {
     "slide_type": "fragment"
    },
    "tags": []
   },
   "source": [
    "Ahora podemos pasar al entrenamiento!"
   ]
  },
  {
   "cell_type": "markdown",
   "id": "a3d4775b-60ee-4826-a104-bef8e328c0c4",
   "metadata": {
    "slideshow": {
     "slide_type": "slide"
    },
    "tags": []
   },
   "source": [
    "### Transfert learning"
   ]
  },
  {
   "cell_type": "markdown",
   "id": "3b38ec0f-ce39-4a05-bb43-700a3cf05bbe",
   "metadata": {
    "slideshow": {
     "slide_type": "slide"
    },
    "tags": []
   },
   "source": [
    "Comparación entre el aprendizaje supervisado tradicional (izquierda) y el transfer learning (derecha)\n",
    "\n",
    "![transfer-learning](../cdti/figures/transformers-1.png)"
   ]
  },
  {
   "cell_type": "markdown",
   "id": "4a2d791d-a470-40cf-b032-9c3500894cb1",
   "metadata": {
    "slideshow": {
     "slide_type": "slide"
    },
    "tags": []
   },
   "source": [
    "### Flert ([Flair](https://github.com/flairNLP/flair))\n",
    "\n",
    "![Flert](../cdti/figures/flert-1.png)"
   ]
  },
  {
   "cell_type": "markdown",
   "id": "0d2e208e-9350-4ede-b5f5-3034ad78d4b0",
   "metadata": {
    "slideshow": {
     "slide_type": "slide"
    },
    "tags": []
   },
   "source": [
    "* **baseline**\n",
    "\n",
    "    * Flair + LSTM +CRF\n",
    "\n",
    "* **2 enfoques para el NER basados en Transformers**\n",
    "\n",
    "    * Finetuning + linear transformation\n",
    "    * Caractéristica + LSTM + CRF\n",
    "\n"
   ]
  },
  {
   "cell_type": "markdown",
   "id": "2099383c-7a74-43e5-a496-5fa4359952ff",
   "metadata": {
    "slideshow": {
     "slide_type": "slide"
    },
    "tags": []
   },
   "source": [
    "* Entrenamiento: **Flair + LSTM-CRF**\n",
    "\n",
    "![training flair](../cdti/figures/flair-1.png)"
   ]
  },
  {
   "cell_type": "markdown",
   "id": "6a834072-2a10-46ad-9727-cc503f35173e",
   "metadata": {
    "slideshow": {
     "slide_type": "slide"
    },
    "tags": []
   },
   "source": [
    "    * procedimiento de entrenamiento\n",
    "\n",
    "\n",
    "|     Parameter      |       Value       |\n",
    "| :----------------: | :---------------: |\n",
    "|   Learning rate    |        0.1        |\n",
    "|  Mini Batch size   |         4         |\n",
    "|     Max epochs     |        150        |\n",
    "|     Optimizer      |        SGD        |\n",
    "|     Scheduler      | Anneal On Plateau |"
   ]
  },
  {
   "cell_type": "markdown",
   "id": "ad456aaf-7cd0-4a49-9226-454a5e886ba2",
   "metadata": {
    "slideshow": {
     "slide_type": "slide"
    },
    "tags": []
   },
   "source": [
    "* Entrenamiento: **Método de ajuste fino**\n",
    "\n",
    " Agrupación de subpalabras para crear representaciones a nivel de tokens que luego se pasan a la capa lineal final\n",
    "![training finetuning](../cdti/figures/flert-2.png)"
   ]
  },
  {
   "cell_type": "markdown",
   "id": "88342b34-1da3-4271-9b70-faf1567d9eb1",
   "metadata": {
    "slideshow": {
     "slide_type": "subslide"
    },
    "tags": []
   },
   "source": [
    "    * BETO\n",
    "\n",
    "|     Parameter      |              Value              |\n",
    "| :----------------: | :-----------------------------: |\n",
    "| Transformer layers |              last               |\n",
    "|   Learning rate    |              5e-6               |\n",
    "|  Mini Batch size   |                4                |\n",
    "|     Max epochs     |               150               |\n",
    "|     Optimizer      |              AdamW              |\n",
    "|     Scheduler      | Linear Warmup With Linear Decay |\n",
    "|       Warmup       |               0.1               |\n",
    "|  Subword pooling   |              first              |"
   ]
  },
  {
   "cell_type": "markdown",
   "id": "a3bc8b23-bcf2-48ff-9856-155402cbba93",
   "metadata": {
    "slideshow": {
     "slide_type": "fragment"
    },
    "tags": []
   },
   "source": [
    "    * XLM RoBERTa Large\n",
    "\n",
    "|     Parameter      |              Value              |\n",
    "| :----------------: | :-----------------------------: |\n",
    "| Transformer layers |              last               |\n",
    "|   Learning rate    |              5e-6               |\n",
    "|  Mini Batch size   |                4                |\n",
    "|     Max epochs     |               40                |\n",
    "|     Optimizer      |              AdamW              |\n",
    "|     Scheduler      | Linear Warmup With Linear Decay |\n",
    "|       Warmup       |               0.1               |\n",
    "|  Subword pooling   |              first              |"
   ]
  },
  {
   "cell_type": "markdown",
   "id": "bdde6be7-4a38-444d-9599-c28771c22398",
   "metadata": {
    "slideshow": {
     "slide_type": "slide"
    },
    "tags": []
   },
   "source": [
    "* Entrenamiento: **Método basado en características**\n",
    "\n",
    "![training feature based](../cdti/figures/flert-3.png)"
   ]
  },
  {
   "cell_type": "markdown",
   "id": "b4db9885-8b1e-4cd2-9e90-d3a07514cdf1",
   "metadata": {
    "slideshow": {
     "slide_type": "slide"
    },
    "tags": []
   },
   "source": [
    "    * Procedimiento de entrenamiento\n",
    "\n",
    "|     Parameter      |       Value       |\n",
    "| :----------------: | :---------------: |\n",
    "|   Learning rate    |        0.1        |\n",
    "|  Mini Batch size   |         4         |\n",
    "|     Max epochs     |        150        |\n",
    "|     Optimizer      |        SGD        |\n",
    "|     Scheduler      | Anneal On Plateau |"
   ]
  },
  {
   "cell_type": "code",
   "execution_count": null,
   "id": "7eb6b88a-39d7-4edd-a966-6117723ad6bb",
   "metadata": {
    "jp-MarkdownHeadingCollapsed": true,
    "slideshow": {
     "slide_type": "slide"
    },
    "tags": []
   },
   "outputs": [
    {
     "name": "stdout",
     "output_type": "stream",
     "text": [
      "TensorFlow installation not found - running with reduced feature set.\n",
      "\n",
      "NOTE: Using experimental fast data loading logic. To disable, pass\n",
      "    \"--load_fast=false\" and report issues on GitHub. More details:\n",
      "    https://github.com/tensorflow/tensorboard/issues/4784\n",
      "\n",
      "I0227 11:13:45.097182 140381710694144 plugin.py:429] Monitor runs begin\n",
      "Serving TensorBoard on localhost; to expose to the network, use a proxy or pass --bind_all\n",
      "TensorBoard 2.10.1 at http://localhost:6006/ (Press CTRL+C to quit)\n"
     ]
    }
   ],
   "source": [
    "!tensorboard --logdir ../experiments"
   ]
  },
  {
   "cell_type": "markdown",
   "id": "fab0cb87-d85d-441e-9839-ba3c68bf5ff8",
   "metadata": {
    "slideshow": {
     "slide_type": "slide"
    },
    "tags": []
   },
   "source": [
    "* Entrenamiento: Método basado en características"
   ]
  },
  {
   "cell_type": "markdown",
   "id": "14f814a8-1d36-418e-af57-1b28144ce767",
   "metadata": {
    "slideshow": {
     "slide_type": "slide"
    },
    "tags": []
   },
   "source": [
    "### Entrenamiento"
   ]
  },
  {
   "cell_type": "code",
   "execution_count": null,
   "id": "1db66d5c-7130-4ed8-9003-f3587583d3d2",
   "metadata": {
    "tags": []
   },
   "outputs": [],
   "source": [
    "!cd .. && bash scripts/test-cov.sh"
   ]
  },
  {
   "cell_type": "markdown",
   "id": "71dd72be-58f3-4344-9a6b-aa38ae485357",
   "metadata": {
    "slideshow": {
     "slide_type": "slide"
    },
    "tags": []
   },
   "source": [
    "## Evaluación"
   ]
  },
  {
   "cell_type": "code",
   "execution_count": null,
   "id": "6ee7a159-c8d3-4914-b9f4-90010c763849",
   "metadata": {
    "slideshow": {
     "slide_type": "fragment"
    },
    "tags": []
   },
   "outputs": [],
   "source": [
    "gs_docs = GsDocs(ArchiveFolder.train)\n",
    "docs_with_brat_pair = iter(gs_docs)\n",
    "doc_with_brat_pair = next(docs_with_brat_pair)"
   ]
  },
  {
   "cell_type": "code",
   "execution_count": null,
   "id": "4c1acad4-99a9-4128-9aad-186879a8143e",
   "metadata": {},
   "outputs": [],
   "source": []
  }
 ],
 "metadata": {
  "celltoolbar": "Slideshow",
  "kernelspec": {
   "display_name": "Python 3 (ipykernel)",
   "language": "python",
   "name": "python3"
  },
  "language_info": {
   "codemirror_mode": {
    "name": "ipython",
    "version": 3
   },
   "file_extension": ".py",
   "mimetype": "text/x-python",
   "name": "python",
   "nbconvert_exporter": "python",
   "pygments_lexer": "ipython3",
   "version": "3.8.3"
  },
  "toc-autonumbering": true,
  "toc-showmarkdowntxt": false,
  "vscode": {
   "interpreter": {
    "hash": "0f89559bc32b8577479c9159291558d358fde821c77c8596ffd3d3e81e733cec"
   }
  }
 },
 "nbformat": 4,
 "nbformat_minor": 5
}
